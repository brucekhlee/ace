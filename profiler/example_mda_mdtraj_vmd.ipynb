{
 "cells": [
  {
   "cell_type": "code",
   "execution_count": 13,
   "metadata": {},
   "outputs": [],
   "source": [
    "import MDAnalysis as mda\n",
    "# https://www.mdanalysis.org/\n",
    "\n",
    "\n",
    "# MDAnalysis Method\n",
    "# u = mda.Universe(\"SPIKE_ACE2_mut2.pdb\")\n",
    "# spike = u.select_atoms(\"segid A or segid B or segid C\")\n",
    "# # 62806 is the target number of atoms\n",
    "# print(\"Number of atoms in selection: \", len(spike))\n",
    "# print(spike.center_of_mass())\n",
    "# mdtraj Method\n",
    "\n",
    "traj = mdtraj.load_pdb(\"two_h2o.pdb\")\n",
    "\n",
    "# spike_top = traj.topology\n",
    "\n",
    "# spike_traj = spike_top.select(\"index 1\")\n",
    "\n",
    "# print(spike_traj.xyz)\n",
    "\n",
    "# print(mdtraj.compute_center_of_mass(spike_traj))\n"
   ]
  },
  {
   "cell_type": "code",
   "execution_count": 13,
   "metadata": {},
   "outputs": [
    {
     "name": "stdout",
     "output_type": "stream",
     "text": [
      "How many atoms?    6\n",
      "How many residues? 1\n"
     ]
    }
   ],
   "source": [
    "import mdtraj\n",
    "\n",
    "traj = mdtraj.load_pdb(\"two_h2o.pdb\")\n",
    "print('How many atoms?    %s' % traj.n_atoms)\n",
    "print('How many residues? %s' % traj.n_residues)"
   ]
  },
  {
   "cell_type": "code",
   "execution_count": 14,
   "metadata": {},
   "outputs": [
    {
     "name": "stdout",
     "output_type": "stream",
     "text": [
      "<mdtraj.Topology with 1 chains, 1 residues, 6 atoms, 0 bonds>\n"
     ]
    }
   ],
   "source": [
    "topology = traj.topology\n",
    "print(topology)\n"
   ]
  },
  {
   "cell_type": "code",
   "execution_count": 15,
   "metadata": {},
   "outputs": [
    {
     "name": "stdout",
     "output_type": "stream",
     "text": [
      "[3 4]\n"
     ]
    }
   ],
   "source": [
    "idx=topology.select(\"index 3 4\")\n",
    "print(idx)"
   ]
  },
  {
   "cell_type": "code",
   "execution_count": 30,
   "metadata": {},
   "outputs": [
    {
     "data": {
      "text/plain": [
       "[3]"
      ]
     },
     "execution_count": 30,
     "metadata": {},
     "output_type": "execute_result"
    }
   ],
   "source": [
    "list(idx)\n"
   ]
  },
  {
   "cell_type": "code",
   "execution_count": 39,
   "metadata": {},
   "outputs": [
    {
     "data": {
      "text/plain": [
       "numpy.ndarray"
      ]
     },
     "execution_count": 39,
     "metadata": {},
     "output_type": "execute_result"
    }
   ],
   "source": [
    "type(traj.xyz)"
   ]
  },
  {
   "cell_type": "code",
   "execution_count": 47,
   "metadata": {},
   "outputs": [
    {
     "data": {
      "text/plain": [
       "array([[ 1.3806,  0.9871,  0.8246],\n",
       "       [ 4.6965, -0.672 , -1.5636]], dtype=float32)"
      ]
     },
     "execution_count": 47,
     "metadata": {},
     "output_type": "execute_result"
    }
   ],
   "source": [
    "traj.xyz[0][idx]\n"
   ]
  },
  {
   "cell_type": "code",
   "execution_count": null,
   "metadata": {},
   "outputs": [],
   "source": []
  },
  {
   "cell_type": "code",
   "execution_count": null,
   "metadata": {},
   "outputs": [],
   "source": []
  },
  {
   "cell_type": "code",
   "execution_count": null,
   "metadata": {},
   "outputs": [],
   "source": []
  },
  {
   "cell_type": "code",
   "execution_count": 1,
   "metadata": {},
   "outputs": [],
   "source": [
    "from vmd import atomsel\n",
    "from vmd import molecule\n",
    "# see https://vmd.robinbetz.com/index.html"
   ]
  },
  {
   "cell_type": "code",
   "execution_count": 12,
   "metadata": {},
   "outputs": [
    {
     "name": "stdout",
     "output_type": "stream",
     "text": [
      "all\n"
     ]
    }
   ],
   "source": [
    "molid = molecule.load(\"pdb\", \"two_h2o.pdb\")\n",
    "A = atomsel('all')\n",
    "print(A)\n",
    "#print(A.x,A.y,A.z)"
   ]
  },
  {
   "cell_type": "code",
   "execution_count": null,
   "metadata": {},
   "outputs": [],
   "source": []
  },
  {
   "cell_type": "code",
   "execution_count": 17,
   "metadata": {},
   "outputs": [],
   "source": [
    "from pymol import cmd"
   ]
  },
  {
   "cell_type": "code",
   "execution_count": 19,
   "metadata": {},
   "outputs": [],
   "source": [
    "A=cmd.load(\"two_h2o.pdb\")\n",
    "A"
   ]
  }
 ],
 "metadata": {
  "kernelspec": {
   "display_name": "Python 3",
   "language": "python",
   "name": "python3"
  },
  "language_info": {
   "codemirror_mode": {
    "name": "ipython",
    "version": 3
   },
   "file_extension": ".py",
   "mimetype": "text/x-python",
   "name": "python",
   "nbconvert_exporter": "python",
   "pygments_lexer": "ipython3",
   "version": "3.7.6"
  }
 },
 "nbformat": 4,
 "nbformat_minor": 4
}
