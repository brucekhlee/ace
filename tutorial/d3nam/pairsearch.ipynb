{
 "cells": [
  {
   "cell_type": "code",
   "execution_count": 9,
   "metadata": {},
   "outputs": [],
   "source": [
    "from pymol import cmd\n",
    "import glob"
   ]
  },
  {
   "cell_type": "code",
   "execution_count": 10,
   "metadata": {},
   "outputs": [],
   "source": [
    "d3 = glob.glob(\"/home/khlee/work/docking/d3_nam/InducedFit_7CMU/*.pdb\")\n",
    "d2 = glob.glob(\"/home/khlee/work/docking/d3_nam/InducedFit_d2active/*.pdb\")"
   ]
  },
  {
   "cell_type": "code",
   "execution_count": 11,
   "metadata": {},
   "outputs": [],
   "source": [
    "def align_rms(target1, target2):\n",
    "    cmd.load(target1, \"t1\")\n",
    "    cmd.load(target2, \"t2\")\n",
    "    cmd.align(\"t1\", \"t2\")\n",
    "    _rms = cmd.rms(\"t1 and resn unk\", \"t2 and resn unk\")\n",
    "    cmd.delete(\"all\")\n",
    "    return _rms\n",
    "\n",
    "# target1 = \"d3x-1.pdb\"\n",
    "# target2 = \"d2x-1.pdb\"\n",
    "# print(align_rms(target1, target2))"
   ]
  },
  {
   "cell_type": "code",
   "execution_count": 12,
   "metadata": {},
   "outputs": [],
   "source": [
    "# align_rms('/home/khlee/work/docking/d3_nam/InducedFit_7CMU/d3x-33.pdb', \n",
    "#           '/home/khlee/work/docking/d3_nam/InducedFit_d2active/d2x-14.pdb')"
   ]
  },
  {
   "cell_type": "code",
   "execution_count": 13,
   "metadata": {},
   "outputs": [
    {
     "data": {
      "text/plain": [
       "2.164621353149414"
      ]
     },
     "execution_count": 13,
     "metadata": {},
     "output_type": "execute_result"
    }
   ],
   "source": [
    "align_rms('InducedFit_7CMU/d3x-33.pdb', \n",
    "          '/home/khlee/work/docking/d3_nam/InducedFit_d2active/d2x-15.pdb')"
   ]
  },
  {
   "cell_type": "code",
   "execution_count": 28,
   "metadata": {
    "scrolled": false
   },
   "outputs": [
    {
     "name": "stdout",
     "output_type": "stream",
     "text": [
      "load InducedFit_7CMU/d3x-19.pdb,p_0_d3x-19\n",
      "load InducedFit_d2active/d2x-10.pdb,p_0_d2x-10\n",
      "align p_0_d3x-19,p_0_d2x-10\n",
      "group pair_0,p_0_d3x-19 p_0_d2x-10\n",
      "load InducedFit_7CMU/d3x-17.pdb,p_1_d3x-17\n",
      "load InducedFit_d2active/d2x-26.pdb,p_1_d2x-26\n",
      "align p_1_d3x-17,p_1_d2x-26\n",
      "group pair_1,p_1_d3x-17 p_1_d2x-26\n",
      "load InducedFit_7CMU/d3x-17.pdb,p_2_d3x-17\n",
      "load InducedFit_d2active/d2x-9.pdb,p_2_d2x-9\n",
      "align p_2_d3x-17,p_2_d2x-9\n",
      "group pair_2,p_2_d3x-17 p_2_d2x-9\n",
      "load InducedFit_7CMU/d3x-25.pdb,p_3_d3x-25\n",
      "load InducedFit_d2active/d2x-27.pdb,p_3_d2x-27\n",
      "align p_3_d3x-25,p_3_d2x-27\n",
      "group pair_3,p_3_d3x-25 p_3_d2x-27\n",
      "load InducedFit_7CMU/d3x-25.pdb,p_4_d3x-25\n",
      "load InducedFit_d2active/d2x-8.pdb,p_4_d2x-8\n",
      "align p_4_d3x-25,p_4_d2x-8\n",
      "group pair_4,p_4_d3x-25 p_4_d2x-8\n",
      "load InducedFit_7CMU/d3x-25.pdb,p_5_d3x-25\n",
      "load InducedFit_d2active/d2x-19.pdb,p_5_d2x-19\n",
      "align p_5_d3x-25,p_5_d2x-19\n",
      "group pair_5,p_5_d3x-25 p_5_d2x-19\n",
      "load InducedFit_7CMU/d3x-22.pdb,p_6_d3x-22\n",
      "load InducedFit_d2active/d2x-34.pdb,p_6_d2x-34\n",
      "align p_6_d3x-22,p_6_d2x-34\n",
      "group pair_6,p_6_d3x-22 p_6_d2x-34\n",
      "load InducedFit_7CMU/d3x-9.pdb,p_7_d3x-9\n",
      "load InducedFit_d2active/d2x-28.pdb,p_7_d2x-28\n",
      "align p_7_d3x-9,p_7_d2x-28\n",
      "group pair_7,p_7_d3x-9 p_7_d2x-28\n",
      "load InducedFit_7CMU/d3x-9.pdb,p_8_d3x-9\n",
      "load InducedFit_d2active/d2x-17.pdb,p_8_d2x-17\n",
      "align p_8_d3x-9,p_8_d2x-17\n",
      "group pair_8,p_8_d3x-9 p_8_d2x-17\n",
      "load InducedFit_7CMU/d3x-32.pdb,p_9_d3x-32\n",
      "load InducedFit_d2active/d2x-27.pdb,p_9_d2x-27\n",
      "align p_9_d3x-32,p_9_d2x-27\n",
      "group pair_9,p_9_d3x-32 p_9_d2x-27\n",
      "load InducedFit_7CMU/d3x-32.pdb,p_10_d3x-32\n",
      "load InducedFit_d2active/d2x-10.pdb,p_10_d2x-10\n",
      "align p_10_d3x-32,p_10_d2x-10\n",
      "group pair_10,p_10_d3x-32 p_10_d2x-10\n",
      "load InducedFit_7CMU/d3x-23.pdb,p_11_d3x-23\n",
      "load InducedFit_d2active/d2x-28.pdb,p_11_d2x-28\n",
      "align p_11_d3x-23,p_11_d2x-28\n",
      "group pair_11,p_11_d3x-23 p_11_d2x-28\n",
      "load InducedFit_7CMU/d3x-24.pdb,p_12_d3x-24\n",
      "load InducedFit_d2active/d2x-34.pdb,p_12_d2x-34\n",
      "align p_12_d3x-24,p_12_d2x-34\n",
      "group pair_12,p_12_d3x-24 p_12_d2x-34\n",
      "load InducedFit_7CMU/d3x-11.pdb,p_13_d3x-11\n",
      "load InducedFit_d2active/d2x-3.pdb,p_13_d2x-3\n",
      "align p_13_d3x-11,p_13_d2x-3\n",
      "group pair_13,p_13_d3x-11 p_13_d2x-3\n",
      "load InducedFit_7CMU/d3x-11.pdb,p_14_d3x-11\n",
      "load InducedFit_d2active/d2x-2.pdb,p_14_d2x-2\n",
      "align p_14_d3x-11,p_14_d2x-2\n",
      "group pair_14,p_14_d3x-11 p_14_d2x-2\n",
      "load InducedFit_7CMU/d3x-11.pdb,p_15_d3x-11\n",
      "load InducedFit_d2active/d2x-6.pdb,p_15_d2x-6\n",
      "align p_15_d3x-11,p_15_d2x-6\n",
      "group pair_15,p_15_d3x-11 p_15_d2x-6\n",
      "load InducedFit_7CMU/d3x-11.pdb,p_16_d3x-11\n",
      "load InducedFit_d2active/d2x-1.pdb,p_16_d2x-1\n",
      "align p_16_d3x-11,p_16_d2x-1\n",
      "group pair_16,p_16_d3x-11 p_16_d2x-1\n",
      "load InducedFit_7CMU/d3x-16.pdb,p_17_d3x-16\n",
      "load InducedFit_d2active/d2x-33.pdb,p_17_d2x-33\n",
      "align p_17_d3x-16,p_17_d2x-33\n",
      "group pair_17,p_17_d3x-16 p_17_d2x-33\n",
      "load InducedFit_7CMU/d3x-5.pdb,p_18_d3x-5\n",
      "load InducedFit_d2active/d2x-26.pdb,p_18_d2x-26\n",
      "align p_18_d3x-5,p_18_d2x-26\n",
      "group pair_18,p_18_d3x-5 p_18_d2x-26\n",
      "load InducedFit_7CMU/d3x-5.pdb,p_19_d3x-5\n",
      "load InducedFit_d2active/d2x-9.pdb,p_19_d2x-9\n",
      "align p_19_d3x-5,p_19_d2x-9\n",
      "group pair_19,p_19_d3x-5 p_19_d2x-9\n",
      "load InducedFit_7CMU/d3x-2.pdb,p_20_d3x-2\n",
      "load InducedFit_d2active/d2x-28.pdb,p_20_d2x-28\n",
      "align p_20_d3x-2,p_20_d2x-28\n",
      "group pair_20,p_20_d3x-2 p_20_d2x-28\n",
      "load InducedFit_7CMU/d3x-2.pdb,p_21_d3x-2\n",
      "load InducedFit_d2active/d2x-17.pdb,p_21_d2x-17\n",
      "align p_21_d3x-2,p_21_d2x-17\n",
      "group pair_21,p_21_d3x-2 p_21_d2x-17\n",
      "load InducedFit_7CMU/d3x-15.pdb,p_22_d3x-15\n",
      "load InducedFit_d2active/d2x-30.pdb,p_22_d2x-30\n",
      "align p_22_d3x-15,p_22_d2x-30\n",
      "group pair_22,p_22_d3x-15 p_22_d2x-30\n",
      "load InducedFit_7CMU/d3x-12.pdb,p_23_d3x-12\n",
      "load InducedFit_d2active/d2x-7.pdb,p_23_d2x-7\n",
      "align p_23_d3x-12,p_23_d2x-7\n",
      "group pair_23,p_23_d3x-12 p_23_d2x-7\n",
      "load InducedFit_7CMU/d3x-14.pdb,p_24_d3x-14\n",
      "load InducedFit_d2active/d2x-34.pdb,p_24_d2x-34\n",
      "align p_24_d3x-14,p_24_d2x-34\n",
      "group pair_24,p_24_d3x-14 p_24_d2x-34\n",
      "load InducedFit_7CMU/d3x-21.pdb,p_25_d3x-21\n",
      "load InducedFit_d2active/d2x-34.pdb,p_25_d2x-34\n",
      "align p_25_d3x-21,p_25_d2x-34\n",
      "group pair_25,p_25_d3x-21 p_25_d2x-34\n",
      "load InducedFit_7CMU/d3x-30.pdb,p_26_d3x-30\n",
      "load InducedFit_d2active/d2x-4.pdb,p_26_d2x-4\n",
      "align p_26_d3x-30,p_26_d2x-4\n",
      "group pair_26,p_26_d3x-30 p_26_d2x-4\n",
      "load InducedFit_7CMU/d3x-30.pdb,p_27_d3x-30\n",
      "load InducedFit_d2active/d2x-3.pdb,p_27_d2x-3\n",
      "align p_27_d3x-30,p_27_d2x-3\n",
      "group pair_27,p_27_d3x-30 p_27_d2x-3\n",
      "load InducedFit_7CMU/d3x-30.pdb,p_28_d3x-30\n",
      "load InducedFit_d2active/d2x-2.pdb,p_28_d2x-2\n",
      "align p_28_d3x-30,p_28_d2x-2\n",
      "group pair_28,p_28_d3x-30 p_28_d2x-2\n",
      "load InducedFit_7CMU/d3x-30.pdb,p_29_d3x-30\n",
      "load InducedFit_d2active/d2x-15.pdb,p_29_d2x-15\n",
      "align p_29_d3x-30,p_29_d2x-15\n",
      "group pair_29,p_29_d3x-30 p_29_d2x-15\n",
      "load InducedFit_7CMU/d3x-30.pdb,p_30_d3x-30\n",
      "load InducedFit_d2active/d2x-6.pdb,p_30_d2x-6\n",
      "align p_30_d3x-30,p_30_d2x-6\n",
      "group pair_30,p_30_d3x-30 p_30_d2x-6\n"
     ]
    }
   ],
   "source": [
    "k=0\n",
    "for i in range(len(d3)):\n",
    "    for j in range(len(d2)):\n",
    "        x_rms = align_rms(d3[i], d2[j])\n",
    "        if x_rms < 1.6:\n",
    "            _d3_name = d3[i].replace(\"/home/khlee/work/docking/d3_nam/\",\"\")\n",
    "            _d2_name = d2[j].replace(\"/home/khlee/work/docking/d3_nam/\",\"\")\n",
    "#             print(_d3_name, _d2_name, x_rms)\n",
    "            \n",
    "            _d3pdb=\"p_\"+str(k)+\"_\"+_d3_name.replace(\".pdb\",\"\").replace(\"InducedFit_7CMU/\",\"\")\n",
    "            _d2pdb=\"p_\"+str(k)+\"_\"+_d2_name.replace(\".pdb\",\"\").replace(\"InducedFit_d2active/\",\"\")\n",
    "            print(\"load \"+_d3_name+\",\"+_d3pdb)\n",
    "            print(\"load \"+_d2_name+\",\"+_d2pdb)\n",
    "            print(\"align \"+_d3pdb+\",\"+_d2pdb)\n",
    "            print(\"group pair_\"+str(k)+\",\"+_d3pdb+\" \"+_d2pdb)\n",
    "            k=k+1\n",
    "            "
   ]
  },
  {
   "cell_type": "code",
   "execution_count": 22,
   "metadata": {},
   "outputs": [],
   "source": [
    "# table ... \n",
    "\n",
    "# d3_filename, d2_filename, rms\n",
    "\n",
    "# sorting\n",
    "\n",
    "# save above command into a file"
   ]
  },
  {
   "cell_type": "code",
   "execution_count": null,
   "metadata": {},
   "outputs": [],
   "source": []
  }
 ],
 "metadata": {
  "kernelspec": {
   "display_name": "Python 3",
   "language": "python",
   "name": "python3"
  },
  "language_info": {
   "codemirror_mode": {
    "name": "ipython",
    "version": 3
   },
   "file_extension": ".py",
   "mimetype": "text/x-python",
   "name": "python",
   "nbconvert_exporter": "python",
   "pygments_lexer": "ipython3",
   "version": "3.7.6"
  }
 },
 "nbformat": 4,
 "nbformat_minor": 4
}
