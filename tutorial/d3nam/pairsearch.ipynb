{
 "cells": [
  {
   "cell_type": "code",
   "execution_count": 9,
   "metadata": {},
   "outputs": [],
   "source": [
    "from pymol import cmd\n",
    "import glob\n",
    "import pandas as pd"
   ]
  },
  {
   "cell_type": "code",
   "execution_count": 2,
   "metadata": {},
   "outputs": [],
   "source": [
    "d3 = glob.glob(\"/home/khlee/work/docking/d3_nam/InducedFit_7CMU/*.pdb\")\n",
    "d2 = glob.glob(\"/home/khlee/work/docking/d3_nam/InducedFit_d2active/*.pdb\")"
   ]
  },
  {
   "cell_type": "code",
   "execution_count": 3,
   "metadata": {},
   "outputs": [],
   "source": [
    "def align_rms(target1, target2):\n",
    "    cmd.load(target1, \"t1\")\n",
    "    cmd.load(target2, \"t2\")\n",
    "    cmd.align(\"t1\", \"t2\")\n",
    "    _rms = cmd.rms(\"t1 and resn unk\", \"t2 and resn unk\")\n",
    "    cmd.delete(\"all\")\n",
    "    return _rms\n",
    "\n",
    "# target1 = \"d3x-1.pdb\"\n",
    "# target2 = \"d2x-1.pdb\"\n",
    "# print(align_rms(target1, target2))"
   ]
  },
  {
   "cell_type": "code",
   "execution_count": 6,
   "metadata": {},
   "outputs": [
    {
     "name": "stdout",
     "output_type": "stream",
     "text": [
      " PyMOL not running, entering library mode (experimental)\n"
     ]
    },
    {
     "data": {
      "text/plain": [
       "1.6433496475219727"
      ]
     },
     "execution_count": 6,
     "metadata": {},
     "output_type": "execute_result"
    }
   ],
   "source": [
    "align_rms('/home/khlee/work/docking/d3_nam/InducedFit_7CMU/d3x-33.pdb', \n",
    "          '/home/khlee/work/docking/d3_nam/InducedFit_d2active/d2x-14.pdb')"
   ]
  },
  {
   "cell_type": "code",
   "execution_count": 5,
   "metadata": {},
   "outputs": [
    {
     "ename": "CmdException",
     "evalue": " Error: failed to open file \"InducedFit_7CMU/d3x-33.pdb\"",
     "output_type": "error",
     "traceback": [
      "\u001b[0;31m---------------------------------------------------------------------------\u001b[0m",
      "\u001b[0;31mFileNotFoundError\u001b[0m                         Traceback (most recent call last)",
      "\u001b[0;32m/share/apps/python/anaconda3-2020.02/lib/python3.7/site-packages/pymol/internal.py\u001b[0m in \u001b[0;36mfile_read\u001b[0;34m(finfo, _self)\u001b[0m\n\u001b[1;32m    304\u001b[0m         \u001b[0;32melse\u001b[0m\u001b[0;34m:\u001b[0m\u001b[0;34m\u001b[0m\u001b[0;34m\u001b[0m\u001b[0m\n\u001b[0;32m--> 305\u001b[0;31m             \u001b[0mhandle\u001b[0m \u001b[0;34m=\u001b[0m \u001b[0mopen\u001b[0m\u001b[0;34m(\u001b[0m\u001b[0mfinfo\u001b[0m\u001b[0;34m,\u001b[0m \u001b[0;34m'rb'\u001b[0m\u001b[0;34m)\u001b[0m\u001b[0;34m\u001b[0m\u001b[0;34m\u001b[0m\u001b[0m\n\u001b[0m\u001b[1;32m    306\u001b[0m         \u001b[0mcontents\u001b[0m \u001b[0;34m=\u001b[0m \u001b[0mhandle\u001b[0m\u001b[0;34m.\u001b[0m\u001b[0mread\u001b[0m\u001b[0;34m(\u001b[0m\u001b[0;34m)\u001b[0m\u001b[0;34m\u001b[0m\u001b[0;34m\u001b[0m\u001b[0m\n",
      "\u001b[0;31mFileNotFoundError\u001b[0m: [Errno 2] No such file or directory: 'InducedFit_7CMU/d3x-33.pdb'",
      "\nDuring handling of the above exception, another exception occurred:\n",
      "\u001b[0;31mCmdException\u001b[0m                              Traceback (most recent call last)",
      "\u001b[0;32m<ipython-input-5-1f028b0363cf>\u001b[0m in \u001b[0;36m<module>\u001b[0;34m\u001b[0m\n\u001b[1;32m      1\u001b[0m align_rms('InducedFit_7CMU/d3x-33.pdb', \n\u001b[0;32m----> 2\u001b[0;31m           '/home/khlee/work/docking/d3_nam/InducedFit_d2active/d2x-15.pdb')\n\u001b[0m",
      "\u001b[0;32m<ipython-input-3-389a1c26fda7>\u001b[0m in \u001b[0;36malign_rms\u001b[0;34m(target1, target2)\u001b[0m\n\u001b[1;32m      1\u001b[0m \u001b[0;32mdef\u001b[0m \u001b[0malign_rms\u001b[0m\u001b[0;34m(\u001b[0m\u001b[0mtarget1\u001b[0m\u001b[0;34m,\u001b[0m \u001b[0mtarget2\u001b[0m\u001b[0;34m)\u001b[0m\u001b[0;34m:\u001b[0m\u001b[0;34m\u001b[0m\u001b[0;34m\u001b[0m\u001b[0m\n\u001b[0;32m----> 2\u001b[0;31m     \u001b[0mcmd\u001b[0m\u001b[0;34m.\u001b[0m\u001b[0mload\u001b[0m\u001b[0;34m(\u001b[0m\u001b[0mtarget1\u001b[0m\u001b[0;34m,\u001b[0m \u001b[0;34m\"t1\"\u001b[0m\u001b[0;34m)\u001b[0m\u001b[0;34m\u001b[0m\u001b[0;34m\u001b[0m\u001b[0m\n\u001b[0m\u001b[1;32m      3\u001b[0m     \u001b[0mcmd\u001b[0m\u001b[0;34m.\u001b[0m\u001b[0mload\u001b[0m\u001b[0;34m(\u001b[0m\u001b[0mtarget2\u001b[0m\u001b[0;34m,\u001b[0m \u001b[0;34m\"t2\"\u001b[0m\u001b[0;34m)\u001b[0m\u001b[0;34m\u001b[0m\u001b[0;34m\u001b[0m\u001b[0m\n\u001b[1;32m      4\u001b[0m     \u001b[0mcmd\u001b[0m\u001b[0;34m.\u001b[0m\u001b[0malign\u001b[0m\u001b[0;34m(\u001b[0m\u001b[0;34m\"t1\"\u001b[0m\u001b[0;34m,\u001b[0m \u001b[0;34m\"t2\"\u001b[0m\u001b[0;34m)\u001b[0m\u001b[0;34m\u001b[0m\u001b[0;34m\u001b[0m\u001b[0m\n\u001b[1;32m      5\u001b[0m     \u001b[0m_rms\u001b[0m \u001b[0;34m=\u001b[0m \u001b[0mcmd\u001b[0m\u001b[0;34m.\u001b[0m\u001b[0mrms\u001b[0m\u001b[0;34m(\u001b[0m\u001b[0;34m\"t1 and resn unk\"\u001b[0m\u001b[0;34m,\u001b[0m \u001b[0;34m\"t2 and resn unk\"\u001b[0m\u001b[0;34m)\u001b[0m\u001b[0;34m\u001b[0m\u001b[0;34m\u001b[0m\u001b[0m\n",
      "\u001b[0;32m/share/apps/python/anaconda3-2020.02/lib/python3.7/site-packages/pymol/importing.py\u001b[0m in \u001b[0;36mload\u001b[0;34m(filename, object, state, format, finish, discrete, quiet, multiplex, zoom, partial, mimic, object_props, atom_props, _self)\u001b[0m\n\u001b[1;32m    867\u001b[0m \u001b[0;34m\u001b[0m\u001b[0m\n\u001b[1;32m    868\u001b[0m             \u001b[0;32mif\u001b[0m \u001b[0;34m'contents'\u001b[0m \u001b[0;32min\u001b[0m \u001b[0mspec\u001b[0m\u001b[0;34m.\u001b[0m\u001b[0margs\u001b[0m\u001b[0;34m:\u001b[0m\u001b[0;34m\u001b[0m\u001b[0;34m\u001b[0m\u001b[0m\n\u001b[0;32m--> 869\u001b[0;31m                 \u001b[0mkw\u001b[0m\u001b[0;34m[\u001b[0m\u001b[0;34m'contents'\u001b[0m\u001b[0;34m]\u001b[0m \u001b[0;34m=\u001b[0m \u001b[0m_self\u001b[0m\u001b[0;34m.\u001b[0m\u001b[0mfile_read\u001b[0m\u001b[0;34m(\u001b[0m\u001b[0mfilename\u001b[0m\u001b[0;34m)\u001b[0m\u001b[0;34m\u001b[0m\u001b[0;34m\u001b[0m\u001b[0m\n\u001b[0m\u001b[1;32m    870\u001b[0m \u001b[0;34m\u001b[0m\u001b[0m\n\u001b[1;32m    871\u001b[0m             \u001b[0;32mreturn\u001b[0m \u001b[0mfunc\u001b[0m\u001b[0;34m(\u001b[0m\u001b[0;34m**\u001b[0m\u001b[0mkw\u001b[0m\u001b[0;34m)\u001b[0m\u001b[0;34m\u001b[0m\u001b[0;34m\u001b[0m\u001b[0m\n",
      "\u001b[0;32m/share/apps/python/anaconda3-2020.02/lib/python3.7/site-packages/pymol/internal.py\u001b[0m in \u001b[0;36mfile_read\u001b[0;34m(finfo, _self)\u001b[0m\n\u001b[1;32m    307\u001b[0m         \u001b[0mhandle\u001b[0m\u001b[0;34m.\u001b[0m\u001b[0mclose\u001b[0m\u001b[0;34m(\u001b[0m\u001b[0;34m)\u001b[0m\u001b[0;34m\u001b[0m\u001b[0;34m\u001b[0m\u001b[0m\n\u001b[1;32m    308\u001b[0m     \u001b[0;32mexcept\u001b[0m \u001b[0mIOError\u001b[0m\u001b[0;34m:\u001b[0m\u001b[0;34m\u001b[0m\u001b[0;34m\u001b[0m\u001b[0m\n\u001b[0;32m--> 309\u001b[0;31m         \u001b[0;32mraise\u001b[0m \u001b[0mpymol\u001b[0m\u001b[0;34m.\u001b[0m\u001b[0mCmdException\u001b[0m\u001b[0;34m(\u001b[0m\u001b[0;34m'failed to open file \"%s\"'\u001b[0m \u001b[0;34m%\u001b[0m \u001b[0mfinfo\u001b[0m\u001b[0;34m)\u001b[0m\u001b[0;34m\u001b[0m\u001b[0;34m\u001b[0m\u001b[0m\n\u001b[0m\u001b[1;32m    310\u001b[0m \u001b[0;34m\u001b[0m\u001b[0m\n\u001b[1;32m    311\u001b[0m     \u001b[0;32mif\u001b[0m \u001b[0mcontents\u001b[0m\u001b[0;34m[\u001b[0m\u001b[0;34m:\u001b[0m\u001b[0;36m2\u001b[0m\u001b[0;34m]\u001b[0m \u001b[0;34m==\u001b[0m \u001b[0;34mb'\\x1f\\x8b'\u001b[0m\u001b[0;34m:\u001b[0m \u001b[0;31m# gzip magic number\u001b[0m\u001b[0;34m\u001b[0m\u001b[0;34m\u001b[0m\u001b[0m\n",
      "\u001b[0;31mCmdException\u001b[0m:  Error: failed to open file \"InducedFit_7CMU/d3x-33.pdb\""
     ]
    }
   ],
   "source": [
    "# align_rms('InducedFit_7CMU/d3x-33.pdb', \n",
    "#           '/home/khlee/work/docking/d3_nam/InducedFit_d2active/d2x-15.pdb')"
   ]
  },
  {
   "cell_type": "code",
   "execution_count": null,
   "metadata": {
    "scrolled": false
   },
   "outputs": [
    {
     "name": "stdout",
     "output_type": "stream",
     "text": [
      "load InducedFit_7CMU/d3x-19.pdb,p_0_d3x-19\n",
      "load InducedFit_d2active/d2x-10.pdb,p_0_d2x-10\n",
      "align p_0_d3x-19,p_0_d2x-10\n",
      "group pair_0,p_0_d3x-19 p_0_d2x-10\n",
      "load InducedFit_7CMU/d3x-17.pdb,p_1_d3x-17\n",
      "load InducedFit_d2active/d2x-26.pdb,p_1_d2x-26\n",
      "align p_1_d3x-17,p_1_d2x-26\n",
      "group pair_1,p_1_d3x-17 p_1_d2x-26\n"
     ]
    }
   ],
   "source": [
    "rmsd = []\n",
    "d3_fnames = []\n",
    "d2_fnames = []\n",
    "k=0\n",
    "for i in range(len(d3)):\n",
    "    for j in range(len(d2)):\n",
    "        x_rms = align_rms(d3[i], d2[j])\n",
    "        if x_rms < 1.6:\n",
    "            _d3_name = d3[i].replace(\"/home/khlee/work/docking/d3_nam/\",\"\")\n",
    "            _d2_name = d2[j].replace(\"/home/khlee/work/docking/d3_nam/\",\"\")\n",
    "#             print(_d3_name, _d2_name, x_rms)\n",
    "            d3_fnames.append(_d3_name)\n",
    "            d2_fnames.append(_d2_name)\n",
    "            rmsd.append(x_rms)\n",
    "            _d3pdb=\"p_\"+str(k)+\"_\"+_d3_name.replace(\".pdb\",\"\").replace(\"InducedFit_7CMU/\",\"\")\n",
    "            _d2pdb=\"p_\"+str(k)+\"_\"+_d2_name.replace(\".pdb\",\"\").replace(\"InducedFit_d2active/\",\"\")\n",
    "            print(\"load \"+_d3_name+\",\"+_d3pdb)\n",
    "            print(\"load \"+_d2_name+\",\"+_d2pdb)\n",
    "            print(\"align \"+_d3pdb+\",\"+_d2pdb)\n",
    "            print(\"group pair_\"+str(k)+\",\"+_d3pdb+\" \"+_d2pdb)\n",
    "            k=k+1\n",
    "data = {'d3_filename': d3_fnames, 'd2_filename': d2_fnames, 'rms': rmsd}\n",
    "results = pd.DataFrame(data)"
   ]
  },
  {
   "cell_type": "code",
   "execution_count": 8,
   "metadata": {},
   "outputs": [],
   "source": [
    "# table ... \n",
    "\n",
    "# d3_filename, d2_filename, rms\n",
    "\n",
    "# sorting\n",
    "\n",
    "# save above command into a file"
   ]
  },
  {
   "cell_type": "code",
   "execution_count": null,
   "metadata": {},
   "outputs": [],
   "source": [
    "results.to_csv('pairsearch_results.tsv', sep='\\t', index=False)"
   ]
  }
 ],
 "metadata": {
  "kernelspec": {
   "display_name": "Python 3",
   "language": "python",
   "name": "python3"
  },
  "language_info": {
   "codemirror_mode": {
    "name": "ipython",
    "version": 3
   },
   "file_extension": ".py",
   "mimetype": "text/x-python",
   "name": "python",
   "nbconvert_exporter": "python",
   "pygments_lexer": "ipython3",
   "version": "3.7.6"
  }
 },
 "nbformat": 4,
 "nbformat_minor": 4
}
