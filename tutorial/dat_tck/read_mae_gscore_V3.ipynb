{
 "cells": [
  {
   "cell_type": "markdown",
   "metadata": {},
   "source": [
    "# About this notebook\n",
    "The goal of this notebook is to perform docking analysis.\n",
    "\n",
    "### The general workflow for docking analysis starts with the output .mae files from docking:\n",
    "\n",
    "1) From each unzipped .mae file, rename the title for each pose to contain a mark/label to indicate which pose it is\n",
    "    - Using command line script\n",
    "    \n",
    "2) Convert from .mae to .pdb in command line\n",
    "\n",
    "3) Use PyMol to calculate the rmsd of each pose to reference ligand (lowest rmsd is best)\n",
    "\n",
    "4) Get gscore corresponding to the pose in the pdb and put it in a table with the rmsd and compound ID\n",
    "\n",
    "### Functions in this notebook (see block #4):\n",
    "\n",
    "1) get_mae_gscore\n",
    "    - Input: glob of mae filepaths\n",
    "    - Output: dataframe of 2 columns containing compound ID and gscore\n",
    "    \n",
    "2) align_rms\n",
    "    - Input: reference and target pdb\n",
    "    - Output: rms"
   ]
  },
  {
   "cell_type": "code",
   "execution_count": 1,
   "metadata": {},
   "outputs": [],
   "source": [
    "from pymol import cmd\n",
    "import glob\n",
    "import pandas as pd\n",
    "from os import system\n",
    "import time"
   ]
  },
  {
   "cell_type": "code",
   "execution_count": 2,
   "metadata": {},
   "outputs": [],
   "source": [
    "# define string\n",
    "convert = '/share/apps/schrodinger/suite2021-1/utilities/structconvert '\n",
    "\n",
    "# glob all mae files into single list\n",
    "ref_8088 = \"/home/aguan/docking/8088_reference-1.pdb\"\n",
    "ref_8091 = \"/home/aguan/docking/8091_reference-1.pdb\"\n",
    "\n",
    "tck_8088 = glob.glob('/home/aguan/docking/docking52tcksXP088/glide-dock_XP_JJC8088_52tcks-000*_raw.mae')\n",
    "tck_8091 = glob.glob('/home/aguan/docking/docking52tcksXP088/glide-dock_XP_JJC8091_52tcks-000*_raw.mae')"
   ]
  },
  {
   "cell_type": "code",
   "execution_count": 3,
   "metadata": {},
   "outputs": [],
   "source": [
    "# Given a dataframe from get_rms_table\n",
    "# return a dataframe with 2 columns: compound name and gscore value\n",
    "def get_mae_gscore(df, in_dir = ''):\n",
    "    maes = [a.replace(\".pdb\", \".mae\") for a in df[\"File\"]]\n",
    "    gscore = []\n",
    "    for mae in maes:\n",
    "        with open(in_dir+mae, 'r') as f:\n",
    "            lines = f.readlines()\n",
    "            bar = []\n",
    "            gscore_i = []\n",
    "            header = []\n",
    "            title_i = []\n",
    "            # Grab relevant line indexes\n",
    "            for i in range(len(lines)):\n",
    "                if \"f_m_ct\" in lines[i]:\n",
    "                    header.append(i)\n",
    "                if ':::' in lines[i]:\n",
    "                    bar.append(i)\n",
    "                if \"gscore\" in lines[i]:\n",
    "                    gscore_i.append(i)\n",
    "\n",
    "            # Grab gscore and compound name\n",
    "            for i in range(len(header)):\n",
    "                # Index of bar/section separator immediately after current header line\n",
    "                y = min(a for a in bar if a > header[i])\n",
    "                offset = 0\n",
    "                for j in range(header[i], y):\n",
    "                    if lines[j] == \"\":\n",
    "                        offset+=1\n",
    "                # Index of gscore relative to header line\n",
    "                x = gscore_i[i] - header[i] + offset\n",
    "                \n",
    "                gscore.append(float(lines[x+y]))\n",
    "\n",
    "                # Index of compound name relative to header line\n",
    "#                 x = title_i[i] - header[i]\n",
    "\n",
    "#                 title.append(lines[x+y].replace(\"\\n\", \"\").replace(\" \", \"\"))\n",
    "            f.close()\n",
    "                \n",
    "    df[\"gscore\"] = gscore\n",
    "    return df\n",
    "\n",
    "def align_rms(target1, target2):\n",
    "    cmd.load(target1, \"t1\")\n",
    "    cmd.load(target2, \"t2\")\n",
    "    cmd.align(\"t1\", \"t2\")\n",
    "    _rms = cmd.rms(\"t1 and resn unk\", \"t2 and resn unk\")\n",
    "    cmd.delete(\"all\")\n",
    "    return _rms\n",
    "\n",
    "def get_rms_table(ref, target, cur_dir=''):\n",
    "    name = []\n",
    "    rms = []\n",
    "    file = []\n",
    "    for i in range(len(target)):\n",
    "        name.append(next(open(target[i])).replace(\"\\n\",\"\")[10:])\n",
    "        rms.append(round(align_rms(ref,target[i]),2))\n",
    "        file.append(target[i].replace(cur_dir,\"\"))\n",
    "    data = {\"Name\":name, \"File\":file, \"RMS\":rms}\n",
    "    return pd.DataFrame(data)\n",
    "\n",
    "def get_dir(input_base):\n",
    "    splits = input_base.split('/')\n",
    "    output = ''\n",
    "    for i in range(len(splits)-1):\n",
    "        output += splits[i] + '/'\n",
    "    return output\n",
    "\n",
    "def split_mae(maes, in_dir=''):\n",
    "    for i in range(len(maes)):\n",
    "        outname = \"%s52tcks%d.mae\"%(in_dir,i)\n",
    "        system(\"%s -split-nstructures 1 %s %s\" %(convert, maes[i], outname))\n",
    "\n",
    "def mae_to_pdb(maes):\n",
    "    for mae in maes:\n",
    "        system(\"%s %s %s\"%(convert, mae, mae.replace(\".mae\",\".pdb\")))\n",
    "        \n",
    "def do_analysis(ref, target):\n",
    "    cur_dir = get_dir(target[0])\n",
    "    split_mae(target, cur_dir)\n",
    "    mae_to_pdb(glob.glob(cur_dir+\"52tcks*.mae\"))\n",
    "    df = get_rms_table(ref,glob.glob(cur_dir+\"*.pdb\"), cur_dir)\n",
    "    df = get_mae_gscore(df, cur_dir)\n",
    "    return df"
   ]
  },
  {
   "cell_type": "code",
   "execution_count": 4,
   "metadata": {},
   "outputs": [
    {
     "name": "stdout",
     "output_type": "stream",
     "text": [
      " PyMOL not running, entering library mode (experimental)\n"
     ]
    }
   ],
   "source": [
    "tic = time.time()\n",
    "df_8088 = do_analysis(ref_8088, tck_8088)\n",
    "duration = time.time() - tic\n",
    "print(duration)\n",
    "df_8088 = df_8088.sort_values(by=\"RMS\")\n",
    "df_8088.to_excel('/home/aguan/docking/docking52tcksXP088/8088_results.xls', index=False)"
   ]
  },
  {
   "cell_type": "code",
   "execution_count": 1,
   "metadata": {},
   "outputs": [
    {
     "ename": "NameError",
     "evalue": "name 'do_analysis' is not defined",
     "output_type": "error",
     "traceback": [
      "\u001b[0;31m---------------------------------------------------------------------------\u001b[0m",
      "\u001b[0;31mNameError\u001b[0m                                 Traceback (most recent call last)",
      "\u001b[0;32m<ipython-input-1-b988ccc022e0>\u001b[0m in \u001b[0;36m<module>\u001b[0;34m\u001b[0m\n\u001b[0;32m----> 1\u001b[0;31m \u001b[0mdf_8091\u001b[0m \u001b[0;34m=\u001b[0m \u001b[0mdo_analysis\u001b[0m\u001b[0;34m(\u001b[0m\u001b[0mref_8091\u001b[0m\u001b[0;34m,\u001b[0m \u001b[0mtck_8091\u001b[0m\u001b[0;34m)\u001b[0m\u001b[0;34m\u001b[0m\u001b[0;34m\u001b[0m\u001b[0m\n\u001b[0m\u001b[1;32m      2\u001b[0m \u001b[0mdf_8091\u001b[0m \u001b[0;34m=\u001b[0m \u001b[0mdf_8091\u001b[0m\u001b[0;34m.\u001b[0m\u001b[0msort_values\u001b[0m\u001b[0;34m(\u001b[0m\u001b[0mby\u001b[0m\u001b[0;34m=\u001b[0m\u001b[0;34m\"RMS\"\u001b[0m\u001b[0;34m)\u001b[0m\u001b[0;34m\u001b[0m\u001b[0;34m\u001b[0m\u001b[0m\n\u001b[1;32m      3\u001b[0m \u001b[0mdf_8091\u001b[0m\u001b[0;34m.\u001b[0m\u001b[0mto_excel\u001b[0m\u001b[0;34m(\u001b[0m\u001b[0;34m'/home/aguan/docking/docking52tcksXP091/8091_results.xls'\u001b[0m\u001b[0;34m,\u001b[0m \u001b[0mindex\u001b[0m\u001b[0;34m=\u001b[0m\u001b[0;32mFalse\u001b[0m\u001b[0;34m)\u001b[0m\u001b[0;34m\u001b[0m\u001b[0;34m\u001b[0m\u001b[0m\n",
      "\u001b[0;31mNameError\u001b[0m: name 'do_analysis' is not defined"
     ]
    }
   ],
   "source": [
    "df_8091 = do_analysis(ref_8091, tck_8091)\n",
    "df_8091 = df_8091.sort_values(by=\"RMS\")\n",
    "df_8091.to_excel('/home/aguan/docking/docking52tcksXP091/8091_results.xls', index=False)"
   ]
  },
  {
   "cell_type": "code",
   "execution_count": null,
   "metadata": {},
   "outputs": [],
   "source": []
  }
 ],
 "metadata": {
  "kernelspec": {
   "display_name": "Python 3",
   "language": "python",
   "name": "python3"
  },
  "language_info": {
   "codemirror_mode": {
    "name": "ipython",
    "version": 3
   },
   "file_extension": ".py",
   "mimetype": "text/x-python",
   "name": "python",
   "nbconvert_exporter": "python",
   "pygments_lexer": "ipython3",
   "version": "3.7.6"
  }
 },
 "nbformat": 4,
 "nbformat_minor": 4
}
