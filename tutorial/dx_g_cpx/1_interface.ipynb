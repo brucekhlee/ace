{
 "cells": [
  {
   "cell_type": "code",
   "execution_count": 1,
   "metadata": {},
   "outputs": [
    {
     "name": "stdout",
     "output_type": "stream",
     "text": [
      "0.0\n"
     ]
    }
   ],
   "source": [
    "import pandas as pd\n",
    "import numpy as np\n",
    "\n",
    "import time\n",
    "import multiprocessing\n",
    "from multiprocessing import Process, Pool\n",
    "ncpus = multiprocessing.cpu_count()\n",
    "tic = time.perf_counter()\n",
    "toc = time.perf_counter()\n",
    "treal=round(toc - tic,4)\n",
    "print(treal)\n",
    "\n",
    "\n",
    "import sys, os\n",
    "from pathlib import Path\n",
    "home = str(Path.home())\n",
    "toolset_dir = home+'/repositories/dopamine/toolset'\n",
    "toolset_common = toolset_dir+\"/common\"\n",
    "toolset_gpcr = toolset_dir+\"/gpcr\"\n",
    "sys.path.insert(0, toolset_dir)\n",
    "sys.path.insert(0, toolset_common)\n",
    "sys.path.insert(0, toolset_gpcr)\n",
    "\n",
    "from check import *\n",
    "from parameters_drd3 import *\n",
    "#from common_gpcr import *"
   ]
  },
  {
   "cell_type": "code",
   "execution_count": 2,
   "metadata": {},
   "outputs": [
    {
     "name": "stderr",
     "output_type": "stream",
     "text": [
      "/share/apps/python/anaconda3-2020.02/lib/python3.7/site-packages/MDAnalysis/topology/guessers.py:80: UserWarning: Failed to guess the mass for the following atom types: \n",
      "  warnings.warn(\"Failed to guess the mass for the following atom types: {}\".format(atom_type))\n"
     ]
    }
   ],
   "source": [
    "testingdata_dir=\"/home/khlee/repositories/dopamine/toolset/beta/data\"\n",
    "pdbin = testingdata_dir+\"/drd3_gi_prm_mod.pdb\"\n",
    "dcdin = testingdata_dir+\"/drd3_gi_prm_n10.dcd\"\n",
    "\n",
    "\n",
    "###############################################################\n",
    "from vmd import atomsel\n",
    "from vmd import molecule\n",
    "molid = molecule.load(\"pdb\", pdbin)\n",
    "molecule.read(molid, \"dcd\", dcdin, stride=1, waitfor=-1)\n",
    "nframes = molecule.numframes(molid)  # number of frames (PDB+DCD)\n",
    "last_frame = molecule.numframes(molid) - 1 # last frame\n",
    "# molecule.write(molid, \"pdb\", \"last_frame.pdb\", first=last_frame) # output\n",
    "###############################################################\n",
    "import MDAnalysis as mda\n",
    "u = mda.Universe(pdbin, dcdin)\n",
    "###############################################################"
   ]
  },
  {
   "cell_type": "code",
   "execution_count": 3,
   "metadata": {},
   "outputs": [],
   "source": [
    "# majot function to do the calculation\n",
    "from get_gpcr_interface import *\n",
    "# see /home/khlee/repositories/dopamine/toolset/gpcr/get_gpcr_interface.py\n",
    "\n",
    "\n",
    "# pdbin=argv[1]\n",
    "# dcdin=argv[2]\n",
    "#u = mda.Universe(pdbin, dcdin)\n",
    "output_dir=\"output\"\n",
    "check_output_dir(output_dir)\n",
    "\n",
    "_interface=get_interface(pdbin, dcdin)\n"
   ]
  },
  {
   "cell_type": "code",
   "execution_count": 4,
   "metadata": {},
   "outputs": [
    {
     "data": {
      "text/plain": [
       "[1756.0,\n",
       " 1867.0,\n",
       " 1971.0,\n",
       " 2127.0,\n",
       " 2051.0,\n",
       " 1853.0,\n",
       " 1865.0,\n",
       " 1871.0,\n",
       " 1926.0,\n",
       " 1770.0]"
      ]
     },
     "execution_count": 4,
     "metadata": {},
     "output_type": "execute_result"
    }
   ],
   "source": [
    "_interface"
   ]
  }
 ],
 "metadata": {
  "kernelspec": {
   "display_name": "Python 3",
   "language": "python",
   "name": "python3"
  },
  "language_info": {
   "codemirror_mode": {
    "name": "ipython",
    "version": 3
   },
   "file_extension": ".py",
   "mimetype": "text/x-python",
   "name": "python",
   "nbconvert_exporter": "python",
   "pygments_lexer": "ipython3",
   "version": "3.7.6"
  }
 },
 "nbformat": 4,
 "nbformat_minor": 4
}
