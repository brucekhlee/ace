{
 "cells": [
  {
   "cell_type": "code",
   "execution_count": 1,
   "metadata": {},
   "outputs": [
    {
     "name": "stdout",
     "output_type": "stream",
     "text": [
      "3.7.6 (default, Jan  8 2020, 19:59:22) \n",
      "[GCC 7.3.0]\n"
     ]
    }
   ],
   "source": [
    "## define enviroment\n",
    "import sys, os\n",
    "from pathlib import Path\n",
    "home = str(Path.home())\n",
    "toolset_dir = home+'/repositories/dopamine/toolset'\n",
    "toolset_common = toolset_dir+\"/common\"\n",
    "toolset_gpcr = toolset_dir+\"/gpcr\"\n",
    "sys.path.insert(0, toolset_dir)\n",
    "sys.path.insert(0, toolset_common)\n",
    "sys.path.insert(0, toolset_gpcr)\n",
    "## end define enviroment\n",
    "from dev_gpcr_contact import *\n",
    "#from mkplots import *\n",
    "from plot_master import *\n",
    "\n",
    "\n",
    "sys.path.append('/home/khlee/repositories/pia-x/coupler/scripts')\n",
    "from run import *\n",
    "from _heatmap import *\n",
    "\n",
    "\n",
    "\n",
    "print (sys.version)\n"
   ]
  },
  {
   "cell_type": "code",
   "execution_count": 2,
   "metadata": {},
   "outputs": [],
   "source": [
    "import MDAnalysis as mda\n",
    "import pandas as pd\n",
    "import numpy as np\n",
    "import pickle\n",
    "import glob"
   ]
  },
  {
   "cell_type": "code",
   "execution_count": 3,
   "metadata": {},
   "outputs": [],
   "source": [
    "# configuration\n",
    "\n",
    "testingdata_dir=\"/home/khlee/repositories/dopamine/toolset/beta/data\"\n",
    "\n",
    "# number of unit\n",
    "\n",
    "## Gi case\n",
    "PDB_1=testingdata_dir+\"/drd3_gi_pd_mod.pdb\"\n",
    "DCD_1=testingdata_dir+\"/drd3_gi_pd_n10.dcd\"\n",
    "u_1 = mda.Universe(PDB_1, DCD_1)\n",
    "\n",
    "## Go case\n",
    "PDB_2=testingdata_dir+\"/drd3_go_pd_mod.pdb\"\n",
    "DCD_2=testingdata_dir+\"/drd3_go_pd_n10.dcd\"\n",
    "u_2 = mda.Universe(PDB_2, DCD_2)\n"
   ]
  },
  {
   "cell_type": "code",
   "execution_count": null,
   "metadata": {},
   "outputs": [
    {
     "name": "stdout",
     "output_type": "stream",
     "text": [
      "TIMER: Function completed time is: 8.98761\n",
      "TIMER: Function completed time is: 8.92345\n",
      "TIMER: Function completed time is: 9.01506\n",
      "TIMER: Function completed time is: 9.03597\n"
     ]
    }
   ],
   "source": [
    "## first calculation\n",
    "df_RA_1=get_df_contacts_frequency(u_1, chain1=\"R\", chain2=\"A\")\n",
    "df_RA_2=get_df_contacts_frequency(u_2, chain1=\"R\", chain2=\"A\")\n",
    "df_RB_1=get_df_contacts_frequency(u_1, chain1=\"R\", chain2=\"B\")\n",
    "df_RB_2=get_df_contacts_frequency(u_2, chain1=\"R\", chain2=\"B\")\n",
    "df_AR_1=get_df_contacts_frequency(u_1, chain1=\"A\", chain2=\"R\")\n",
    "df_AR_2=get_df_contacts_frequency(u_2, chain1=\"A\", chain2=\"R\")\n",
    "df_BR_1=get_df_contacts_frequency(u_1, chain1=\"B\", chain2=\"R\")\n",
    "df_BR_2=get_df_contacts_frequency(u_2, chain1=\"B\", chain2=\"R\")"
   ]
  },
  {
   "cell_type": "code",
   "execution_count": null,
   "metadata": {},
   "outputs": [],
   "source": [
    "t1 = time.time()\n",
    "\n",
    "# get union from different targets\n",
    "common_RA = get_union(df_RA_1, df_RA_2)\n",
    "common_RB = get_union(df_RB_1, df_RB_2)\n",
    "common_AR = get_union(df_AR_1, df_AR_2)\n",
    "common_BR = get_union(df_BR_1, df_BR_2)\n",
    "\n",
    "# update to dataframes with common resids\n",
    "df_RA_1c=get_union_df(df_RA_1,common_RA)\n",
    "df_RA_2c=get_union_df(df_RA_2,common_RA)\n",
    "df_RB_1c=get_union_df(df_RB_1,common_RB)\n",
    "df_RB_2c=get_union_df(df_RB_2,common_RB)\n",
    "df_AR_1c=get_union_df(df_AR_1,common_AR)\n",
    "df_AR_2c=get_union_df(df_AR_2,common_AR)\n",
    "df_BR_1c=get_union_df(df_BR_1,common_BR)\n",
    "df_BR_2c=get_union_df(df_BR_2,common_BR)\n",
    "\n",
    "t2 = time.time()\n",
    "print(\"TIMER: Function completed time is: %.5f\" % (t2 - t1))\n"
   ]
  },
  {
   "cell_type": "code",
   "execution_count": null,
   "metadata": {},
   "outputs": [],
   "source": []
  },
  {
   "cell_type": "code",
   "execution_count": null,
   "metadata": {},
   "outputs": [],
   "source": [
    "tt = pd.DataFrame({\n",
    "            'ga_i': list(df_RA_1c['freq (%)']),\n",
    "            'ga_o': list(df_RA_2c['freq (%)'])},\n",
    "            index=list(df_RA_1c['resids']))\n",
    "\n",
    "title  = 'Receptor Contact Frequency with GA'\n",
    "xlabel = 'Receptor Residues'\n",
    "ylabel = 'Precentage (%)'\n",
    "\n",
    "barplot(tt, title, xlabel, ylabel)"
   ]
  },
  {
   "cell_type": "code",
   "execution_count": null,
   "metadata": {},
   "outputs": [],
   "source": [
    "\n",
    "tt = pd.DataFrame({\n",
    "            'ga_i': list(df_RB_1c['freq (%)']),\n",
    "            'ga_o': list(df_RB_2c['freq (%)'])},\n",
    "            index=list(df_RB_1c['resids']))\n",
    "\n",
    "title  = 'Receptor Contact Frequency with GB'\n",
    "xlabel = 'Receptor Residues'\n",
    "ylabel = 'Precentage (%)'\n",
    "\n",
    "barplot(tt, title, xlabel, ylabel)"
   ]
  },
  {
   "cell_type": "code",
   "execution_count": null,
   "metadata": {},
   "outputs": [],
   "source": [
    "tt = pd.DataFrame({\n",
    "            'ga_i': list(df_AR_1c['freq (%)']),\n",
    "            'ga_o': list(df_AR_2c['freq (%)'])},\n",
    "            index=list(df_AR_1c['resids']))\n",
    "\n",
    "title  = 'Ga Contact Frequency with Receptor'\n",
    "xlabel = 'Ga Residues'\n",
    "ylabel = 'Precentage (%)'\n",
    "\n",
    "barplot(tt, title, xlabel, ylabel)"
   ]
  },
  {
   "cell_type": "code",
   "execution_count": null,
   "metadata": {},
   "outputs": [],
   "source": [
    "tt = pd.DataFrame({\n",
    "            'ga_i': list(df_BR_1c['freq (%)']),\n",
    "            'ga_o': list(df_BR_2c['freq (%)'])},\n",
    "            index=list(df_BR_1c['resids']))\n",
    "\n",
    "title  = 'Gb Contact Frequency with Receptor'\n",
    "xlabel = 'Gb Residues'\n",
    "ylabel = 'Precentage (%)'\n",
    "\n",
    "barplot(tt, title, xlabel, ylabel)"
   ]
  },
  {
   "cell_type": "code",
   "execution_count": null,
   "metadata": {},
   "outputs": [],
   "source": []
  },
  {
   "cell_type": "code",
   "execution_count": null,
   "metadata": {},
   "outputs": [],
   "source": []
  },
  {
   "cell_type": "code",
   "execution_count": null,
   "metadata": {},
   "outputs": [],
   "source": [
    "# define common residues\n",
    "common_rec=common_RB+common_RA\n",
    "common_ga=common_AR\n",
    "common_gb=common_BR\n",
    "\n",
    "# calculate distance matrix\n",
    "matrix_RA_1,matrix_RA_sd_1,matrix_RA_freq_1=get_dist_freq_matrix(u_1,common_rec,'R',common_ga,'A')\n",
    "matrix_RA_2,matrix_RA_sd_2,matrix_RA_freq_2=get_dist_freq_matrix(u_2,common_rec,'R',common_ga,'A')\n",
    "matrix_RB_1,matrix_RB_sd_1,matrix_RB_freq_1=get_dist_freq_matrix(u_1,common_rec,'R',common_gb,'B')\n",
    "matrix_RB_2,matrix_RB_sd_2,matrix_RB_freq_2=get_dist_freq_matrix(u_2,common_rec,'R',common_gb,'B')\n",
    "\n",
    "# concatenate two matrixes\n",
    "matrix_freq_1=np.concatenate((matrix_RA_freq_1, matrix_RB_freq_1), axis=1)\n",
    "matrix_freq_2=np.concatenate((matrix_RA_freq_2, matrix_RB_freq_2), axis=1)\n",
    "\n",
    "# matrix difference\n",
    "matrix_diff=get_matrix_diff(matrix_freq_1, matrix_freq_2)"
   ]
  },
  {
   "cell_type": "code",
   "execution_count": null,
   "metadata": {},
   "outputs": [],
   "source": [
    "# prepare labels\n",
    "labels_rec=get_labels2(u_1, common_rec, \"R\")\n",
    "labels_ga=get_labels2(u_1, common_ga, \"A\")\n",
    "labels_gb=get_labels2(u_1, common_gb, \"B\")\n",
    "xlabels=labels_rec\n",
    "#ylabels=np.concatenate((ylabels,ylabels2),axis=0)\n",
    "ylabels=list(labels_ga)+list(labels_gb)\n",
    "x_axis_label=\"Rec\"\n",
    "y_axis_label=\"Ga+Gb\""
   ]
  },
  {
   "cell_type": "code",
   "execution_count": null,
   "metadata": {},
   "outputs": [],
   "source": []
  },
  {
   "cell_type": "code",
   "execution_count": null,
   "metadata": {},
   "outputs": [],
   "source": [
    "#xlabels, ylabels, x_axis_label, y_axis_label = get_labels(u_1, common_rec, common_ga)\n",
    "\n",
    "plt.figure(figsize=(16,16))\n",
    "plot_index = 1\n",
    "ax = plt.subplot(1, 1, plot_index)\n",
    "im,cbar = heatmap(matrix_freq_1,xlabels, ylabels,ax=ax,cmap=\"Blues\", cbarlabel=\"Frequency\")\n",
    "texts = annotate_heatmap(im, valfmt=\"{x:.1f}\", size=8)\n",
    "ax.set_title('D3_gi_pd heavy atoms')\n",
    "plt.xlabel(x_axis_label)\n",
    "plt.ylabel(y_axis_label)\n"
   ]
  },
  {
   "cell_type": "code",
   "execution_count": null,
   "metadata": {},
   "outputs": [],
   "source": []
  },
  {
   "cell_type": "code",
   "execution_count": null,
   "metadata": {},
   "outputs": [],
   "source": [
    "#xlabels, ylabels, x_axis_label, y_axis_label = get_labels(u_2, common_rec, common_ga)\n",
    "\n",
    "plt.figure(figsize=(16,16))\n",
    "plot_index = 1\n",
    "ax = plt.subplot(1, 1, plot_index)\n",
    "im,cbar = heatmap(matrix_freq_2,xlabels, ylabels,ax=ax,cmap=\"Blues\", cbarlabel=\"Frequency\")\n",
    "texts = annotate_heatmap(im, valfmt=\"{x:.1f}\", size=8)\n",
    "ax.set_title('D3_go_pd heavy atoms')\n",
    "plt.xlabel(x_axis_label)\n",
    "plt.ylabel(y_axis_label)\n"
   ]
  },
  {
   "cell_type": "code",
   "execution_count": null,
   "metadata": {},
   "outputs": [],
   "source": [
    "plt.figure(figsize=(16,16))\n",
    "plot_index = 1\n",
    "ax = plt.subplot(1, 1, plot_index)\n",
    "im,cbar = heatmap(matrix_diff,xlabels, ylabels,ax=ax,cmap=\"bwr\", cbarlabel=\"Frequency\")\n",
    "texts = annotate_heatmap(im, valfmt=\"{x:.1f}\", size=8)\n",
    "ax.set_title('D3_gi_pd heavy atoms')\n",
    "plt.xlabel(x_axis_label)\n",
    "plt.ylabel(y_axis_label)"
   ]
  }
 ],
 "metadata": {
  "kernelspec": {
   "display_name": "Python 3",
   "language": "python",
   "name": "python3"
  },
  "language_info": {
   "codemirror_mode": {
    "name": "ipython",
    "version": 3
   },
   "file_extension": ".py",
   "mimetype": "text/x-python",
   "name": "python",
   "nbconvert_exporter": "python",
   "pygments_lexer": "ipython3",
   "version": "3.7.6"
  }
 },
 "nbformat": 4,
 "nbformat_minor": 4
}
