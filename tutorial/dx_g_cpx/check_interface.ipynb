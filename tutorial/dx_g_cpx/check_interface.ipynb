{
 "cells": [
  {
   "cell_type": "code",
   "execution_count": 1,
   "metadata": {},
   "outputs": [],
   "source": [
    "import glob\n",
    "import pickle\n",
    "import seaborn as sns\n",
    "import pandas as pd\n",
    "import numpy as np\n",
    "from natsort import natsorted, ns\n",
    "import matplotlib.pyplot as plt"
   ]
  },
  {
   "cell_type": "code",
   "execution_count": 68,
   "metadata": {},
   "outputs": [],
   "source": [
    "def read_data(receptor, ligand, time_limit=0, Verbose=False, exclusions=[]):\n",
    "    data = {\"Interface\":[], \"Interface_A\":[], \"Interface_B\":[], \"System\":[], \"Simulation\":[], \"Time\":[], \"Frame\":[]}\n",
    "    _filein = glob.glob(\"/home/khlee/work/desmond/output/\"+receptor+\"/\"+ligand+\"/*/\")\n",
    "    _filein = natsorted(_filein, key=lambda y: y.lower())\n",
    "    if Verbose:\n",
    "        print(_filein)\n",
    "    for i in range(len(_filein)):\n",
    "        if _filein[i].split(\"/\")[-1] in exclusions:\n",
    "            continue\n",
    "        try:\n",
    "            t = np.loadtxt(_filein[i]+'/ene/time.dat')\n",
    "            frame = list(range(1,len(t)+1))\n",
    "            obs = pickle.load(open(_filein[i]+'/output/gpcr_interface.p',\"rb\"))\n",
    "            obs_a = pickle.load(open(_filein[i]+'/output/gpcr_interface_RA.p',\"rb\"))\n",
    "            obs_b = pickle.load(open(_filein[i]+'/output/gpcr_interface_RB.p',\"rb\"))\n",
    "        \n",
    "            assert (len(t)==len(obs))\n",
    "            assert (len(obs) == len(obs_a))\n",
    "            assert (len(obs) == len(obs_b))\n",
    "            \n",
    "            temp = pd.DataFrame({\"obs\":obs, \"obs_a\":obs_a, \"obs_b\":obs_b, \"t\":t, \"frame\":frame})\n",
    "            \n",
    "            sel = list(temp[temp[\"t\"]>=time_limit][\"obs\"])\n",
    "            sel_a = list(temp[temp[\"t\"]>=time_limit][\"obs_a\"])\n",
    "            sel_b = list(temp[temp[\"t\"]>=time_limit][\"obs_b\"])\n",
    "            sel_t = list(temp[temp[\"t\"]>=time_limit][\"t\"])\n",
    "            sel_frame = list(temp[temp[\"t\"]>=time_limit][\"frame\"])\n",
    "            \n",
    "            data[\"Interface\"] += sel\n",
    "            data[\"Interface_A\"] += sel_a\n",
    "            data[\"Interface_B\"] += sel_b\n",
    "            data[\"System\"]+=[receptor for a in range(len(sel))]\n",
    "            data[\"Simulation\"]+=[_filein[i].split(\"/\")[-2].split(\"_\")[-1] for a in range(len(sel))]\n",
    "            data[\"Time\"]+=sel_t\n",
    "            data[\"Frame\"]+=sel_frame\n",
    "        except:\n",
    "            continue\n",
    "    \n",
    "    return pd.DataFrame(data)\n",
    "\n",
    "def check_interface(df, receptor=None):\n",
    "    difference = []\n",
    "    ab = []\n",
    "    for i in range(len(df)):\n",
    "        difference.append(df[\"Interface\"][i] - (df[\"Interface_A\"][i] + df[\"Interface_B\"][i]))\n",
    "        ab.append(df[\"Interface_A\"][i] + df[\"Interface_B\"][i])\n",
    "    df[\"RAB-AB\"] = difference\n",
    "    df[\"AB\"] = ab\n",
    "    return df"
   ]
  },
  {
   "cell_type": "code",
   "execution_count": 74,
   "metadata": {},
   "outputs": [
    {
     "data": {
      "text/html": [
       "<div>\n",
       "<style scoped>\n",
       "    .dataframe tbody tr th:only-of-type {\n",
       "        vertical-align: middle;\n",
       "    }\n",
       "\n",
       "    .dataframe tbody tr th {\n",
       "        vertical-align: top;\n",
       "    }\n",
       "\n",
       "    .dataframe thead th {\n",
       "        text-align: right;\n",
       "    }\n",
       "</style>\n",
       "<table border=\"1\" class=\"dataframe\">\n",
       "  <thead>\n",
       "    <tr style=\"text-align: right;\">\n",
       "      <th></th>\n",
       "      <th>Time</th>\n",
       "      <th>Simulation</th>\n",
       "      <th>System</th>\n",
       "      <th>Frame</th>\n",
       "      <th>Interface_A</th>\n",
       "      <th>Interface_B</th>\n",
       "      <th>RAB-AB</th>\n",
       "      <th>variable</th>\n",
       "      <th>Interface</th>\n",
       "    </tr>\n",
       "  </thead>\n",
       "  <tbody>\n",
       "    <tr>\n",
       "      <th>0</th>\n",
       "      <td>0.6</td>\n",
       "      <td>bro.f1</td>\n",
       "      <td>d2gi</td>\n",
       "      <td>1</td>\n",
       "      <td>1512.0</td>\n",
       "      <td>149.0</td>\n",
       "      <td>-7.0</td>\n",
       "      <td>Interface</td>\n",
       "      <td>1654.0</td>\n",
       "    </tr>\n",
       "    <tr>\n",
       "      <th>1</th>\n",
       "      <td>1.2</td>\n",
       "      <td>bro.f1</td>\n",
       "      <td>d2gi</td>\n",
       "      <td>2</td>\n",
       "      <td>1397.0</td>\n",
       "      <td>174.0</td>\n",
       "      <td>-11.0</td>\n",
       "      <td>Interface</td>\n",
       "      <td>1560.0</td>\n",
       "    </tr>\n",
       "    <tr>\n",
       "      <th>2</th>\n",
       "      <td>1.8</td>\n",
       "      <td>bro.f1</td>\n",
       "      <td>d2gi</td>\n",
       "      <td>3</td>\n",
       "      <td>1421.0</td>\n",
       "      <td>171.0</td>\n",
       "      <td>-5.0</td>\n",
       "      <td>Interface</td>\n",
       "      <td>1587.0</td>\n",
       "    </tr>\n",
       "    <tr>\n",
       "      <th>3</th>\n",
       "      <td>2.4</td>\n",
       "      <td>bro.f1</td>\n",
       "      <td>d2gi</td>\n",
       "      <td>4</td>\n",
       "      <td>1390.0</td>\n",
       "      <td>172.0</td>\n",
       "      <td>-8.0</td>\n",
       "      <td>Interface</td>\n",
       "      <td>1554.0</td>\n",
       "    </tr>\n",
       "    <tr>\n",
       "      <th>4</th>\n",
       "      <td>3.0</td>\n",
       "      <td>bro.f1</td>\n",
       "      <td>d2gi</td>\n",
       "      <td>5</td>\n",
       "      <td>1403.0</td>\n",
       "      <td>164.0</td>\n",
       "      <td>-9.0</td>\n",
       "      <td>Interface</td>\n",
       "      <td>1558.0</td>\n",
       "    </tr>\n",
       "    <tr>\n",
       "      <th>...</th>\n",
       "      <td>...</td>\n",
       "      <td>...</td>\n",
       "      <td>...</td>\n",
       "      <td>...</td>\n",
       "      <td>...</td>\n",
       "      <td>...</td>\n",
       "      <td>...</td>\n",
       "      <td>...</td>\n",
       "      <td>...</td>\n",
       "    </tr>\n",
       "    <tr>\n",
       "      <th>5995</th>\n",
       "      <td>717.6</td>\n",
       "      <td>bro.f3</td>\n",
       "      <td>d2gi</td>\n",
       "      <td>1196</td>\n",
       "      <td>1296.0</td>\n",
       "      <td>61.0</td>\n",
       "      <td>-17.0</td>\n",
       "      <td>AB</td>\n",
       "      <td>1357.0</td>\n",
       "    </tr>\n",
       "    <tr>\n",
       "      <th>5996</th>\n",
       "      <td>718.2</td>\n",
       "      <td>bro.f3</td>\n",
       "      <td>d2gi</td>\n",
       "      <td>1197</td>\n",
       "      <td>1260.0</td>\n",
       "      <td>72.0</td>\n",
       "      <td>-16.0</td>\n",
       "      <td>AB</td>\n",
       "      <td>1332.0</td>\n",
       "    </tr>\n",
       "    <tr>\n",
       "      <th>5997</th>\n",
       "      <td>718.8</td>\n",
       "      <td>bro.f3</td>\n",
       "      <td>d2gi</td>\n",
       "      <td>1198</td>\n",
       "      <td>1247.0</td>\n",
       "      <td>60.0</td>\n",
       "      <td>-12.0</td>\n",
       "      <td>AB</td>\n",
       "      <td>1307.0</td>\n",
       "    </tr>\n",
       "    <tr>\n",
       "      <th>5998</th>\n",
       "      <td>719.4</td>\n",
       "      <td>bro.f3</td>\n",
       "      <td>d2gi</td>\n",
       "      <td>1199</td>\n",
       "      <td>1247.0</td>\n",
       "      <td>32.0</td>\n",
       "      <td>-14.0</td>\n",
       "      <td>AB</td>\n",
       "      <td>1279.0</td>\n",
       "    </tr>\n",
       "    <tr>\n",
       "      <th>5999</th>\n",
       "      <td>720.0</td>\n",
       "      <td>bro.f3</td>\n",
       "      <td>d2gi</td>\n",
       "      <td>1200</td>\n",
       "      <td>1264.0</td>\n",
       "      <td>36.0</td>\n",
       "      <td>-19.0</td>\n",
       "      <td>AB</td>\n",
       "      <td>1300.0</td>\n",
       "    </tr>\n",
       "  </tbody>\n",
       "</table>\n",
       "<p>6000 rows × 9 columns</p>\n",
       "</div>"
      ],
      "text/plain": [
       "       Time Simulation System  Frame  Interface_A  Interface_B  RAB-AB  \\\n",
       "0       0.6     bro.f1   d2gi      1       1512.0        149.0    -7.0   \n",
       "1       1.2     bro.f1   d2gi      2       1397.0        174.0   -11.0   \n",
       "2       1.8     bro.f1   d2gi      3       1421.0        171.0    -5.0   \n",
       "3       2.4     bro.f1   d2gi      4       1390.0        172.0    -8.0   \n",
       "4       3.0     bro.f1   d2gi      5       1403.0        164.0    -9.0   \n",
       "...     ...        ...    ...    ...          ...          ...     ...   \n",
       "5995  717.6     bro.f3   d2gi   1196       1296.0         61.0   -17.0   \n",
       "5996  718.2     bro.f3   d2gi   1197       1260.0         72.0   -16.0   \n",
       "5997  718.8     bro.f3   d2gi   1198       1247.0         60.0   -12.0   \n",
       "5998  719.4     bro.f3   d2gi   1199       1247.0         32.0   -14.0   \n",
       "5999  720.0     bro.f3   d2gi   1200       1264.0         36.0   -19.0   \n",
       "\n",
       "       variable  Interface  \n",
       "0     Interface     1654.0  \n",
       "1     Interface     1560.0  \n",
       "2     Interface     1587.0  \n",
       "3     Interface     1554.0  \n",
       "4     Interface     1558.0  \n",
       "...         ...        ...  \n",
       "5995         AB     1357.0  \n",
       "5996         AB     1332.0  \n",
       "5997         AB     1307.0  \n",
       "5998         AB     1279.0  \n",
       "5999         AB     1300.0  \n",
       "\n",
       "[6000 rows x 9 columns]"
      ]
     },
     "execution_count": 74,
     "metadata": {},
     "output_type": "execute_result"
    }
   ],
   "source": [
    "d2gi = read_data(\"d2gi\", \"bro\")\n",
    "d2gi = check_interface(d2gi, \"d2gi\")\n",
    "d2gi_melt=pd.melt(d2gi, id_vars=[\"Time\", \"Simulation\", \"System\", \"Frame\", \"Interface_A\", \"Interface_B\", \"RAB-AB\"],\n",
    "                value_name=\"Interface\" )\n",
    "d2gi_melt"
   ]
  },
  {
   "cell_type": "code",
   "execution_count": 77,
   "metadata": {},
   "outputs": [
    {
     "data": {
      "text/plain": [
       "<matplotlib.axes._subplots.AxesSubplot at 0x7fb7f9c258d0>"
      ]
     },
     "execution_count": 77,
     "metadata": {},
     "output_type": "execute_result"
    },
    {
     "data": {
      "image/png": "[encoded data removed]",
      "text/plain": [
       "<Figure size 432x288 with 1 Axes>"
      ]
     },
     "metadata": {
      "needs_background": "light"
     },
     "output_type": "display_data"
    }
   ],
   "source": [
    "sns.lineplot(data=d2gi_melt, x=\"Time\", y=\"Interface\", hue=\"variable\", style=\"Simulation\")"
   ]
  },
  {
   "cell_type": "code",
   "execution_count": 73,
   "metadata": {},
   "outputs": [
    {
     "data": {
      "text/html": [
       "<div>\n",
       "<style scoped>\n",
       "    .dataframe tbody tr th:only-of-type {\n",
       "        vertical-align: middle;\n",
       "    }\n",
       "\n",
       "    .dataframe tbody tr th {\n",
       "        vertical-align: top;\n",
       "    }\n",
       "\n",
       "    .dataframe thead th {\n",
       "        text-align: right;\n",
       "    }\n",
       "</style>\n",
       "<table border=\"1\" class=\"dataframe\">\n",
       "  <thead>\n",
       "    <tr style=\"text-align: right;\">\n",
       "      <th></th>\n",
       "      <th>Time</th>\n",
       "      <th>Simulation</th>\n",
       "      <th>System</th>\n",
       "      <th>Frame</th>\n",
       "      <th>Interface_A</th>\n",
       "      <th>Interface_B</th>\n",
       "      <th>RAB-AB</th>\n",
       "      <th>variable</th>\n",
       "      <th>Interface</th>\n",
       "    </tr>\n",
       "  </thead>\n",
       "  <tbody>\n",
       "    <tr>\n",
       "      <th>0</th>\n",
       "      <td>0.6</td>\n",
       "      <td>bro.f1</td>\n",
       "      <td>d2gi</td>\n",
       "      <td>1</td>\n",
       "      <td>1512.0</td>\n",
       "      <td>149.0</td>\n",
       "      <td>-7.0</td>\n",
       "      <td>Interface</td>\n",
       "      <td>1654.0</td>\n",
       "    </tr>\n",
       "    <tr>\n",
       "      <th>1</th>\n",
       "      <td>1.2</td>\n",
       "      <td>bro.f1</td>\n",
       "      <td>d2gi</td>\n",
       "      <td>2</td>\n",
       "      <td>1397.0</td>\n",
       "      <td>174.0</td>\n",
       "      <td>-11.0</td>\n",
       "      <td>Interface</td>\n",
       "      <td>1560.0</td>\n",
       "    </tr>\n",
       "    <tr>\n",
       "      <th>2</th>\n",
       "      <td>1.8</td>\n",
       "      <td>bro.f1</td>\n",
       "      <td>d2gi</td>\n",
       "      <td>3</td>\n",
       "      <td>1421.0</td>\n",
       "      <td>171.0</td>\n",
       "      <td>-5.0</td>\n",
       "      <td>Interface</td>\n",
       "      <td>1587.0</td>\n",
       "    </tr>\n",
       "    <tr>\n",
       "      <th>3</th>\n",
       "      <td>2.4</td>\n",
       "      <td>bro.f1</td>\n",
       "      <td>d2gi</td>\n",
       "      <td>4</td>\n",
       "      <td>1390.0</td>\n",
       "      <td>172.0</td>\n",
       "      <td>-8.0</td>\n",
       "      <td>Interface</td>\n",
       "      <td>1554.0</td>\n",
       "    </tr>\n",
       "    <tr>\n",
       "      <th>4</th>\n",
       "      <td>3.0</td>\n",
       "      <td>bro.f1</td>\n",
       "      <td>d2gi</td>\n",
       "      <td>5</td>\n",
       "      <td>1403.0</td>\n",
       "      <td>164.0</td>\n",
       "      <td>-9.0</td>\n",
       "      <td>Interface</td>\n",
       "      <td>1558.0</td>\n",
       "    </tr>\n",
       "    <tr>\n",
       "      <th>...</th>\n",
       "      <td>...</td>\n",
       "      <td>...</td>\n",
       "      <td>...</td>\n",
       "      <td>...</td>\n",
       "      <td>...</td>\n",
       "      <td>...</td>\n",
       "      <td>...</td>\n",
       "      <td>...</td>\n",
       "      <td>...</td>\n",
       "    </tr>\n",
       "    <tr>\n",
       "      <th>5995</th>\n",
       "      <td>717.6</td>\n",
       "      <td>bro.f3</td>\n",
       "      <td>d2gi</td>\n",
       "      <td>1196</td>\n",
       "      <td>1296.0</td>\n",
       "      <td>61.0</td>\n",
       "      <td>-17.0</td>\n",
       "      <td>AB</td>\n",
       "      <td>1357.0</td>\n",
       "    </tr>\n",
       "    <tr>\n",
       "      <th>5996</th>\n",
       "      <td>718.2</td>\n",
       "      <td>bro.f3</td>\n",
       "      <td>d2gi</td>\n",
       "      <td>1197</td>\n",
       "      <td>1260.0</td>\n",
       "      <td>72.0</td>\n",
       "      <td>-16.0</td>\n",
       "      <td>AB</td>\n",
       "      <td>1332.0</td>\n",
       "    </tr>\n",
       "    <tr>\n",
       "      <th>5997</th>\n",
       "      <td>718.8</td>\n",
       "      <td>bro.f3</td>\n",
       "      <td>d2gi</td>\n",
       "      <td>1198</td>\n",
       "      <td>1247.0</td>\n",
       "      <td>60.0</td>\n",
       "      <td>-12.0</td>\n",
       "      <td>AB</td>\n",
       "      <td>1307.0</td>\n",
       "    </tr>\n",
       "    <tr>\n",
       "      <th>5998</th>\n",
       "      <td>719.4</td>\n",
       "      <td>bro.f3</td>\n",
       "      <td>d2gi</td>\n",
       "      <td>1199</td>\n",
       "      <td>1247.0</td>\n",
       "      <td>32.0</td>\n",
       "      <td>-14.0</td>\n",
       "      <td>AB</td>\n",
       "      <td>1279.0</td>\n",
       "    </tr>\n",
       "    <tr>\n",
       "      <th>5999</th>\n",
       "      <td>720.0</td>\n",
       "      <td>bro.f3</td>\n",
       "      <td>d2gi</td>\n",
       "      <td>1200</td>\n",
       "      <td>1264.0</td>\n",
       "      <td>36.0</td>\n",
       "      <td>-19.0</td>\n",
       "      <td>AB</td>\n",
       "      <td>1300.0</td>\n",
       "    </tr>\n",
       "  </tbody>\n",
       "</table>\n",
       "<p>6000 rows × 9 columns</p>\n",
       "</div>"
      ],
      "text/plain": [
       "       Time Simulation System  Frame  Interface_A  Interface_B  RAB-AB  \\\n",
       "0       0.6     bro.f1   d2gi      1       1512.0        149.0    -7.0   \n",
       "1       1.2     bro.f1   d2gi      2       1397.0        174.0   -11.0   \n",
       "2       1.8     bro.f1   d2gi      3       1421.0        171.0    -5.0   \n",
       "3       2.4     bro.f1   d2gi      4       1390.0        172.0    -8.0   \n",
       "4       3.0     bro.f1   d2gi      5       1403.0        164.0    -9.0   \n",
       "...     ...        ...    ...    ...          ...          ...     ...   \n",
       "5995  717.6     bro.f3   d2gi   1196       1296.0         61.0   -17.0   \n",
       "5996  718.2     bro.f3   d2gi   1197       1260.0         72.0   -16.0   \n",
       "5997  718.8     bro.f3   d2gi   1198       1247.0         60.0   -12.0   \n",
       "5998  719.4     bro.f3   d2gi   1199       1247.0         32.0   -14.0   \n",
       "5999  720.0     bro.f3   d2gi   1200       1264.0         36.0   -19.0   \n",
       "\n",
       "       variable  Interface  \n",
       "0     Interface     1654.0  \n",
       "1     Interface     1560.0  \n",
       "2     Interface     1587.0  \n",
       "3     Interface     1554.0  \n",
       "4     Interface     1558.0  \n",
       "...         ...        ...  \n",
       "5995         AB     1357.0  \n",
       "5996         AB     1332.0  \n",
       "5997         AB     1307.0  \n",
       "5998         AB     1279.0  \n",
       "5999         AB     1300.0  \n",
       "\n",
       "[6000 rows x 9 columns]"
      ]
     },
     "execution_count": 73,
     "metadata": {},
     "output_type": "execute_result"
    }
   ],
   "source": []
  },
  {
   "cell_type": "code",
   "execution_count": 47,
   "metadata": {},
   "outputs": [
    {
     "data": {
      "text/html": [
       "<div>\n",
       "<style scoped>\n",
       "    .dataframe tbody tr th:only-of-type {\n",
       "        vertical-align: middle;\n",
       "    }\n",
       "\n",
       "    .dataframe tbody tr th {\n",
       "        vertical-align: top;\n",
       "    }\n",
       "\n",
       "    .dataframe thead th {\n",
       "        text-align: right;\n",
       "    }\n",
       "</style>\n",
       "<table border=\"1\" class=\"dataframe\">\n",
       "  <thead>\n",
       "    <tr style=\"text-align: right;\">\n",
       "      <th></th>\n",
       "      <th>Interface</th>\n",
       "      <th>Interface_A</th>\n",
       "      <th>Interface_B</th>\n",
       "      <th>System</th>\n",
       "      <th>Simulation</th>\n",
       "      <th>Time</th>\n",
       "      <th>Frame</th>\n",
       "      <th>Difference</th>\n",
       "    </tr>\n",
       "  </thead>\n",
       "  <tbody>\n",
       "    <tr>\n",
       "      <th>1799</th>\n",
       "      <td>1559.0</td>\n",
       "      <td>1486.0</td>\n",
       "      <td>86.0</td>\n",
       "      <td>d2gi</td>\n",
       "      <td>bro.f2</td>\n",
       "      <td>720.0</td>\n",
       "      <td>1200</td>\n",
       "      <td>-13.0</td>\n",
       "    </tr>\n",
       "    <tr>\n",
       "      <th>2999</th>\n",
       "      <td>1281.0</td>\n",
       "      <td>1264.0</td>\n",
       "      <td>36.0</td>\n",
       "      <td>d2gi</td>\n",
       "      <td>bro.f3</td>\n",
       "      <td>720.0</td>\n",
       "      <td>1200</td>\n",
       "      <td>-19.0</td>\n",
       "    </tr>\n",
       "  </tbody>\n",
       "</table>\n",
       "</div>"
      ],
      "text/plain": [
       "      Interface  Interface_A  Interface_B System Simulation   Time  Frame  \\\n",
       "1799     1559.0       1486.0         86.0   d2gi     bro.f2  720.0   1200   \n",
       "2999     1281.0       1264.0         36.0   d2gi     bro.f3  720.0   1200   \n",
       "\n",
       "      Difference  \n",
       "1799       -13.0  \n",
       "2999       -19.0  "
      ]
     },
     "execution_count": 47,
     "metadata": {},
     "output_type": "execute_result"
    }
   ],
   "source": [
    "sns.lineplot()"
   ]
  },
  {
   "cell_type": "code",
   "execution_count": 5,
   "metadata": {},
   "outputs": [],
   "source": [
    "d2go = read_data(\"d2go\", \"bro\")"
   ]
  },
  {
   "cell_type": "code",
   "execution_count": 6,
   "metadata": {},
   "outputs": [
    {
     "data": {
      "text/plain": [
       "14240"
      ]
     },
     "execution_count": 6,
     "metadata": {},
     "output_type": "execute_result"
    }
   ],
   "source": [
    "d2go_mm = check_interface(d2go, \"d2go\")\n",
    "len(d2go_mm)"
   ]
  },
  {
   "cell_type": "code",
   "execution_count": 7,
   "metadata": {},
   "outputs": [
    {
     "data": {
      "text/plain": [
       "20500"
      ]
     },
     "execution_count": 7,
     "metadata": {},
     "output_type": "execute_result"
    }
   ],
   "source": [
    "len(d2go)"
   ]
  },
  {
   "cell_type": "code",
   "execution_count": 8,
   "metadata": {},
   "outputs": [
    {
     "data": {
      "text/plain": [
       "{'d2go_bro',\n",
       " 'd2go_bro.1',\n",
       " 'd2go_bro.2',\n",
       " 'd2go_bro.3',\n",
       " 'd2go_bro.4',\n",
       " 'd2go_bro.5',\n",
       " 'd2go_bro.f1',\n",
       " 'd2go_bro.f2',\n",
       " 'd2go_bro.f3'}"
      ]
     },
     "execution_count": 8,
     "metadata": {},
     "output_type": "execute_result"
    }
   ],
   "source": [
    "set(d2go_mm)"
   ]
  },
  {
   "cell_type": "code",
   "execution_count": 9,
   "metadata": {},
   "outputs": [
    {
     "data": {
      "text/plain": [
       "0"
      ]
     },
     "execution_count": 9,
     "metadata": {},
     "output_type": "execute_result"
    }
   ],
   "source": [
    "d3gi_prm = read_data(\"d3gi\", \"prm\")\n",
    "d3gi_prm_mm = check_interface(d3gi_prm, \"d3gi\")\n",
    "len(d3gi_prm_mm)"
   ]
  },
  {
   "cell_type": "code",
   "execution_count": 10,
   "metadata": {},
   "outputs": [
    {
     "data": {
      "text/plain": [
       "6450"
      ]
     },
     "execution_count": 10,
     "metadata": {},
     "output_type": "execute_result"
    }
   ],
   "source": [
    "d3go_prm = read_data(\"d3go\", \"prm\")\n",
    "d3go_prm_mm = check_interface(d3go_prm, \"d3go\")\n",
    "len(d3go_prm_mm)"
   ]
  },
  {
   "cell_type": "code",
   "execution_count": 11,
   "metadata": {},
   "outputs": [
    {
     "data": {
      "text/plain": [
       "15800"
      ]
     },
     "execution_count": 11,
     "metadata": {},
     "output_type": "execute_result"
    }
   ],
   "source": [
    "len(d3go_prm)"
   ]
  },
  {
   "cell_type": "code",
   "execution_count": 12,
   "metadata": {},
   "outputs": [
    {
     "data": {
      "text/plain": [
       "{'d3go_prm.f1',\n",
       " 'd3go_prm.f2',\n",
       " 'd3go_prm.f3',\n",
       " 'd3go_prm.f4',\n",
       " 'd3go_prm.f5',\n",
       " 'd3go_prm.f6'}"
      ]
     },
     "execution_count": 12,
     "metadata": {},
     "output_type": "execute_result"
    }
   ],
   "source": [
    "set(d3go_prm_mm)"
   ]
  },
  {
   "cell_type": "code",
   "execution_count": 13,
   "metadata": {},
   "outputs": [
    {
     "data": {
      "text/plain": [
       "3599"
      ]
     },
     "execution_count": 13,
     "metadata": {},
     "output_type": "execute_result"
    }
   ],
   "source": [
    "d3go_pd = read_data(\"d3go\", \"pd\")\n",
    "d3go_pd_mm = check_interface(d3go_pd, \"d3go\")\n",
    "len(d3go_pd_mm)"
   ]
  },
  {
   "cell_type": "code",
   "execution_count": 14,
   "metadata": {},
   "outputs": [
    {
     "data": {
      "text/plain": [
       "13600"
      ]
     },
     "execution_count": 14,
     "metadata": {},
     "output_type": "execute_result"
    }
   ],
   "source": [
    "len(d3go_pd)"
   ]
  },
  {
   "cell_type": "code",
   "execution_count": 15,
   "metadata": {},
   "outputs": [
    {
     "data": {
      "text/plain": [
       "{'d3go_pd.f1',\n",
       " 'd3go_pd.f2',\n",
       " 'd3go_pd.f3',\n",
       " 'd3go_pd.f4',\n",
       " 'd3go_pd.f5',\n",
       " 'd3go_pd.f6'}"
      ]
     },
     "execution_count": 15,
     "metadata": {},
     "output_type": "execute_result"
    }
   ],
   "source": [
    "set(d3go_pd_mm)"
   ]
  },
  {
   "cell_type": "code",
   "execution_count": 16,
   "metadata": {},
   "outputs": [
    {
     "data": {
      "text/plain": [
       "3244"
      ]
     },
     "execution_count": 16,
     "metadata": {},
     "output_type": "execute_result"
    }
   ],
   "source": [
    "d3gi_pd = read_data(\"d3gi\", \"pd\")\n",
    "d3gi_pd_mm = check_interface(d3gi_pd, \"d3gi\")\n",
    "len(d3gi_pd_mm)"
   ]
  },
  {
   "cell_type": "code",
   "execution_count": 17,
   "metadata": {},
   "outputs": [
    {
     "data": {
      "text/plain": [
       "6800"
      ]
     },
     "execution_count": 17,
     "metadata": {},
     "output_type": "execute_result"
    }
   ],
   "source": [
    "len(d3gi_pd)"
   ]
  },
  {
   "cell_type": "code",
   "execution_count": 18,
   "metadata": {},
   "outputs": [
    {
     "data": {
      "text/plain": [
       "{'d3gi_pd.f3', 'd3gi_pd.f4', 'd3gi_pd.f6'}"
      ]
     },
     "execution_count": 18,
     "metadata": {},
     "output_type": "execute_result"
    }
   ],
   "source": [
    "set(d3gi_pd_mm)"
   ]
  },
  {
   "cell_type": "code",
   "execution_count": 23,
   "metadata": {},
   "outputs": [],
   "source": [
    "a = pickle.load(open(\"/home/khlee/work/desmond/output/d3go/prm/d3go_prm.f1/output/gpcr_interface.p\", 'rb'))"
   ]
  },
  {
   "cell_type": "code",
   "execution_count": 24,
   "metadata": {},
   "outputs": [],
   "source": [
    "b=pickle.load(open(\"/home/khlee/work/desmond/output/d3go/prm/d3go_prm.f1/output/gpcr_interface_RA.p\", 'rb'))"
   ]
  },
  {
   "cell_type": "code",
   "execution_count": 25,
   "metadata": {},
   "outputs": [],
   "source": [
    "c=pickle.load(open(\"/home/khlee/work/desmond/output/d3go/prm/d3go_prm.f1/output/gpcr_interface_RB.p\", 'rb'))"
   ]
  },
  {
   "cell_type": "code",
   "execution_count": 30,
   "metadata": {},
   "outputs": [
    {
     "data": {
      "text/plain": [
       "[1935.0, 1981.0, 1947.0, 1968.0, 1977.0]"
      ]
     },
     "execution_count": 30,
     "metadata": {},
     "output_type": "execute_result"
    }
   ],
   "source": [
    "a[0:5]"
   ]
  },
  {
   "cell_type": "code",
   "execution_count": 32,
   "metadata": {},
   "outputs": [
    {
     "data": {
      "text/plain": [
       "[1834.0, 1888.0, 1877.0, 1920.0, 1904.0]"
      ]
     },
     "execution_count": 32,
     "metadata": {},
     "output_type": "execute_result"
    }
   ],
   "source": [
    "b[0:5]"
   ]
  },
  {
   "cell_type": "code",
   "execution_count": 33,
   "metadata": {},
   "outputs": [
    {
     "data": {
      "text/plain": [
       "[101.0, 93.0, 71.0, 48.0, 73.0]"
      ]
     },
     "execution_count": 33,
     "metadata": {},
     "output_type": "execute_result"
    }
   ],
   "source": [
    "c[0:5]"
   ]
  },
  {
   "cell_type": "code",
   "execution_count": null,
   "metadata": {},
   "outputs": [],
   "source": []
  }
 ],
 "metadata": {
  "kernelspec": {
   "display_name": "Python 3",
   "language": "python",
   "name": "python3"
  },
  "language_info": {
   "codemirror_mode": {
    "name": "ipython",
    "version": 3
   },
   "file_extension": ".py",
   "mimetype": "text/x-python",
   "name": "python",
   "nbconvert_exporter": "python",
   "pygments_lexer": "ipython3",
   "version": "3.7.6"
  }
 },
 "nbformat": 4,
 "nbformat_minor": 4
}
