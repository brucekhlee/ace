{
 "cells": [
  {
   "cell_type": "code",
   "execution_count": 6,
   "metadata": {},
   "outputs": [],
   "source": [
    "import glob\n",
    "import pickle\n",
    "import seaborn as sns\n",
    "import pandas as pd\n",
    "import numpy as np\n",
    "from natsort import natsorted, ns\n",
    "import matplotlib.pyplot as plt"
   ]
  },
  {
   "cell_type": "code",
   "execution_count": 56,
   "metadata": {},
   "outputs": [],
   "source": [
    "def read_data(receptor, ligand, time_limit=0, Verbose=False, exclusions=[]):\n",
    "    data = {\"Interface\":[], \"Interface_A\":[], \"Interface_B\":[], \"System\":[], \"Simulation\":[], \"Time\":[], \"Frame\":[]}\n",
    "    _filein = glob.glob(\"/home/khlee/work/desmond/output/\"+receptor+\"/\"+ligand+\"/*/\")\n",
    "    _filein = natsorted(_filein, key=lambda y: y.lower())\n",
    "    if Verbose:\n",
    "        print(_filein)\n",
    "    for i in range(len(_filein)):\n",
    "        if _filein[i].split(\"/\")[-1] in exclusions:\n",
    "            continue\n",
    "        try:\n",
    "            t = np.loadtxt(_filein[i]+'/ene/time.dat')\n",
    "            frame = list(range(1,len(t)+1))\n",
    "            obs = pickle.load(open(_filein[i]+'/output/gpcr_interface.p',\"rb\"))\n",
    "            obs_a = pickle.load(open(_filein[i]+'/output/gpcr_interface_RA.p',\"rb\"))\n",
    "            obs_b = pickle.load(open(_filein[i]+'/output/gpcr_interface_RB.p',\"rb\"))\n",
    "        \n",
    "            assert (len(t)==len(obs))\n",
    "            assert (len(obs) == len(obs_a))\n",
    "            assert (len(obs) == len(obs_b))\n",
    "            \n",
    "            temp = pd.DataFrame({\"obs\":obs, \"obs_a\":obs_a, \"obs_b\":obs_b, \"t\":t, \"frame\":frame})\n",
    "            \n",
    "            sel = list(temp[temp[\"t\"]>=time_limit][\"obs\"])\n",
    "            sel_a = list(temp[temp[\"t\"]>=time_limit][\"obs_a\"])\n",
    "            sel_b = list(temp[temp[\"t\"]>=time_limit][\"obs_b\"])\n",
    "            sel_t = list(temp[temp[\"t\"]>=time_limit][\"t\"])\n",
    "            sel_frame = list(temp[temp[\"t\"]>=time_limit][\"frame\"])\n",
    "            \n",
    "            data[\"Interface\"] += sel\n",
    "            data[\"Interface_A\"] += sel_a\n",
    "            data[\"Interface_B\"] += sel_b\n",
    "            data[\"System\"]+=[receptor for a in range(len(sel))]\n",
    "            data[\"Simulation\"]+=[_filein[i].split(\"/\")[-2].split(\"_\")[-1] for a in range(len(sel))]\n",
    "            data[\"Time\"]+=sel_t\n",
    "            data[\"Frame\"]+=sel_frame\n",
    "        except:\n",
    "            continue\n",
    "    \n",
    "    return pd.DataFrame(data)\n",
    "\n",
    "def check_interface(df, receptor=None):\n",
    "    mismatch = []\n",
    "    for i in range(len(df)):\n",
    "        if (df[\"Interface\"][i] - (df[\"Interface_A\"][i] + df[\"Interface_B\"][i])) != 0:\n",
    "            mismatch.append(receptor+\"_\"+df[\"Simulation\"][i])\n",
    "    return mismatch"
   ]
  },
  {
   "cell_type": "code",
   "execution_count": 57,
   "metadata": {},
   "outputs": [],
   "source": [
    "d2gi = read_data(\"d2gi\", \"bro\")"
   ]
  },
  {
   "cell_type": "code",
   "execution_count": 58,
   "metadata": {},
   "outputs": [
    {
     "data": {
      "text/plain": [
       "[]"
      ]
     },
     "execution_count": 58,
     "metadata": {},
     "output_type": "execute_result"
    }
   ],
   "source": [
    "d2gi_mm = check_interface(d2gi, \"d2gi\")\n",
    "d2gi_mm"
   ]
  },
  {
   "cell_type": "code",
   "execution_count": 59,
   "metadata": {},
   "outputs": [],
   "source": [
    "d2go = read_data(\"d2go\", \"bro\")"
   ]
  },
  {
   "cell_type": "code",
   "execution_count": 61,
   "metadata": {},
   "outputs": [
    {
     "data": {
      "text/plain": [
       "9459"
      ]
     },
     "execution_count": 61,
     "metadata": {},
     "output_type": "execute_result"
    }
   ],
   "source": [
    "d2go_mm = check_interface(d2go, \"d2go\")\n",
    "len(d2go_mm)"
   ]
  },
  {
   "cell_type": "code",
   "execution_count": 54,
   "metadata": {},
   "outputs": [
    {
     "data": {
      "text/plain": [
       "11850"
      ]
     },
     "execution_count": 54,
     "metadata": {},
     "output_type": "execute_result"
    }
   ],
   "source": [
    "len(d2go)"
   ]
  },
  {
   "cell_type": "code",
   "execution_count": 62,
   "metadata": {},
   "outputs": [
    {
     "data": {
      "text/plain": [
       "{'d2go_bro', 'd2go_bro.1', 'd2go_bro.2', 'd2go_bro.3', 'd2go_bro.5'}"
      ]
     },
     "execution_count": 62,
     "metadata": {},
     "output_type": "execute_result"
    }
   ],
   "source": [
    "set(d2go_mm)"
   ]
  },
  {
   "cell_type": "code",
   "execution_count": 63,
   "metadata": {},
   "outputs": [
    {
     "data": {
      "text/plain": [
       "0"
      ]
     },
     "execution_count": 63,
     "metadata": {},
     "output_type": "execute_result"
    }
   ],
   "source": [
    "d3gi_prm = read_data(\"d3gi\", \"prm\")\n",
    "d3gi_prm_mm = check_interface(d3gi_prm, \"d3gi\")\n",
    "len(d3gi_prm_mm)"
   ]
  },
  {
   "cell_type": "code",
   "execution_count": 64,
   "metadata": {},
   "outputs": [
    {
     "data": {
      "text/plain": [
       "6450"
      ]
     },
     "execution_count": 64,
     "metadata": {},
     "output_type": "execute_result"
    }
   ],
   "source": [
    "d3go_prm = read_data(\"d3go\", \"prm\")\n",
    "d3go_prm_mm = check_interface(d3go_prm, \"d3go\")\n",
    "len(d3go_prm_mm)"
   ]
  },
  {
   "cell_type": "code",
   "execution_count": 65,
   "metadata": {},
   "outputs": [
    {
     "data": {
      "text/plain": [
       "15800"
      ]
     },
     "execution_count": 65,
     "metadata": {},
     "output_type": "execute_result"
    }
   ],
   "source": [
    "len(d3go_prm)"
   ]
  },
  {
   "cell_type": "code",
   "execution_count": 66,
   "metadata": {},
   "outputs": [
    {
     "data": {
      "text/plain": [
       "{'d3go_prm.f1',\n",
       " 'd3go_prm.f2',\n",
       " 'd3go_prm.f3',\n",
       " 'd3go_prm.f4',\n",
       " 'd3go_prm.f5',\n",
       " 'd3go_prm.f6'}"
      ]
     },
     "execution_count": 66,
     "metadata": {},
     "output_type": "execute_result"
    }
   ],
   "source": [
    "set(d3go_prm_mm)"
   ]
  },
  {
   "cell_type": "code",
   "execution_count": 68,
   "metadata": {},
   "outputs": [
    {
     "data": {
      "text/plain": [
       "2066"
      ]
     },
     "execution_count": 68,
     "metadata": {},
     "output_type": "execute_result"
    }
   ],
   "source": [
    "d3go_pd = read_data(\"d3go\", \"pd\")\n",
    "d3go_pd_mm = check_interface(d3go_pd, \"d3go\")\n",
    "len(d3go_pd_mm)"
   ]
  },
  {
   "cell_type": "code",
   "execution_count": 69,
   "metadata": {},
   "outputs": [
    {
     "data": {
      "text/plain": [
       "8200"
      ]
     },
     "execution_count": 69,
     "metadata": {},
     "output_type": "execute_result"
    }
   ],
   "source": [
    "len(d3go_pd)"
   ]
  },
  {
   "cell_type": "code",
   "execution_count": 70,
   "metadata": {},
   "outputs": [
    {
     "data": {
      "text/plain": [
       "{'d3go_pd.f1', 'd3go_pd.f2', 'd3go_pd.f4', 'd3go_pd.f5', 'd3go_pd.f6'}"
      ]
     },
     "execution_count": 70,
     "metadata": {},
     "output_type": "execute_result"
    }
   ],
   "source": [
    "set(d3go_pd_mm)"
   ]
  },
  {
   "cell_type": "code",
   "execution_count": 71,
   "metadata": {},
   "outputs": [
    {
     "data": {
      "text/plain": [
       "3244"
      ]
     },
     "execution_count": 71,
     "metadata": {},
     "output_type": "execute_result"
    }
   ],
   "source": [
    "d3gi_pd = read_data(\"d3gi\", \"pd\")\n",
    "d3gi_pd_mm = check_interface(d3gi_pd, \"d3gi\")\n",
    "len(d3gi_pd_mm)"
   ]
  },
  {
   "cell_type": "code",
   "execution_count": 72,
   "metadata": {},
   "outputs": [
    {
     "data": {
      "text/plain": [
       "6800"
      ]
     },
     "execution_count": 72,
     "metadata": {},
     "output_type": "execute_result"
    }
   ],
   "source": [
    "len(d3gi_pd)"
   ]
  },
  {
   "cell_type": "code",
   "execution_count": 73,
   "metadata": {},
   "outputs": [
    {
     "data": {
      "text/plain": [
       "{'d3gi_pd.f3', 'd3gi_pd.f4', 'd3gi_pd.f6'}"
      ]
     },
     "execution_count": 73,
     "metadata": {},
     "output_type": "execute_result"
    }
   ],
   "source": [
    "set(d3gi_pd_mm)"
   ]
  },
  {
   "cell_type": "code",
   "execution_count": null,
   "metadata": {},
   "outputs": [],
   "source": []
  }
 ],
 "metadata": {
  "kernelspec": {
   "display_name": "Python 3",
   "language": "python",
   "name": "python3"
  },
  "language_info": {
   "codemirror_mode": {
    "name": "ipython",
    "version": 3
   },
   "file_extension": ".py",
   "mimetype": "text/x-python",
   "name": "python",
   "nbconvert_exporter": "python",
   "pygments_lexer": "ipython3",
   "version": "3.7.6"
  }
 },
 "nbformat": 4,
 "nbformat_minor": 4
}
