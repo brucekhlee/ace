{
 "cells": [
  {
   "cell_type": "code",
   "execution_count": null,
   "metadata": {},
   "outputs": [],
   "source": [
    "import glob\n",
    "import pickle\n",
    "import seaborn as sns\n",
    "import pandas as pd\n",
    "import numpy as np\n",
    "from natsort import natsorted, ns\n",
    "import matplotlib.pyplot as plt\n",
    "from scipy.interpolate import make_interp_spline, BSpline\n",
    "from matplotlib import gridspec\n"
   ]
  },
  {
   "cell_type": "code",
   "execution_count": 4,
   "metadata": {},
   "outputs": [],
   "source": [
    "def read_data(receptor, ligand, time_limit=0, Verbose=False, exclusions=[]):\n",
    "    data = {\"Interface\":[], \"Interface_A\":[], \"Interface_B\":[], \"receptor\":[], \"jobname\":[], \"Time\":[], \"Frame\":[]}\n",
    "    _filein = glob.glob(\"/home/khlee/work/desmond/output/\"+receptor+\"/\"+ligand+\"/*/\")\n",
    "    _filein = natsorted(_filein, key=lambda y: y.lower())\n",
    "    if Verbose:\n",
    "        print(_filein)\n",
    "    for i in range(len(_filein)):\n",
    "        if _filein[i].split(\"/\")[-1] in exclusions:\n",
    "            continue\n",
    "        try:\n",
    "            t = np.loadtxt(_filein[i]+'/ene/time.dat')\n",
    "            frame = list(range(1,len(t)+1))\n",
    "            obs = pickle.load(open(_filein[i]+'/output/gpcr_interface.p',\"rb\"))\n",
    "            obs_a = pickle.load(open(_filein[i]+'/output/gpcr_interface_RA.p',\"rb\"))\n",
    "            obs_b = pickle.load(open(_filein[i]+'/output/gpcr_interface_RB.p',\"rb\"))\n",
    "        \n",
    "            assert (len(t)==len(obs))\n",
    "            assert (len(obs) == len(obs_a))\n",
    "            assert (len(obs) == len(obs_b))\n",
    "            \n",
    "            temp = pd.DataFrame({\"obs\":obs, \"obs_a\":obs_a, \"obs_b\":obs_b, \"t\":t, \"frame\":frame})\n",
    "            \n",
    "            sel = list(temp[temp[\"t\"]>=time_limit][\"obs\"])\n",
    "            sel_a = list(temp[temp[\"t\"]>=time_limit][\"obs_a\"])\n",
    "            sel_b = list(temp[temp[\"t\"]>=time_limit][\"obs_b\"])\n",
    "            sel_t = list(temp[temp[\"t\"]>=time_limit][\"t\"])\n",
    "            sel_frame = list(temp[temp[\"t\"]>=time_limit][\"frame\"])\n",
    "            \n",
    "            data[\"Interface\"] += sel\n",
    "            data[\"Interface_A\"] += sel_a\n",
    "            data[\"Interface_B\"] += sel_b\n",
    "            data[\"receptor\"]+=[receptor for a in range(len(sel))]\n",
    "            data[\"jobname\"]+=[_filein[i].split(\"/\")[-2].split(\"_\")[-1] for a in range(len(sel))]\n",
    "            data[\"Time\"]+=sel_t\n",
    "            data[\"Frame\"]+=sel_frame\n",
    "        except:\n",
    "            continue\n",
    "    \n",
    "    return pd.DataFrame(data)\n",
    "\n",
    "def check_interface(df, receptor=None):\n",
    "    difference = []\n",
    "    ab = []\n",
    "    for i in range(len(df)):\n",
    "        difference.append(df[\"Interface\"][i] - (df[\"Interface_A\"][i] + df[\"Interface_B\"][i]))\n",
    "        ab.append(df[\"Interface_A\"][i] + df[\"Interface_B\"][i])\n",
    "    df[\"RAB-AB\"] = difference\n",
    "    df[\"AB\"] = ab\n",
    "    return df"
   ]
  },
  {
   "cell_type": "code",
   "execution_count": 5,
   "metadata": {},
   "outputs": [
    {
     "data": {
      "text/html": [
       "<div>\n",
       "<style scoped>\n",
       "    .dataframe tbody tr th:only-of-type {\n",
       "        vertical-align: middle;\n",
       "    }\n",
       "\n",
       "    .dataframe tbody tr th {\n",
       "        vertical-align: top;\n",
       "    }\n",
       "\n",
       "    .dataframe thead th {\n",
       "        text-align: right;\n",
       "    }\n",
       "</style>\n",
       "<table border=\"1\" class=\"dataframe\">\n",
       "  <thead>\n",
       "    <tr style=\"text-align: right;\">\n",
       "      <th></th>\n",
       "      <th>Time</th>\n",
       "      <th>jobname</th>\n",
       "      <th>receptor</th>\n",
       "      <th>Frame</th>\n",
       "      <th>Interface_A</th>\n",
       "      <th>Interface_B</th>\n",
       "      <th>RAB-AB</th>\n",
       "      <th>variable</th>\n",
       "      <th>Interface</th>\n",
       "    </tr>\n",
       "  </thead>\n",
       "  <tbody>\n",
       "    <tr>\n",
       "      <th>0</th>\n",
       "      <td>0.6</td>\n",
       "      <td>bro.f1</td>\n",
       "      <td>d2gi</td>\n",
       "      <td>1</td>\n",
       "      <td>1512.0</td>\n",
       "      <td>149.0</td>\n",
       "      <td>-7.0</td>\n",
       "      <td>Interface</td>\n",
       "      <td>1654.0</td>\n",
       "    </tr>\n",
       "    <tr>\n",
       "      <th>1</th>\n",
       "      <td>1.2</td>\n",
       "      <td>bro.f1</td>\n",
       "      <td>d2gi</td>\n",
       "      <td>2</td>\n",
       "      <td>1397.0</td>\n",
       "      <td>174.0</td>\n",
       "      <td>-11.0</td>\n",
       "      <td>Interface</td>\n",
       "      <td>1560.0</td>\n",
       "    </tr>\n",
       "    <tr>\n",
       "      <th>2</th>\n",
       "      <td>1.8</td>\n",
       "      <td>bro.f1</td>\n",
       "      <td>d2gi</td>\n",
       "      <td>3</td>\n",
       "      <td>1421.0</td>\n",
       "      <td>171.0</td>\n",
       "      <td>-5.0</td>\n",
       "      <td>Interface</td>\n",
       "      <td>1587.0</td>\n",
       "    </tr>\n",
       "    <tr>\n",
       "      <th>3</th>\n",
       "      <td>2.4</td>\n",
       "      <td>bro.f1</td>\n",
       "      <td>d2gi</td>\n",
       "      <td>4</td>\n",
       "      <td>1390.0</td>\n",
       "      <td>172.0</td>\n",
       "      <td>-8.0</td>\n",
       "      <td>Interface</td>\n",
       "      <td>1554.0</td>\n",
       "    </tr>\n",
       "    <tr>\n",
       "      <th>4</th>\n",
       "      <td>3.0</td>\n",
       "      <td>bro.f1</td>\n",
       "      <td>d2gi</td>\n",
       "      <td>5</td>\n",
       "      <td>1403.0</td>\n",
       "      <td>164.0</td>\n",
       "      <td>-9.0</td>\n",
       "      <td>Interface</td>\n",
       "      <td>1558.0</td>\n",
       "    </tr>\n",
       "    <tr>\n",
       "      <th>...</th>\n",
       "      <td>...</td>\n",
       "      <td>...</td>\n",
       "      <td>...</td>\n",
       "      <td>...</td>\n",
       "      <td>...</td>\n",
       "      <td>...</td>\n",
       "      <td>...</td>\n",
       "      <td>...</td>\n",
       "      <td>...</td>\n",
       "    </tr>\n",
       "    <tr>\n",
       "      <th>5995</th>\n",
       "      <td>717.6</td>\n",
       "      <td>bro.f3</td>\n",
       "      <td>d2gi</td>\n",
       "      <td>1196</td>\n",
       "      <td>1296.0</td>\n",
       "      <td>61.0</td>\n",
       "      <td>-17.0</td>\n",
       "      <td>AB</td>\n",
       "      <td>1357.0</td>\n",
       "    </tr>\n",
       "    <tr>\n",
       "      <th>5996</th>\n",
       "      <td>718.2</td>\n",
       "      <td>bro.f3</td>\n",
       "      <td>d2gi</td>\n",
       "      <td>1197</td>\n",
       "      <td>1260.0</td>\n",
       "      <td>72.0</td>\n",
       "      <td>-16.0</td>\n",
       "      <td>AB</td>\n",
       "      <td>1332.0</td>\n",
       "    </tr>\n",
       "    <tr>\n",
       "      <th>5997</th>\n",
       "      <td>718.8</td>\n",
       "      <td>bro.f3</td>\n",
       "      <td>d2gi</td>\n",
       "      <td>1198</td>\n",
       "      <td>1247.0</td>\n",
       "      <td>60.0</td>\n",
       "      <td>-12.0</td>\n",
       "      <td>AB</td>\n",
       "      <td>1307.0</td>\n",
       "    </tr>\n",
       "    <tr>\n",
       "      <th>5998</th>\n",
       "      <td>719.4</td>\n",
       "      <td>bro.f3</td>\n",
       "      <td>d2gi</td>\n",
       "      <td>1199</td>\n",
       "      <td>1247.0</td>\n",
       "      <td>32.0</td>\n",
       "      <td>-14.0</td>\n",
       "      <td>AB</td>\n",
       "      <td>1279.0</td>\n",
       "    </tr>\n",
       "    <tr>\n",
       "      <th>5999</th>\n",
       "      <td>720.0</td>\n",
       "      <td>bro.f3</td>\n",
       "      <td>d2gi</td>\n",
       "      <td>1200</td>\n",
       "      <td>1264.0</td>\n",
       "      <td>36.0</td>\n",
       "      <td>-19.0</td>\n",
       "      <td>AB</td>\n",
       "      <td>1300.0</td>\n",
       "    </tr>\n",
       "  </tbody>\n",
       "</table>\n",
       "<p>6000 rows × 9 columns</p>\n",
       "</div>"
      ],
      "text/plain": [
       "       Time jobname receptor  Frame  Interface_A  Interface_B  RAB-AB  \\\n",
       "0       0.6  bro.f1     d2gi      1       1512.0        149.0    -7.0   \n",
       "1       1.2  bro.f1     d2gi      2       1397.0        174.0   -11.0   \n",
       "2       1.8  bro.f1     d2gi      3       1421.0        171.0    -5.0   \n",
       "3       2.4  bro.f1     d2gi      4       1390.0        172.0    -8.0   \n",
       "4       3.0  bro.f1     d2gi      5       1403.0        164.0    -9.0   \n",
       "...     ...     ...      ...    ...          ...          ...     ...   \n",
       "5995  717.6  bro.f3     d2gi   1196       1296.0         61.0   -17.0   \n",
       "5996  718.2  bro.f3     d2gi   1197       1260.0         72.0   -16.0   \n",
       "5997  718.8  bro.f3     d2gi   1198       1247.0         60.0   -12.0   \n",
       "5998  719.4  bro.f3     d2gi   1199       1247.0         32.0   -14.0   \n",
       "5999  720.0  bro.f3     d2gi   1200       1264.0         36.0   -19.0   \n",
       "\n",
       "       variable  Interface  \n",
       "0     Interface     1654.0  \n",
       "1     Interface     1560.0  \n",
       "2     Interface     1587.0  \n",
       "3     Interface     1554.0  \n",
       "4     Interface     1558.0  \n",
       "...         ...        ...  \n",
       "5995         AB     1357.0  \n",
       "5996         AB     1332.0  \n",
       "5997         AB     1307.0  \n",
       "5998         AB     1279.0  \n",
       "5999         AB     1300.0  \n",
       "\n",
       "[6000 rows x 9 columns]"
      ]
     },
     "execution_count": 5,
     "metadata": {},
     "output_type": "execute_result"
    }
   ],
   "source": [
    "d2gi = read_data(\"d2gi\", \"bro\")\n",
    "d2gi = check_interface(d2gi, \"d2gi\")\n",
    "d2gi_melt=pd.melt(d2gi, id_vars=[\"Time\", \"jobname\", \"receptor\", \"Frame\", \"Interface_A\", \"Interface_B\", \"RAB-AB\"],\n",
    "                value_name=\"Interface\" )\n",
    "d2gi_melt"
   ]
  },
  {
   "cell_type": "code",
   "execution_count": null,
   "metadata": {},
   "outputs": [],
   "source": [
    "#sns.lineplot(data=d2gi_melt, x=\"Time\", y=\"Interface\", hue=\"variable\", style=\"receptor\")"
   ]
  },
  {
   "cell_type": "code",
   "execution_count": 13,
   "metadata": {},
   "outputs": [],
   "source": [
    "sel_jobname=\"bro.f3\"\n",
    "\n",
    "indf = d2gi\n",
    "\n",
    "indf2=indf[indf['jobname']==sel_jobname]\n",
    "\n",
    "\n",
    "t=list(indf2['Time'])\n",
    "RAB=list(indf2['Interface'])\n",
    "RA=list(indf2['Interface_A'])\n",
    "RB=list(indf2['Interface_B'])\n",
    "diff=list(indf2['RAB-AB'])\n",
    "\n",
    "datain=RAB\n",
    "title=\"interface SASA \"+sel_jobname\n",
    "data_label=\"\"\n",
    "colorin=\"red\""
   ]
  },
  {
   "cell_type": "code",
   "execution_count": 18,
   "metadata": {},
   "outputs": [
    {
     "data": {
      "image/png": "[encoded data removed]",
      "text/plain": [
       "<Figure size 576x216 with 1 Axes>"
      ]
     },
     "metadata": {
      "needs_background": "light"
     },
     "output_type": "display_data"
    }
   ],
   "source": [
    "\n",
    "nrow = 1\n",
    "ncol = 1\n",
    "figheight = 3\n",
    "figwidth = 8\n",
    "linewidth = 1\n",
    "\n",
    "fig, ax1 = plt.subplots(nrow, ncol, figsize=(figwidth, figheight))\n",
    "#fig.suptitle(title, fontsize=\"x-large\")\n",
    "fig.subplots_adjust(hspace=0.05, wspace=0.1)\n",
    "\n",
    "ax1.plot(RAB, RAB, markersize=1, lw=linewidth, label=\"RAB\",color=\"red\")\n",
    "ax1.plot(t, RA, markersize=1, lw=linewidth, label=\"RA_RB\",color=\"blue\")\n",
    "ax1.set_xlabel(\"Time (ns)\")\n",
    "ax1.set_ylabel(\"Interface (Å)\")\n",
    "ax1.set_title(title)\n",
    "ax1.grid(True, linestyle='dotted', linewidth=0.2)\n",
    "ax1.legend(loc='upper right', frameon=False)\n",
    "# ax1.set_ylim(binstr, binend)\n",
    "ax1.tick_params(top=True, bottom=True, left=True, right=True,\n",
    "                labelleft=True, labelbottom=True)\n",
    "\n"
   ]
  },
  {
   "cell_type": "code",
   "execution_count": null,
   "metadata": {},
   "outputs": [],
   "source": []
  },
  {
   "cell_type": "code",
   "execution_count": null,
   "metadata": {},
   "outputs": [],
   "source": []
  },
  {
   "cell_type": "code",
   "execution_count": null,
   "metadata": {},
   "outputs": [],
   "source": []
  },
  {
   "cell_type": "code",
   "execution_count": null,
   "metadata": {},
   "outputs": [],
   "source": []
  },
  {
   "cell_type": "code",
   "execution_count": null,
   "metadata": {},
   "outputs": [],
   "source": [
    "sns.lineplot()"
   ]
  },
  {
   "cell_type": "code",
   "execution_count": null,
   "metadata": {},
   "outputs": [],
   "source": [
    "d2go = read_data(\"d2go\", \"bro\")"
   ]
  },
  {
   "cell_type": "code",
   "execution_count": null,
   "metadata": {},
   "outputs": [],
   "source": [
    "d2go_mm = check_interface(d2go, \"d2go\")\n",
    "len(d2go_mm)"
   ]
  },
  {
   "cell_type": "code",
   "execution_count": null,
   "metadata": {},
   "outputs": [],
   "source": [
    "len(d2go)"
   ]
  },
  {
   "cell_type": "code",
   "execution_count": null,
   "metadata": {},
   "outputs": [],
   "source": [
    "set(d2go_mm)"
   ]
  },
  {
   "cell_type": "code",
   "execution_count": null,
   "metadata": {},
   "outputs": [],
   "source": [
    "d3gi_prm = read_data(\"d3gi\", \"prm\")\n",
    "d3gi_prm_mm = check_interface(d3gi_prm, \"d3gi\")\n",
    "len(d3gi_prm_mm)"
   ]
  },
  {
   "cell_type": "code",
   "execution_count": null,
   "metadata": {},
   "outputs": [],
   "source": [
    "d3go_prm = read_data(\"d3go\", \"prm\")\n",
    "d3go_prm_mm = check_interface(d3go_prm, \"d3go\")\n",
    "len(d3go_prm_mm)"
   ]
  },
  {
   "cell_type": "code",
   "execution_count": null,
   "metadata": {},
   "outputs": [],
   "source": [
    "len(d3go_prm)"
   ]
  },
  {
   "cell_type": "code",
   "execution_count": null,
   "metadata": {},
   "outputs": [],
   "source": [
    "set(d3go_prm_mm)"
   ]
  },
  {
   "cell_type": "code",
   "execution_count": null,
   "metadata": {},
   "outputs": [],
   "source": [
    "d3go_pd = read_data(\"d3go\", \"pd\")\n",
    "d3go_pd_mm = check_interface(d3go_pd, \"d3go\")\n",
    "len(d3go_pd_mm)"
   ]
  },
  {
   "cell_type": "code",
   "execution_count": null,
   "metadata": {},
   "outputs": [],
   "source": [
    "len(d3go_pd)"
   ]
  },
  {
   "cell_type": "code",
   "execution_count": null,
   "metadata": {},
   "outputs": [],
   "source": [
    "set(d3go_pd_mm)"
   ]
  },
  {
   "cell_type": "code",
   "execution_count": null,
   "metadata": {},
   "outputs": [],
   "source": [
    "d3gi_pd = read_data(\"d3gi\", \"pd\")\n",
    "d3gi_pd_mm = check_interface(d3gi_pd, \"d3gi\")\n",
    "len(d3gi_pd_mm)"
   ]
  },
  {
   "cell_type": "code",
   "execution_count": null,
   "metadata": {},
   "outputs": [],
   "source": [
    "len(d3gi_pd)"
   ]
  },
  {
   "cell_type": "code",
   "execution_count": null,
   "metadata": {},
   "outputs": [],
   "source": [
    "set(d3gi_pd_mm)"
   ]
  },
  {
   "cell_type": "code",
   "execution_count": null,
   "metadata": {},
   "outputs": [],
   "source": [
    "a = pickle.load(open(\"/home/khlee/work/desmond/output/d3go/prm/d3go_prm.f1/output/gpcr_interface.p\", 'rb'))"
   ]
  },
  {
   "cell_type": "code",
   "execution_count": null,
   "metadata": {},
   "outputs": [],
   "source": [
    "b=pickle.load(open(\"/home/khlee/work/desmond/output/d3go/prm/d3go_prm.f1/output/gpcr_interface_RA.p\", 'rb'))"
   ]
  },
  {
   "cell_type": "code",
   "execution_count": null,
   "metadata": {},
   "outputs": [],
   "source": [
    "c=pickle.load(open(\"/home/khlee/work/desmond/output/d3go/prm/d3go_prm.f1/output/gpcr_interface_RB.p\", 'rb'))"
   ]
  },
  {
   "cell_type": "code",
   "execution_count": null,
   "metadata": {},
   "outputs": [],
   "source": [
    "a[0:5]"
   ]
  },
  {
   "cell_type": "code",
   "execution_count": null,
   "metadata": {},
   "outputs": [],
   "source": [
    "b[0:5]"
   ]
  },
  {
   "cell_type": "code",
   "execution_count": null,
   "metadata": {},
   "outputs": [],
   "source": [
    "c[0:5]"
   ]
  },
  {
   "cell_type": "code",
   "execution_count": null,
   "metadata": {},
   "outputs": [],
   "source": []
  }
 ],
 "metadata": {
  "kernelspec": {
   "display_name": "Python 3",
   "language": "python",
   "name": "python3"
  },
  "language_info": {
   "codemirror_mode": {
    "name": "ipython",
    "version": 3
   },
   "file_extension": ".py",
   "mimetype": "text/x-python",
   "name": "python",
   "nbconvert_exporter": "python",
   "pygments_lexer": "ipython3",
   "version": "3.7.6"
  }
 },
 "nbformat": 4,
 "nbformat_minor": 4
}
