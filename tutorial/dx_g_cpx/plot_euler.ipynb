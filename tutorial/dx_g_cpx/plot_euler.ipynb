{
 "cells": [
  {
   "cell_type": "code",
   "execution_count": 38,
   "metadata": {},
   "outputs": [],
   "source": [
    "import pandas as pd\n",
    "import numpy as np\n",
    "from scipy.interpolate import make_interp_spline, BSpline\n",
    "import matplotlib.pyplot as plt\n",
    "from matplotlib import gridspec\n",
    "\n",
    "\n",
    "df =pd.read_hdf('/home/khlee/desmond/output/d2go/bro/d2go_bro/output/gpcr_euler.hdf','df')"
   ]
  },
  {
   "cell_type": "code",
   "execution_count": 39,
   "metadata": {},
   "outputs": [],
   "source": [
    "# t\n",
    "t=range(len(df))"
   ]
  },
  {
   "cell_type": "code",
   "execution_count": 40,
   "metadata": {},
   "outputs": [],
   "source": [
    "# raw data in list\n",
    "datain=list(df['alpha'])\n"
   ]
  },
  {
   "cell_type": "code",
   "execution_count": 37,
   "metadata": {},
   "outputs": [],
   "source": [
    "def get_smooth(x,y):\n",
    "    # 300 represents number of points to make between T.min and T.max\n",
    "    xnew = np.linspace(x.min(), x.max(), 300) \n",
    "    # type: BSpline\n",
    "    spl = make_interp_spline(x, y, k=1)\n",
    "    power_smooth = spl(xnew)\n",
    "    return(xnew, power_smooth)\n",
    "\n",
    "def bining_last_half(datain, nbin, binstr, binend):\n",
    "    # do bining for last half\n",
    "    _datain=list(datain)\n",
    "    n0 = int(len(_datain)/2)\n",
    "    _datain = _datain[n0:]\n",
    "\n",
    "    hist, bins = np.histogram(_datain, bins=nbin, range=[binstr, binend], density=False)\n",
    "    hist_n = hist / sum(hist)\n",
    "\n",
    "    # manipulate bin\n",
    "    bin_shift = (bins[1] - bins[0]) / 2\n",
    "    nbin_center = len(bins) - 1\n",
    "    xbin = bins + bin_shift\n",
    "    xbin = xbin[0:nbin_center]\n",
    "\n",
    "    return xbin, hist_n\n",
    "\n",
    "def calc_np_std(list):\n",
    "    _std=np.std(np.array(list))\n",
    "    return _std\n",
    "\n",
    "def calc_np_ave(list):\n",
    "    _ave=np.mean(np.array(list))\n",
    "    return _ave\n",
    "\n",
    "def plot_evol_hist_stat(t=None,datain=None,\n",
    "                        nbin=30, binstr=0, binend=8,\n",
    "                        title='',\n",
    "                        title_1='', title_2='', xlabel_1='', ylabel_1='',\n",
    "                        xlabel_2='', ylabel_2='',\n",
    "                        data_label='',\n",
    "                        outfilename=None,\n",
    "                        colorin=\"red\"):\n",
    "\n",
    "    t=t\n",
    "    style=\"p\"\n",
    "    n = len(datain)\n",
    "    datain=list(datain)\n",
    "    #colorin=\"red\"\n",
    "\n",
    "    #if n > 900:\n",
    "    npoint = 100\n",
    "    n0 = int(n / 3)\n",
    "    n1 = int(n / 3 * 2)\n",
    "    n2 = int(n) - npoint*2\n",
    "    n3 = int(n) - npoint\n",
    "    xx = (1, 2, 3, 4)\n",
    "    yy = [calc_np_ave(datain[n0:n1]), calc_np_ave(datain[n1:n2]),\n",
    "              calc_np_ave(datain[n2:n3]), calc_np_ave(datain[n3:n])]\n",
    "    yyerr = [calc_np_std(datain[n0:n1]), calc_np_std(datain[n1:n2]),\n",
    "              calc_np_std(datain[n2:n3]), calc_np_std(datain[n3:n])]\n",
    "\n",
    "    #t = np.arange(len(datain))\n",
    "    xbin, hist_n = bining_last_half(datain, nbin, binstr, binend)\n",
    "\n",
    "    # smooth plot\n",
    "    x, y = get_smooth(xbin, hist_n)\n",
    "\n",
    "    # figure parameters\n",
    "    nrow = 1\n",
    "    ncol = 3\n",
    "    figheight = 2.5\n",
    "    figwidth = 8\n",
    "    linewidth = 1\n",
    "\n",
    "    fig, axs = plt.subplots(nrow, ncol, figsize=(figwidth, figheight))\n",
    "    fig.suptitle(title, fontsize=\"x-large\")\n",
    "    fig.subplots_adjust(hspace=0.05, wspace=0.1)\n",
    "\n",
    "    gs = gridspec.GridSpec(nrow, ncol, width_ratios=[6, 1, 2])\n",
    "\n",
    "    ax1 = plt.subplot(gs[0])\n",
    "    if style=='l':\n",
    "        ax1.plot(t, datain, markersize=1, lw=linewidth, label=data_label,color=colorin)\n",
    "    elif style=='p':\n",
    "        ax1.plot(t,datain,'bo',markersize=1,lw=linewidth,label=data_label,color=colorin)\n",
    "    ax1.set_xlabel(xlabel_1)\n",
    "    ax1.set_ylabel(ylabel_1)\n",
    "    ax1.set_title(title_1)\n",
    "    ax1.grid(True, linestyle='dotted', linewidth=0.2)\n",
    "    ax1.legend(loc='upper left', frameon=False)\n",
    "    ax1.set_ylim(binstr, binend)\n",
    "    ax1.tick_params(top=True, bottom=True, left=True, right=True,\n",
    "                    labelleft=True, labelbottom=True)\n",
    "\n",
    "\n",
    "    ax2 = plt.subplot(gs[1])\n",
    "    ax2.plot(y, x, lw=linewidth, label=data_label,color=colorin)\n",
    "    ax2.set_xlabel(xlabel_2)\n",
    "    ax2.set_ylabel(ylabel_2)\n",
    "    ax2.set_title(title_2)\n",
    "    ax2.grid(True, linestyle='dotted', linewidth=0.2)\n",
    "    # ax2.legend(loc='upper right', frameon=False)\n",
    "    ax2.set_ylim(binstr, binend)\n",
    "    ax2.tick_params(top=True, bottom=True, left=True, right=True,\n",
    "                    labelleft=False, labelbottom=True)\n",
    "\n",
    "    ax3 = plt.subplot(gs[2])\n",
    "    #ax3.errorbar(xx, yy, 0, yyerr'bo', fmt='o', lw=linewidth, label=data_label)\n",
    "    ax3.errorbar(xx, yy, yyerr, 0, fmt='o',color=colorin)\n",
    "    ax3.set_xlabel('')\n",
    "    ax3.set_ylabel('')\n",
    "    ax3.set_title('')\n",
    "    ax3.grid(True, linestyle='dotted', linewidth=0.2)\n",
    "    # ax3.legend(loc='upper right', frameon=False)\n",
    "    ax3.set_ylim(binstr, binend)\n",
    "    ax3.set_xlim(0, 5)\n",
    "    ax3.tick_params(top=True, bottom=True, left=True, right=True,\n",
    "                    labelleft=False, labelbottom=False)\n",
    "\n",
    "    #plt.show()\n",
    "   # plt.savefig(outfilename+\".png\", dpi=300, bbox_inches='tight')\n"
   ]
  },
  {
   "cell_type": "code",
   "execution_count": 41,
   "metadata": {},
   "outputs": [
    {
     "name": "stderr",
     "output_type": "stream",
     "text": [
      "No handles with labels found to put in legend.\n"
     ]
    },
    {
     "data": {
      "image/png": "[encoded data removed]",
      "text/plain": [
       "<Figure size 576x180 with 3 Axes>"
      ]
     },
     "metadata": {
      "needs_background": "light"
     },
     "output_type": "display_data"
    }
   ],
   "source": [
    "plot_evol_hist_stat(t,datain,binstr=-180, binend=180)"
   ]
  },
  {
   "cell_type": "code",
   "execution_count": null,
   "metadata": {},
   "outputs": [],
   "source": []
  }
 ],
 "metadata": {
  "kernelspec": {
   "display_name": "Python 3",
   "language": "python",
   "name": "python3"
  },
  "language_info": {
   "codemirror_mode": {
    "name": "ipython",
    "version": 3
   },
   "file_extension": ".py",
   "mimetype": "text/x-python",
   "name": "python",
   "nbconvert_exporter": "python",
   "pygments_lexer": "ipython3",
   "version": "3.7.6"
  }
 },
 "nbformat": 4,
 "nbformat_minor": 4
}
