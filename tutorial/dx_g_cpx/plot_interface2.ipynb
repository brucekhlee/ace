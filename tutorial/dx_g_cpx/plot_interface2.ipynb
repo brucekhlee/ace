{
 "cells": [
  {
   "cell_type": "code",
   "execution_count": 1,
   "metadata": {},
   "outputs": [],
   "source": [
    "import glob\n",
    "import pickle\n",
    "import seaborn as sns\n",
    "import pandas as pd\n",
    "import numpy as np\n",
    "from natsort import natsorted, ns\n"
   ]
  },
  {
   "cell_type": "code",
   "execution_count": null,
   "metadata": {},
   "outputs": [],
   "source": []
  },
  {
   "cell_type": "code",
   "execution_count": 2,
   "metadata": {},
   "outputs": [],
   "source": [
    "# create function\n",
    "# 2: 1cell for one comparision \n",
    "# 3. d2gi/d2go (opls4)\n",
    "#   d3gi/d3go (opls4) <------------\n",
    "#   d3gi/d3go (opls3e)  \n",
    "\n",
    "# d3gi_prm (6 simulations)\n",
    "# /home/khlee/work/desmond/output/drd3/prm7/drd3_prm7.f*/\n",
    "# d3gi_pd (6 simulations)\n",
    "# /home/khlee/work/desmond/output/drd3/pd2/drd3_pd2.f*/\n",
    "# d3go_prm (6 simulations)\n",
    "# /home/khlee/work/desmond/output/drd3ao/prm3/drd3ao_prm3.f*/\n",
    "# d3go_pd (6 simulations)\n",
    "# /home/khlee/work/desmond/output/drd3ao/pd2/drd3_pd2.f*/\n",
    "\n",
    "\n",
    "# after 300ns\n",
    "# (1 row is a plot)\n",
    "# bro: d2gi/d2go\n",
    "# prm: d3gi/d3go (opls3e)\n",
    "# prm: d3gi/d3go (opls4)\n",
    "# pd: d3gi/d3go (opls3e)\n",
    "# pd: d3gi/d3go (opls4)\n",
    "\n"
   ]
  },
  {
   "cell_type": "code",
   "execution_count": 3,
   "metadata": {},
   "outputs": [],
   "source": [
    "def read_data(receptor, ligand, time_limit=0):\n",
    "    data = {\"Interface\":[], \"System\":[], \"Simulation\":[]}\n",
    "    _filein = glob.glob(\"/home/khlee/work/desmond/output/\"+receptor+\"/\"+ligand+\"/*/\")\n",
    "    _filein = natsorted(_filein, key=lambda y: y.lower())\n",
    "    for i in range(len(_filein)):\n",
    "        t=np.loadtxt(_filein[i]+'/ene/time.dat')\n",
    "        obs=pickle.load(open(_filein[i]+'/output/gpcr_interface.p',\"rb\"))\n",
    "        assert (len(t)==len(obs))\n",
    "\n",
    "        temp = pd.DataFrame({\"obs\":obs, \"t\":t})\n",
    "        sel = list(temp[temp[\"t\"]>=time_limit][\"obs\"])\n",
    "\n",
    "        data[\"Interface\"] += sel\n",
    "        data[\"System\"]+=[receptor for a in range(len(sel))]\n",
    "        data[\"Simulation\"]+=[_filein[i].split(\"/\")[-2].split(\"_\")[-1] for a in range(len(sel))]\n",
    "    \n",
    "    return pd.DataFrame(data)"
   ]
  },
  {
   "cell_type": "code",
   "execution_count": 13,
   "metadata": {},
   "outputs": [],
   "source": [
    "def read_data2(receptor, ligand, time_limit=0):\n",
    "    data = {\"Interface\":[], \"System\":[], \"Simulation\":[]}\n",
    "    _filein = glob.glob(\"/home/khlee/work/desmond/output/\"+receptor+\"/\"+ligand+\"/*.f*/\")\n",
    "    _filein = natsorted(_filein, key=lambda y: y.lower())\n",
    "    print(_filein)\n",
    "    for i in range(len(_filein)):\n",
    "        t=np.loadtxt(_filein[i]+'/ene/time.dat')\n",
    "        obs=pickle.load(open(_filein[i]+'/output/gpcr_interface.p',\"rb\"))\n",
    "        assert (len(t)==len(obs))\n",
    "\n",
    "        temp = pd.DataFrame({\"obs\":obs, \"t\":t})\n",
    "        sel = list(temp[temp[\"t\"]>=time_limit][\"obs\"])\n",
    "\n",
    "        data[\"Interface\"] += sel\n",
    "        data[\"System\"]+=[receptor for a in range(len(sel))]\n",
    "        data[\"Simulation\"]+=[_filein[i].split(\"/\")[-2].split(\"_\")[-1] for a in range(len(sel))]\n",
    "    \n",
    "    return pd.DataFrame(data)"
   ]
  },
  {
   "cell_type": "code",
   "execution_count": null,
   "metadata": {},
   "outputs": [],
   "source": []
  },
  {
   "cell_type": "code",
   "execution_count": 4,
   "metadata": {},
   "outputs": [
    {
     "data": {
      "image/png": "[encoded data removed]",
      "text/plain": [
       "<Figure size 691.2x288 with 2 Axes>"
      ]
     },
     "metadata": {
      "needs_background": "light"
     },
     "output_type": "display_data"
    }
   ],
   "source": [
    "d2go_bro = read_data(\"d2go\", \"bro\", 300)\n",
    "d2gi_bro = read_data(\"d2gi\", \"bro\", 300)\n",
    "d2_bro = pd.concat([d2go_bro,d2gi_bro])\n",
    "d2_bro_plot = sns.catplot(x=\"Simulation\", y=\"Interface\",\n",
    "                col=\"System\", color='c',\n",
    "                data=d2_bro, kind=\"bar\",\n",
    "                height=4, aspect=1.2);"
   ]
  },
  {
   "cell_type": "code",
   "execution_count": 57,
   "metadata": {},
   "outputs": [
    {
     "name": "stdout",
     "output_type": "stream",
     "text": [
      "d2gi bro 1516.1890091590342\n",
      "d2gi bro.1 1480.225645295587\n",
      "d2gi bro.2 1572.8434637801831\n",
      "d2gi bro.3 1475.4687760199834\n",
      "d2gi bro.4 1513.4604496253123\n",
      "d2gi bro.5 1444.090757701915\n",
      "d2go bro 1536.947543713572\n",
      "d2go bro.1 1688.3705245628644\n",
      "d2go bro.2 1514.96003996004\n",
      "d2go bro.3 1621.873438800999\n",
      "d2go bro.4 1498.2197802197802\n",
      "d2go bro.5 1501.2639467110741\n"
     ]
    }
   ],
   "source": [
    "ls_rec=[\"d2gi\",\"d2go\"]\n",
    "ls_jonnames=[\"\",\".1\",\".2\",\".3\",\".4\",\".5\"]\n",
    "\n",
    "for i_rec in range(len(ls_rec)):\n",
    "    for i_jobname in range(len(ls_jonnames)):\n",
    "        df2=d2_bro[d2_bro['Simulation']==\"bro\"+ls_jonnames[i_jobname]]\n",
    "        _rawdata=list(df2[df2['System']==ls_rec[i_rec]]['Interface'])\n",
    "        print(ls_rec[i_rec], \"bro\"+ls_jonnames[i_jobname], sum(_rawdata)/len(_rawdata))\n",
    "        #df2[df2['System']==ls_rec[i_rec]]"
   ]
  },
  {
   "cell_type": "code",
   "execution_count": 5,
   "metadata": {},
   "outputs": [
    {
     "data": {
      "image/png": "[encoded data removed]",
      "text/plain": [
       "<Figure size 691.2x288 with 2 Axes>"
      ]
     },
     "metadata": {
      "needs_background": "light"
     },
     "output_type": "display_data"
    }
   ],
   "source": [
    "d3go_prm = read_data(\"d3go\", \"prm\", 300)\n",
    "d3gi_prm = read_data(\"d3gi\", \"prm\", 300)\n",
    "d3_prm = pd.concat([d3go_prm,d3gi_prm])\n",
    "d3_prm_plot = sns.catplot(x=\"Simulation\", y=\"Interface\",\n",
    "                col=\"System\", color='c',\n",
    "                data=d3_prm, kind=\"bar\",\n",
    "                height=4, aspect=1.2);"
   ]
  },
  {
   "cell_type": "code",
   "execution_count": 65,
   "metadata": {},
   "outputs": [
    {
     "name": "stdout",
     "output_type": "stream",
     "text": [
      "d3gi f1 1794.840106595603\n",
      "d3gi f2\n",
      "d3gi f3 1903.1551814834297\n",
      "d3gi f4 1781.9640239840107\n",
      "d3gi f5 1878.6284538506761\n",
      "d3gi f6 1920.7366255144034\n",
      "d3go f1 1842.933897002306\n",
      "d3go f2 1648.9830899308224\n",
      "d3go f3 1582.4696868754163\n",
      "d3go f4 1763.4594894561599\n",
      "d3go f5 1851.865704772475\n",
      "d3go f6 1564.742504409171\n"
     ]
    }
   ],
   "source": [
    "ls_rec=[\"d3gi\",\"d3go\"]\n",
    "ls_jonnames=[\"f1\",\"f2\",\"f3\",\"f4\",\"f5\",\"f6\"]\n",
    "\n",
    "for i_rec in range(len(ls_rec)):\n",
    "    for i_jobname in range(len(ls_jonnames)):\n",
    "        df2=d3_prm[d3_prm['Simulation']==\"prm.\"+ls_jonnames[i_jobname]]\n",
    "        _rawdata=list(df2[df2['System']==ls_rec[i_rec]]['Interface'])\n",
    "        try:\n",
    "            _ave=sum(_rawdata)/len(_rawdata)\n",
    "            print(ls_rec[i_rec], ls_jonnames[i_jobname], _ave)\n",
    "            #df2[df2['System']==ls_rec[i_rec]]\n",
    "        except:\n",
    "            print(ls_rec[i_rec], ls_jonnames[i_jobname])"
   ]
  },
  {
   "cell_type": "code",
   "execution_count": 23,
   "metadata": {},
   "outputs": [
    {
     "data": {
      "image/png": "[encoded data removed]",
      "text/plain": [
       "<Figure size 691.2x288 with 2 Axes>"
      ]
     },
     "metadata": {
      "needs_background": "light"
     },
     "output_type": "display_data"
    }
   ],
   "source": [
    "d3go_pd = read_data(\"d3go\", \"pd\", 300)\n",
    "d3gi_pd = read_data(\"d3gi\", \"pd\", 300)\n",
    "d3_pd = pd.concat([d3go_pd,d3gi_pd])\n",
    "d3_pd_plot = sns.catplot(x=\"Simulation\", y=\"Interface\",\n",
    "                col=\"System\", color='c',\n",
    "                data=d3_pd, kind=\"bar\",\n",
    "                height=4, aspect=1.2);"
   ]
  },
  {
   "cell_type": "code",
   "execution_count": 51,
   "metadata": {},
   "outputs": [
    {
     "name": "stdout",
     "output_type": "stream",
     "text": [
      "d3gi f1 1795.3774019984628\n",
      "d3gi f2 1820.6936736958935\n",
      "d3gi f3 1972.0688124306325\n",
      "d3gi f4 1753.2441731409544\n",
      "d3gi f5 1867.16621253406\n",
      "d3gi f6 1957.196771714066\n",
      "d3go f1 1741.9782016348775\n",
      "d3go f2 1769.928247048138\n",
      "d3go f3 1669.4341507720255\n",
      "d3go f4 1611.765667574932\n",
      "d3go f5 1691.2098092643052\n",
      "d3go f6 1681.6590584878745\n"
     ]
    }
   ],
   "source": [
    "ls_rec=[\"d3gi\",\"d3go\"]\n",
    "ls_jonnames=[\"f1\",\"f2\",\"f3\",\"f4\",\"f5\",\"f6\"]\n",
    "\n",
    "for i_rec in range(len(ls_rec)):\n",
    "    for i_jobname in range(len(ls_jonnames)):\n",
    "        df2=d3_pd[d3_pd['Simulation']==\"pd.\"+ls_jonnames[i_jobname]]\n",
    "        _rawdata=list(df2[df2['System']==ls_rec[i_rec]]['Interface'])\n",
    "        print(ls_rec[i_rec], ls_jonnames[i_jobname], sum(_rawdata)/len(_rawdata))\n",
    "        #df2[df2['System']==ls_rec[i_rec]]"
   ]
  },
  {
   "cell_type": "code",
   "execution_count": 16,
   "metadata": {},
   "outputs": [
    {
     "name": "stdout",
     "output_type": "stream",
     "text": [
      "['/home/khlee/work/desmond/output/drd3ao/pd2/drd3ao_pd2.f1/', '/home/khlee/work/desmond/output/drd3ao/pd2/drd3ao_pd2.f2/', '/home/khlee/work/desmond/output/drd3ao/pd2/drd3ao_pd2.f3/', '/home/khlee/work/desmond/output/drd3ao/pd2/drd3ao_pd2.f4/', '/home/khlee/work/desmond/output/drd3ao/pd2/drd3ao_pd2.f5/', '/home/khlee/work/desmond/output/drd3ao/pd2/drd3ao_pd2.f6/']\n",
      "['/home/khlee/work/desmond/output/drd3/pd2/drd3_pd2.f1/', '/home/khlee/work/desmond/output/drd3/pd2/drd3_pd2.f2/', '/home/khlee/work/desmond/output/drd3/pd2/drd3_pd2.f3/', '/home/khlee/work/desmond/output/drd3/pd2/drd3_pd2.f4/', '/home/khlee/work/desmond/output/drd3/pd2/drd3_pd2.f5/', '/home/khlee/work/desmond/output/drd3/pd2/drd3_pd2.f6/']\n"
     ]
    },
    {
     "data": {
      "image/png": "[encoded data removed]",
      "text/plain": [
       "<Figure size 691.2x288 with 2 Axes>"
      ]
     },
     "metadata": {
      "needs_background": "light"
     },
     "output_type": "display_data"
    }
   ],
   "source": [
    "d3go_pd = read_data2(\"drd3ao\", \"pd2\", 300)\n",
    "d3gi_pd = read_data2(\"drd3\", \"pd2\", 300)\n",
    "d3_pd = pd.concat([d3go_pd,d3gi_pd])\n",
    "d3_pd_plot = sns.catplot(x=\"Simulation\", y=\"Interface\",\n",
    "                col=\"System\", color='c',\n",
    "                data=d3_pd, kind=\"bar\",\n",
    "                height=4, aspect=1.2);"
   ]
  },
  {
   "cell_type": "code",
   "execution_count": 52,
   "metadata": {},
   "outputs": [
    {
     "name": "stdout",
     "output_type": "stream",
     "text": [
      "d3gi f1 1795.3774019984628\n",
      "d3gi f2 1820.6936736958935\n",
      "d3gi f3 1972.0688124306325\n",
      "d3gi f4 1753.2441731409544\n",
      "d3gi f5 1867.16621253406\n",
      "d3gi f6 1957.196771714066\n",
      "d3go f1 1741.9782016348775\n",
      "d3go f2 1769.928247048138\n",
      "d3go f3 1669.4341507720255\n",
      "d3go f4 1611.765667574932\n",
      "d3go f5 1691.2098092643052\n",
      "d3go f6 1681.6590584878745\n"
     ]
    }
   ],
   "source": [
    "ls_rec=[\"d3gi\",\"d3go\"]\n",
    "ls_jonnames=[\"f1\",\"f2\",\"f3\",\"f4\",\"f5\",\"f6\"]\n",
    "\n",
    "for i_rec in range(len(ls_rec)):\n",
    "    for i_jobname in range(len(ls_jonnames)):\n",
    "        df2=d3_pd[d3_pd['Simulation']==\"pd.\"+ls_jonnames[i_jobname]]\n",
    "        _rawdata=list(df2[df2['System']==ls_rec[i_rec]]['Interface'])\n",
    "        print(ls_rec[i_rec], ls_jonnames[i_jobname], sum(_rawdata)/len(_rawdata))\n",
    "        #df2[df2['System']==ls_rec[i_rec]]"
   ]
  },
  {
   "cell_type": "code",
   "execution_count": 14,
   "metadata": {},
   "outputs": [
    {
     "name": "stdout",
     "output_type": "stream",
     "text": [
      "['/home/khlee/work/desmond/output/drd3ao/prm3/drd3ao_prm3.f1/', '/home/khlee/work/desmond/output/drd3ao/prm3/drd3ao_prm3.f2/', '/home/khlee/work/desmond/output/drd3ao/prm3/drd3ao_prm3.f3/', '/home/khlee/work/desmond/output/drd3ao/prm3/drd3ao_prm3.f4/', '/home/khlee/work/desmond/output/drd3ao/prm3/drd3ao_prm3.f5/', '/home/khlee/work/desmond/output/drd3ao/prm3/drd3ao_prm3.f6/']\n",
      "['/home/khlee/work/desmond/output/drd3/prm7/drd3_prm7.f1/', '/home/khlee/work/desmond/output/drd3/prm7/drd3_prm7.f2/', '/home/khlee/work/desmond/output/drd3/prm7/drd3_prm7.f3/', '/home/khlee/work/desmond/output/drd3/prm7/drd3_prm7.f4/', '/home/khlee/work/desmond/output/drd3/prm7/drd3_prm7.f5/', '/home/khlee/work/desmond/output/drd3/prm7/drd3_prm7.f6/']\n"
     ]
    },
    {
     "data": {
      "image/png": "[encoded data removed]",
      "text/plain": [
       "<Figure size 691.2x288 with 2 Axes>"
      ]
     },
     "metadata": {
      "needs_background": "light"
     },
     "output_type": "display_data"
    }
   ],
   "source": [
    "d3go_pd = read_data2(\"drd3ao\", \"prm3\", 600)\n",
    "d3gi_pd = read_data2(\"drd3\", \"prm7\", 600)\n",
    "d3_pd = pd.concat([d3go_pd,d3gi_pd])\n",
    "d3_pd_plot = sns.catplot(x=\"Simulation\", y=\"Interface\",\n",
    "                col=\"System\", color='c',\n",
    "                data=d3_pd, kind=\"bar\",\n",
    "                height=4, aspect=1.2);"
   ]
  }
 ],
 "metadata": {
  "kernelspec": {
   "display_name": "Python 3",
   "language": "python",
   "name": "python3"
  },
  "language_info": {
   "codemirror_mode": {
    "name": "ipython",
    "version": 3
   },
   "file_extension": ".py",
   "mimetype": "text/x-python",
   "name": "python",
   "nbconvert_exporter": "python",
   "pygments_lexer": "ipython3",
   "version": "3.7.6"
  }
 },
 "nbformat": 4,
 "nbformat_minor": 4
}
