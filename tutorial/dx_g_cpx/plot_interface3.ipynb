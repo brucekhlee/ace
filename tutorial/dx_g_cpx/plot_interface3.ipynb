{
 "cells": [
  {
   "cell_type": "code",
   "execution_count": 2,
   "metadata": {},
   "outputs": [],
   "source": [
    "import glob\n",
    "import pickle\n",
    "import seaborn as sns\n",
    "import pandas as pd\n",
    "import numpy as np\n",
    "from natsort import natsorted, ns\n",
    "import matplotlib.pyplot as plt"
   ]
  },
  {
   "cell_type": "code",
   "execution_count": 3,
   "metadata": {},
   "outputs": [],
   "source": [
    "# create function\n",
    "# 2: 1cell for one comparision \n",
    "# 3. d2gi/d2go (opls4)\n",
    "#   d3gi/d3go (opls4) <------------\n",
    "#   d3gi/d3go (opls3e)  \n",
    "\n",
    "# d3gi_prm (6 simulations)\n",
    "# /home/khlee/work/desmond/output/drd3/prm7/drd3_prm7.f*/\n",
    "# d3gi_pd (6 simulations)\n",
    "# /home/khlee/work/desmond/output/drd3/pd2/drd3_pd2.f*/\n",
    "# d3go_prm (6 simulations)\n",
    "# /home/khlee/work/desmond/output/drd3ao/prm3/drd3ao_prm3.f*/\n",
    "# d3go_pd (6 simulations)\n",
    "# /home/khlee/work/desmond/output/drd3ao/pd2/drd3_pd2.f*/\n",
    "\n",
    "\n",
    "# after 300ns\n",
    "# (1 row is a plot)\n",
    "# bro: d2gi/d2go\n",
    "# prm: d3gi/d3go (opls3e)\n",
    "# prm: d3gi/d3go (opls4)\n",
    "# pd: d3gi/d3go (opls3e)\n",
    "# pd: d3gi/d3go (opls4)\n",
    "\n"
   ]
  },
  {
   "cell_type": "code",
   "execution_count": 29,
   "metadata": {},
   "outputs": [],
   "source": [
    "def read_data(receptor, ligand, time_limit=0, Verbose=False):\n",
    "    data = {\"Interface\":[], \"System\":[], \"Simulation\":[], \"Time\":[], \"Frame\":[]}\n",
    "    _filein = glob.glob(\"/home/khlee/work/desmond/output/\"+receptor+\"/\"+ligand+\"/*/\")\n",
    "    _filein = natsorted(_filein, key=lambda y: y.lower())\n",
    "    if Verbose:\n",
    "        print(_filein)\n",
    "    for i in range(len(_filein)):\n",
    "        t=np.loadtxt(_filein[i]+'/ene/time.dat')\n",
    "        frame=list(range(1,len(t)+1))\n",
    "        obs=pickle.load(open(_filein[i]+'/output/gpcr_interface.p',\"rb\"))\n",
    "        try:\n",
    "            assert (len(t)==len(obs))\n",
    "            temp = pd.DataFrame({\"obs\":obs, \"t\":t, \"frame\":frame})\n",
    "            \n",
    "            sel = list(temp[temp[\"t\"]>=time_limit][\"obs\"])\n",
    "            sel_t = list(temp[temp[\"t\"]>=time_limit][\"t\"])\n",
    "            sel_frame = list(temp[temp[\"t\"]>=time_limit][\"frame\"])\n",
    "            \n",
    "            data[\"Interface\"] += sel\n",
    "            data[\"System\"]+=[receptor for a in range(len(sel))]\n",
    "            data[\"Simulation\"]+=[_filein[i].split(\"/\")[-2].split(\"_\")[-1] for a in range(len(sel))]\n",
    "            data[\"Time\"]+=sel_t\n",
    "            data[\"Frame\"]+=sel_frame\n",
    "        except:\n",
    "            continue\n",
    "    \n",
    "    return pd.DataFrame(data)\n",
    "    \n",
    "\n",
    "def read_data2(receptor, ligand, time_limit=0, Verbose=False):\n",
    "    data = {\"Interface\":[], \"System\":[], \"Simulation\":[], \"Time\":[], \"Frame\":[]}\n",
    "    _filein = glob.glob(\"/home/khlee/work/desmond/output/\"+receptor+\"/\"+ligand+\"/*.f*/\")\n",
    "    _filein = natsorted(_filein, key=lambda y: y.lower())\n",
    "    if Verbose:\n",
    "        print(_filein)\n",
    "    for i in range(len(_filein)):\n",
    "        t=np.loadtxt(_filein[i]+'/ene/time.dat')\n",
    "        frame=list(range(1,len(t)+1))\n",
    "        obs=pickle.load(open(_filein[i]+'/output/gpcr_interface.p',\"rb\"))\n",
    "        try:\n",
    "            assert (len(t)==len(obs))\n",
    "            temp = pd.DataFrame({\"obs\":obs, \"t\":t, \"frame\":frame})\n",
    "            \n",
    "            sel = list(temp[temp[\"t\"]>=time_limit][\"obs\"])\n",
    "            sel_t = list(temp[temp[\"t\"]>=time_limit][\"t\"])\n",
    "            sel_frame = list(temp[temp[\"t\"]>=time_limit][\"frame\"])\n",
    "            \n",
    "            data[\"Interface\"] += sel\n",
    "            data[\"System\"]+=[receptor for a in range(len(sel))]\n",
    "            data[\"Simulation\"]+=[_filein[i].split(\"/\")[-2].split(\"_\")[-1] for a in range(len(sel))]\n",
    "            data[\"Time\"]+=sel_t\n",
    "            data[\"Frame\"]+=sel_frame\n",
    "        except:\n",
    "            continue\n",
    "    \n",
    "    return pd.DataFrame(data)\n",
    "\n",
    "def gen_random_picks(control_seed=2020, num_splits=50, max_value=10000, Verbose = False):\n",
    "    random_splits = []\n",
    "    np.random.seed(control_seed)\n",
    "\n",
    "    for a in range(0,num_splits):\n",
    "        new_random = np.random.randint(0,max_value)\n",
    "        #while (new_random in random_splits_old) or (new_random in random_splits):\n",
    "        while (new_random in random_splits):\n",
    "            #ensure no duplicate \n",
    "            new_random = np.random.randint(0,max_value)\n",
    "        random_splits.append(new_random)\n",
    "\n",
    "    #random_splits\n",
    "    if Verbose:\n",
    "        for random_split in random_splits:\n",
    "            print(random_split)\n",
    "    return random_splits\n",
    "\n",
    "def bootstrap(df1, df2, splits=1, n=1000, seed=2020):\n",
    "    sel = pd.DataFrame()\n",
    "    _splits = gen_random_picks(seed, num_splits=splits)\n",
    "    for i in range(splits):\n",
    "        r = gen_random_picks(_splits[i], num_splits=n, max_value=len(df1))\n",
    "        r2 = gen_random_picks(_splits[i], num_splits=n, max_value=len(df2))\n",
    "        sel1 = df1.iloc[r]\n",
    "        sel1[\"Split\"] = [i+1 for j in range(len(sel1))]\n",
    "        sel2 = df2.iloc[r2]\n",
    "        sel2[\"Split\"] = [i+1 for j in range(len(sel2))]\n",
    "        sel = pd.concat([sel,sel1,sel2])\n",
    "    plt = sns.catplot(x=\"Split\", y=\"Interface\",\n",
    "                col=\"System\", color='c',\n",
    "                data=sel, kind=\"bar\",\n",
    "                height=4, aspect=1.2)\n",
    "    "
   ]
  },
  {
   "cell_type": "code",
   "execution_count": 25,
   "metadata": {},
   "outputs": [
    {
     "name": "stdout",
     "output_type": "stream",
     "text": [
      "[9056, 7491, 2139, 1661, 3655, 4253, 8752, 9112, 1994, 5897]\n"
     ]
    },
    {
     "name": "stderr",
     "output_type": "stream",
     "text": [
      "/share/apps/python/anaconda3-2020.02/lib/python3.7/site-packages/ipykernel_launcher.py:77: SettingWithCopyWarning: \n",
      "A value is trying to be set on a copy of a slice from a DataFrame.\n",
      "Try using .loc[row_indexer,col_indexer] = value instead\n",
      "\n",
      "See the caveats in the documentation: https://pandas.pydata.org/pandas-docs/stable/user_guide/indexing.html#returning-a-view-versus-a-copy\n",
      "/share/apps/python/anaconda3-2020.02/lib/python3.7/site-packages/ipykernel_launcher.py:79: SettingWithCopyWarning: \n",
      "A value is trying to be set on a copy of a slice from a DataFrame.\n",
      "Try using .loc[row_indexer,col_indexer] = value instead\n",
      "\n",
      "See the caveats in the documentation: https://pandas.pydata.org/pandas-docs/stable/user_guide/indexing.html#returning-a-view-versus-a-copy\n"
     ]
    },
    {
     "data": {
      "image/png": "[encoded data removed]",
      "text/plain": [
       "<Figure size 691.2x288 with 2 Axes>"
      ]
     },
     "metadata": {
      "needs_background": "light"
     },
     "output_type": "display_data"
    }
   ],
   "source": [
    "bootstrap(read_data(\"d2go\", \"bro\"), read_data(\"d2gi\", \"bro\"), 10)"
   ]
  },
  {
   "cell_type": "code",
   "execution_count": 27,
   "metadata": {},
   "outputs": [
    {
     "name": "stderr",
     "output_type": "stream",
     "text": [
      "/share/apps/python/anaconda3-2020.02/lib/python3.7/site-packages/ipykernel_launcher.py:76: SettingWithCopyWarning: \n",
      "A value is trying to be set on a copy of a slice from a DataFrame.\n",
      "Try using .loc[row_indexer,col_indexer] = value instead\n",
      "\n",
      "See the caveats in the documentation: https://pandas.pydata.org/pandas-docs/stable/user_guide/indexing.html#returning-a-view-versus-a-copy\n",
      "/share/apps/python/anaconda3-2020.02/lib/python3.7/site-packages/ipykernel_launcher.py:78: SettingWithCopyWarning: \n",
      "A value is trying to be set on a copy of a slice from a DataFrame.\n",
      "Try using .loc[row_indexer,col_indexer] = value instead\n",
      "\n",
      "See the caveats in the documentation: https://pandas.pydata.org/pandas-docs/stable/user_guide/indexing.html#returning-a-view-versus-a-copy\n"
     ]
    },
    {
     "data": {
      "image/png": "[encoded data removed]",
      "text/plain": [
       "<Figure size 691.2x288 with 2 Axes>"
      ]
     },
     "metadata": {
      "needs_background": "light"
     },
     "output_type": "display_data"
    }
   ],
   "source": [
    "bootstrap(read_data(\"d3go\", \"pd\"), read_data(\"d3gi\", \"pd\"), 10)"
   ]
  },
  {
   "cell_type": "code",
   "execution_count": 28,
   "metadata": {},
   "outputs": [
    {
     "name": "stderr",
     "output_type": "stream",
     "text": [
      "/share/apps/python/anaconda3-2020.02/lib/python3.7/site-packages/ipykernel_launcher.py:76: SettingWithCopyWarning: \n",
      "A value is trying to be set on a copy of a slice from a DataFrame.\n",
      "Try using .loc[row_indexer,col_indexer] = value instead\n",
      "\n",
      "See the caveats in the documentation: https://pandas.pydata.org/pandas-docs/stable/user_guide/indexing.html#returning-a-view-versus-a-copy\n",
      "/share/apps/python/anaconda3-2020.02/lib/python3.7/site-packages/ipykernel_launcher.py:78: SettingWithCopyWarning: \n",
      "A value is trying to be set on a copy of a slice from a DataFrame.\n",
      "Try using .loc[row_indexer,col_indexer] = value instead\n",
      "\n",
      "See the caveats in the documentation: https://pandas.pydata.org/pandas-docs/stable/user_guide/indexing.html#returning-a-view-versus-a-copy\n"
     ]
    },
    {
     "data": {
      "image/png": "[encoded data removed]",
      "text/plain": [
       "<Figure size 691.2x288 with 2 Axes>"
      ]
     },
     "metadata": {
      "needs_background": "light"
     },
     "output_type": "display_data"
    }
   ],
   "source": [
    "bootstrap(read_data(\"d3go\", \"prm\"), read_data(\"d3gi\", \"prm\"), 10)"
   ]
  },
  {
   "cell_type": "code",
   "execution_count": 31,
   "metadata": {},
   "outputs": [
    {
     "ename": "OSError",
     "evalue": "/home/khlee/work/desmond/output/drd3/prm7/drd3_prm7.f2//ene/time.dat not found.",
     "output_type": "error",
     "traceback": [
      "\u001b[0;31m---------------------------------------------------------------------------\u001b[0m",
      "\u001b[0;31mOSError\u001b[0m                                   Traceback (most recent call last)",
      "\u001b[0;32m<ipython-input-31-dcaf4b1e51a8>\u001b[0m in \u001b[0;36m<module>\u001b[0;34m\u001b[0m\n\u001b[0;32m----> 1\u001b[0;31m \u001b[0mbootstrap\u001b[0m\u001b[0;34m(\u001b[0m\u001b[0mread_data2\u001b[0m\u001b[0;34m(\u001b[0m\u001b[0;34m\"drd3ao\"\u001b[0m\u001b[0;34m,\u001b[0m \u001b[0;34m\"prm3\"\u001b[0m\u001b[0;34m)\u001b[0m\u001b[0;34m,\u001b[0m \u001b[0mread_data2\u001b[0m\u001b[0;34m(\u001b[0m\u001b[0;34m\"drd3\"\u001b[0m\u001b[0;34m,\u001b[0m \u001b[0;34m\"prm7\"\u001b[0m\u001b[0;34m)\u001b[0m\u001b[0;34m,\u001b[0m \u001b[0;36m10\u001b[0m\u001b[0;34m)\u001b[0m\u001b[0;34m\u001b[0m\u001b[0;34m\u001b[0m\u001b[0m\n\u001b[0m",
      "\u001b[0;32m<ipython-input-29-8ef96a3203b4>\u001b[0m in \u001b[0;36mread_data2\u001b[0;34m(receptor, ligand, time_limit, Verbose)\u001b[0m\n\u001b[1;32m     35\u001b[0m         \u001b[0mprint\u001b[0m\u001b[0;34m(\u001b[0m\u001b[0m_filein\u001b[0m\u001b[0;34m)\u001b[0m\u001b[0;34m\u001b[0m\u001b[0;34m\u001b[0m\u001b[0m\n\u001b[1;32m     36\u001b[0m     \u001b[0;32mfor\u001b[0m \u001b[0mi\u001b[0m \u001b[0;32min\u001b[0m \u001b[0mrange\u001b[0m\u001b[0;34m(\u001b[0m\u001b[0mlen\u001b[0m\u001b[0;34m(\u001b[0m\u001b[0m_filein\u001b[0m\u001b[0;34m)\u001b[0m\u001b[0;34m)\u001b[0m\u001b[0;34m:\u001b[0m\u001b[0;34m\u001b[0m\u001b[0;34m\u001b[0m\u001b[0m\n\u001b[0;32m---> 37\u001b[0;31m         \u001b[0mt\u001b[0m\u001b[0;34m=\u001b[0m\u001b[0mnp\u001b[0m\u001b[0;34m.\u001b[0m\u001b[0mloadtxt\u001b[0m\u001b[0;34m(\u001b[0m\u001b[0m_filein\u001b[0m\u001b[0;34m[\u001b[0m\u001b[0mi\u001b[0m\u001b[0;34m]\u001b[0m\u001b[0;34m+\u001b[0m\u001b[0;34m'/ene/time.dat'\u001b[0m\u001b[0;34m)\u001b[0m\u001b[0;34m\u001b[0m\u001b[0;34m\u001b[0m\u001b[0m\n\u001b[0m\u001b[1;32m     38\u001b[0m         \u001b[0mframe\u001b[0m\u001b[0;34m=\u001b[0m\u001b[0mlist\u001b[0m\u001b[0;34m(\u001b[0m\u001b[0mrange\u001b[0m\u001b[0;34m(\u001b[0m\u001b[0;36m1\u001b[0m\u001b[0;34m,\u001b[0m\u001b[0mlen\u001b[0m\u001b[0;34m(\u001b[0m\u001b[0mt\u001b[0m\u001b[0;34m)\u001b[0m\u001b[0;34m+\u001b[0m\u001b[0;36m1\u001b[0m\u001b[0;34m)\u001b[0m\u001b[0;34m)\u001b[0m\u001b[0;34m\u001b[0m\u001b[0;34m\u001b[0m\u001b[0m\n\u001b[1;32m     39\u001b[0m         \u001b[0mobs\u001b[0m\u001b[0;34m=\u001b[0m\u001b[0mpickle\u001b[0m\u001b[0;34m.\u001b[0m\u001b[0mload\u001b[0m\u001b[0;34m(\u001b[0m\u001b[0mopen\u001b[0m\u001b[0;34m(\u001b[0m\u001b[0m_filein\u001b[0m\u001b[0;34m[\u001b[0m\u001b[0mi\u001b[0m\u001b[0;34m]\u001b[0m\u001b[0;34m+\u001b[0m\u001b[0;34m'/output/gpcr_interface.p'\u001b[0m\u001b[0;34m,\u001b[0m\u001b[0;34m\"rb\"\u001b[0m\u001b[0;34m)\u001b[0m\u001b[0;34m)\u001b[0m\u001b[0;34m\u001b[0m\u001b[0;34m\u001b[0m\u001b[0m\n",
      "\u001b[0;32m/share/apps/python/anaconda3-2020.02/lib/python3.7/site-packages/numpy/lib/npyio.py\u001b[0m in \u001b[0;36mloadtxt\u001b[0;34m(fname, dtype, comments, delimiter, converters, skiprows, usecols, unpack, ndmin, encoding, max_rows)\u001b[0m\n\u001b[1;32m    979\u001b[0m             \u001b[0mfname\u001b[0m \u001b[0;34m=\u001b[0m \u001b[0mos_fspath\u001b[0m\u001b[0;34m(\u001b[0m\u001b[0mfname\u001b[0m\u001b[0;34m)\u001b[0m\u001b[0;34m\u001b[0m\u001b[0;34m\u001b[0m\u001b[0m\n\u001b[1;32m    980\u001b[0m         \u001b[0;32mif\u001b[0m \u001b[0m_is_string_like\u001b[0m\u001b[0;34m(\u001b[0m\u001b[0mfname\u001b[0m\u001b[0;34m)\u001b[0m\u001b[0;34m:\u001b[0m\u001b[0;34m\u001b[0m\u001b[0;34m\u001b[0m\u001b[0m\n\u001b[0;32m--> 981\u001b[0;31m             \u001b[0mfh\u001b[0m \u001b[0;34m=\u001b[0m \u001b[0mnp\u001b[0m\u001b[0;34m.\u001b[0m\u001b[0mlib\u001b[0m\u001b[0;34m.\u001b[0m\u001b[0m_datasource\u001b[0m\u001b[0;34m.\u001b[0m\u001b[0mopen\u001b[0m\u001b[0;34m(\u001b[0m\u001b[0mfname\u001b[0m\u001b[0;34m,\u001b[0m \u001b[0;34m'rt'\u001b[0m\u001b[0;34m,\u001b[0m \u001b[0mencoding\u001b[0m\u001b[0;34m=\u001b[0m\u001b[0mencoding\u001b[0m\u001b[0;34m)\u001b[0m\u001b[0;34m\u001b[0m\u001b[0;34m\u001b[0m\u001b[0m\n\u001b[0m\u001b[1;32m    982\u001b[0m             \u001b[0mfencoding\u001b[0m \u001b[0;34m=\u001b[0m \u001b[0mgetattr\u001b[0m\u001b[0;34m(\u001b[0m\u001b[0mfh\u001b[0m\u001b[0;34m,\u001b[0m \u001b[0;34m'encoding'\u001b[0m\u001b[0;34m,\u001b[0m \u001b[0;34m'latin1'\u001b[0m\u001b[0;34m)\u001b[0m\u001b[0;34m\u001b[0m\u001b[0;34m\u001b[0m\u001b[0m\n\u001b[1;32m    983\u001b[0m             \u001b[0mfh\u001b[0m \u001b[0;34m=\u001b[0m \u001b[0miter\u001b[0m\u001b[0;34m(\u001b[0m\u001b[0mfh\u001b[0m\u001b[0;34m)\u001b[0m\u001b[0;34m\u001b[0m\u001b[0;34m\u001b[0m\u001b[0m\n",
      "\u001b[0;32m/share/apps/python/anaconda3-2020.02/lib/python3.7/site-packages/numpy/lib/_datasource.py\u001b[0m in \u001b[0;36mopen\u001b[0;34m(path, mode, destpath, encoding, newline)\u001b[0m\n\u001b[1;32m    267\u001b[0m \u001b[0;34m\u001b[0m\u001b[0m\n\u001b[1;32m    268\u001b[0m     \u001b[0mds\u001b[0m \u001b[0;34m=\u001b[0m \u001b[0mDataSource\u001b[0m\u001b[0;34m(\u001b[0m\u001b[0mdestpath\u001b[0m\u001b[0;34m)\u001b[0m\u001b[0;34m\u001b[0m\u001b[0;34m\u001b[0m\u001b[0m\n\u001b[0;32m--> 269\u001b[0;31m     \u001b[0;32mreturn\u001b[0m \u001b[0mds\u001b[0m\u001b[0;34m.\u001b[0m\u001b[0mopen\u001b[0m\u001b[0;34m(\u001b[0m\u001b[0mpath\u001b[0m\u001b[0;34m,\u001b[0m \u001b[0mmode\u001b[0m\u001b[0;34m,\u001b[0m \u001b[0mencoding\u001b[0m\u001b[0;34m=\u001b[0m\u001b[0mencoding\u001b[0m\u001b[0;34m,\u001b[0m \u001b[0mnewline\u001b[0m\u001b[0;34m=\u001b[0m\u001b[0mnewline\u001b[0m\u001b[0;34m)\u001b[0m\u001b[0;34m\u001b[0m\u001b[0;34m\u001b[0m\u001b[0m\n\u001b[0m\u001b[1;32m    270\u001b[0m \u001b[0;34m\u001b[0m\u001b[0m\n\u001b[1;32m    271\u001b[0m \u001b[0;34m\u001b[0m\u001b[0m\n",
      "\u001b[0;32m/share/apps/python/anaconda3-2020.02/lib/python3.7/site-packages/numpy/lib/_datasource.py\u001b[0m in \u001b[0;36mopen\u001b[0;34m(self, path, mode, encoding, newline)\u001b[0m\n\u001b[1;32m    621\u001b[0m                                       encoding=encoding, newline=newline)\n\u001b[1;32m    622\u001b[0m         \u001b[0;32melse\u001b[0m\u001b[0;34m:\u001b[0m\u001b[0;34m\u001b[0m\u001b[0;34m\u001b[0m\u001b[0m\n\u001b[0;32m--> 623\u001b[0;31m             \u001b[0;32mraise\u001b[0m \u001b[0mIOError\u001b[0m\u001b[0;34m(\u001b[0m\u001b[0;34m\"%s not found.\"\u001b[0m \u001b[0;34m%\u001b[0m \u001b[0mpath\u001b[0m\u001b[0;34m)\u001b[0m\u001b[0;34m\u001b[0m\u001b[0;34m\u001b[0m\u001b[0m\n\u001b[0m\u001b[1;32m    624\u001b[0m \u001b[0;34m\u001b[0m\u001b[0m\n\u001b[1;32m    625\u001b[0m \u001b[0;34m\u001b[0m\u001b[0m\n",
      "\u001b[0;31mOSError\u001b[0m: /home/khlee/work/desmond/output/drd3/prm7/drd3_prm7.f2//ene/time.dat not found."
     ]
    }
   ],
   "source": [
    "bootstrap(read_data2(\"drd3ao\", \"prm3\"), read_data2(\"drd3\", \"prm7\"), 10)"
   ]
  },
  {
   "cell_type": "code",
   "execution_count": 32,
   "metadata": {},
   "outputs": [
    {
     "name": "stderr",
     "output_type": "stream",
     "text": [
      "/share/apps/python/anaconda3-2020.02/lib/python3.7/site-packages/ipykernel_launcher.py:83: SettingWithCopyWarning: \n",
      "A value is trying to be set on a copy of a slice from a DataFrame.\n",
      "Try using .loc[row_indexer,col_indexer] = value instead\n",
      "\n",
      "See the caveats in the documentation: https://pandas.pydata.org/pandas-docs/stable/user_guide/indexing.html#returning-a-view-versus-a-copy\n",
      "/share/apps/python/anaconda3-2020.02/lib/python3.7/site-packages/ipykernel_launcher.py:85: SettingWithCopyWarning: \n",
      "A value is trying to be set on a copy of a slice from a DataFrame.\n",
      "Try using .loc[row_indexer,col_indexer] = value instead\n",
      "\n",
      "See the caveats in the documentation: https://pandas.pydata.org/pandas-docs/stable/user_guide/indexing.html#returning-a-view-versus-a-copy\n"
     ]
    },
    {
     "data": {
      "image/png": "[encoded data removed]",
      "text/plain": [
       "<Figure size 691.2x288 with 2 Axes>"
      ]
     },
     "metadata": {
      "needs_background": "light"
     },
     "output_type": "display_data"
    }
   ],
   "source": [
    "bootstrap(read_data2(\"drd3ao\", \"pd2\"), read_data2(\"drd3\", \"pd2\"), 10)"
   ]
  },
  {
   "cell_type": "code",
   "execution_count": null,
   "metadata": {},
   "outputs": [],
   "source": []
  }
 ],
 "metadata": {
  "kernelspec": {
   "display_name": "Python 3",
   "language": "python",
   "name": "python3"
  },
  "language_info": {
   "codemirror_mode": {
    "name": "ipython",
    "version": 3
   },
   "file_extension": ".py",
   "mimetype": "text/x-python",
   "name": "python",
   "nbconvert_exporter": "python",
   "pygments_lexer": "ipython3",
   "version": "3.7.6"
  }
 },
 "nbformat": 4,
 "nbformat_minor": 4
}
