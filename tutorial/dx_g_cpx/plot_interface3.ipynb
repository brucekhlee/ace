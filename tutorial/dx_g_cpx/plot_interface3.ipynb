{
 "cells": [
  {
   "cell_type": "code",
   "execution_count": 21,
   "metadata": {},
   "outputs": [],
   "source": [
    "import glob\n",
    "import pickle\n",
    "import seaborn as sns\n",
    "import pandas as pd\n",
    "import numpy as np\n",
    "from natsort import natsorted, ns\n",
    "import matplotlib.pyplot as plt"
   ]
  },
  {
   "cell_type": "code",
   "execution_count": 2,
   "metadata": {},
   "outputs": [],
   "source": [
    "# create function\n",
    "# 2: 1cell for one comparision \n",
    "# 3. d2gi/d2go (opls4)\n",
    "#   d3gi/d3go (opls4) <------------\n",
    "#   d3gi/d3go (opls3e)  \n",
    "\n",
    "# d3gi_prm (6 simulations)\n",
    "# /home/khlee/work/desmond/output/drd3/prm7/drd3_prm7.f*/\n",
    "# d3gi_pd (6 simulations)\n",
    "# /home/khlee/work/desmond/output/drd3/pd2/drd3_pd2.f*/\n",
    "# d3go_prm (6 simulations)\n",
    "# /home/khlee/work/desmond/output/drd3ao/prm3/drd3ao_prm3.f*/\n",
    "# d3go_pd (6 simulations)\n",
    "# /home/khlee/work/desmond/output/drd3ao/pd2/drd3_pd2.f*/\n",
    "\n",
    "\n",
    "# after 300ns\n",
    "# (1 row is a plot)\n",
    "# bro: d2gi/d2go\n",
    "# prm: d3gi/d3go (opls3e)\n",
    "# prm: d3gi/d3go (opls4)\n",
    "# pd: d3gi/d3go (opls3e)\n",
    "# pd: d3gi/d3go (opls4)\n",
    "\n"
   ]
  },
  {
   "cell_type": "code",
   "execution_count": 17,
   "metadata": {},
   "outputs": [],
   "source": [
    "def read_data(receptor, ligand, time_limit=0, Verbose=False):\n",
    "    data = {\"Interface\":[], \"System\":[], \"Simulation\":[], \"Time\":[]}\n",
    "    _filein = glob.glob(\"/home/khlee/work/desmond/output/\"+receptor+\"/\"+ligand+\"/*/\")\n",
    "    _filein = natsorted(_filein, key=lambda y: y.lower())\n",
    "    if Verbose:\n",
    "        print(_filein)\n",
    "    for i in range(len(_filein)):\n",
    "        t=np.loadtxt(_filein[i]+'/ene/time.dat')\n",
    "        obs=pickle.load(open(_filein[i]+'/output/gpcr_interface.p',\"rb\"))\n",
    "        try:\n",
    "            assert (len(t)==len(obs))\n",
    "\n",
    "            temp = pd.DataFrame({\"obs\":obs, \"t\":t})\n",
    "            sel = list(temp[temp[\"t\"]>=time_limit][\"obs\"])\n",
    "            sel_t = list(temp[temp[\"t\"]>=time_limit][\"t\"])\n",
    "\n",
    "            data[\"Interface\"] += sel\n",
    "            data[\"System\"]+=[receptor for a in range(len(sel))]\n",
    "            data[\"Simulation\"]+=[_filein[i].split(\"/\")[-2].split(\"_\")[-1] for a in range(len(sel))]\n",
    "            data[\"Time\"]+=sel_t\n",
    "        except:\n",
    "            continue\n",
    "    \n",
    "    return pd.DataFrame(data)\n",
    "\n",
    "def read_data2(receptor, ligand, time_limit=0, Verbose=False):\n",
    "    data = {\"Interface\":[], \"System\":[], \"Simulation\":[]}\n",
    "    _filein = glob.glob(\"/home/khlee/work/desmond/output/\"+receptor+\"/\"+ligand+\"/*.f*/\")\n",
    "    _filein = natsorted(_filein, key=lambda y: y.lower())\n",
    "    if Verbose:\n",
    "        print(_filein)\n",
    "    for i in range(len(_filein)):\n",
    "        t=np.loadtxt(_filein[i]+'/ene/time.dat')\n",
    "        obs=pickle.load(open(_filein[i]+'/output/gpcr_interface.p',\"rb\"))\n",
    "        try:\n",
    "            assert (len(t)==len(obs))\n",
    "\n",
    "            temp = pd.DataFrame({\"obs\":obs, \"t\":t})\n",
    "            sel = list(temp[temp[\"t\"]>=time_limit][\"obs\"])\n",
    "\n",
    "            data[\"Interface\"] += sel\n",
    "            data[\"System\"]+=[receptor for a in range(len(sel))]\n",
    "            data[\"Simulation\"]+=[_filein[i].split(\"/\")[-2].split(\"_\")[-1] for a in range(len(sel))]\n",
    "        except:\n",
    "            continue\n",
    "    return pd.DataFrame(data)\n",
    "\n",
    "def gen_random_picks(control_seed=2020, num_splits=50, max_value=1000, Verbose = False):\n",
    "    random_splits = []\n",
    "    np.random.seed(control_seed)\n",
    "\n",
    "    for a in range(0,num_splits):\n",
    "        new_random = np.random.randint(0,max_value)\n",
    "        #while (new_random in random_splits_old) or (new_random in random_splits):\n",
    "        while (new_random in random_splits):\n",
    "            #ensure no duplicate \n",
    "            new_random = np.random.randint(0,max_value)\n",
    "        random_splits.append(new_random)\n",
    "\n",
    "    #random_splits\n",
    "    if Verbose:\n",
    "        for random_split in random_splits:\n",
    "            print(random_split)\n",
    "    return random_splits\n",
    "\n",
    "def bootstrap(df, n=1000, seed=2020):\n",
    "    r = gen_random_picks(seed, num_splits=n, max_value=len(df))\n",
    "    sel = df.iloc[r]\n",
    "    plt = sns.catplot(x=\"Simulation\", y=\"Interface\",\n",
    "                col=\"System\", color='c',\n",
    "                data=sel, kind=\"bar\",\n",
    "                height=4, aspect=1.2)\n",
    "    "
   ]
  },
  {
   "cell_type": "code",
   "execution_count": 4,
   "metadata": {},
   "outputs": [
    {
     "data": {
      "image/png": "[encoded data removed]",
      "text/plain": [
       "<Figure size 691.2x288 with 2 Axes>"
      ]
     },
     "metadata": {
      "needs_background": "light"
     },
     "output_type": "display_data"
    }
   ],
   "source": [
    "d2go_bro = read_data(\"d2go\", \"bro\", 300)\n",
    "d2gi_bro = read_data(\"d2gi\", \"bro\", 300)\n",
    "d2_bro = pd.concat([d2go_bro,d2gi_bro])\n",
    "d2_bro_plot = sns.catplot(x=\"Simulation\", y=\"Interface\",\n",
    "                col=\"System\", color='c',\n",
    "                data=d2_bro, kind=\"bar\",\n",
    "                height=4, aspect=1.2);"
   ]
  },
  {
   "cell_type": "code",
   "execution_count": 5,
   "metadata": {},
   "outputs": [
    {
     "data": {
      "text/html": [
       "<div>\n",
       "<style scoped>\n",
       "    .dataframe tbody tr th:only-of-type {\n",
       "        vertical-align: middle;\n",
       "    }\n",
       "\n",
       "    .dataframe tbody tr th {\n",
       "        vertical-align: top;\n",
       "    }\n",
       "\n",
       "    .dataframe thead th {\n",
       "        text-align: right;\n",
       "    }\n",
       "</style>\n",
       "<table border=\"1\" class=\"dataframe\">\n",
       "  <thead>\n",
       "    <tr style=\"text-align: right;\">\n",
       "      <th></th>\n",
       "      <th>Interface</th>\n",
       "      <th>System</th>\n",
       "      <th>Simulation</th>\n",
       "      <th>Time</th>\n",
       "    </tr>\n",
       "  </thead>\n",
       "  <tbody>\n",
       "    <tr>\n",
       "      <th>0</th>\n",
       "      <td>1658.0</td>\n",
       "      <td>d2go</td>\n",
       "      <td>bro.1</td>\n",
       "      <td>300.0</td>\n",
       "    </tr>\n",
       "    <tr>\n",
       "      <th>1</th>\n",
       "      <td>1534.0</td>\n",
       "      <td>d2go</td>\n",
       "      <td>bro.1</td>\n",
       "      <td>300.6</td>\n",
       "    </tr>\n",
       "    <tr>\n",
       "      <th>2</th>\n",
       "      <td>1474.0</td>\n",
       "      <td>d2go</td>\n",
       "      <td>bro.1</td>\n",
       "      <td>301.2</td>\n",
       "    </tr>\n",
       "    <tr>\n",
       "      <th>3</th>\n",
       "      <td>1578.0</td>\n",
       "      <td>d2go</td>\n",
       "      <td>bro.1</td>\n",
       "      <td>301.8</td>\n",
       "    </tr>\n",
       "    <tr>\n",
       "      <th>4</th>\n",
       "      <td>1454.0</td>\n",
       "      <td>d2go</td>\n",
       "      <td>bro.1</td>\n",
       "      <td>302.4</td>\n",
       "    </tr>\n",
       "    <tr>\n",
       "      <th>...</th>\n",
       "      <td>...</td>\n",
       "      <td>...</td>\n",
       "      <td>...</td>\n",
       "      <td>...</td>\n",
       "    </tr>\n",
       "    <tr>\n",
       "      <th>7201</th>\n",
       "      <td>1535.0</td>\n",
       "      <td>d2gi</td>\n",
       "      <td>bro</td>\n",
       "      <td>1017.6</td>\n",
       "    </tr>\n",
       "    <tr>\n",
       "      <th>7202</th>\n",
       "      <td>1546.0</td>\n",
       "      <td>d2gi</td>\n",
       "      <td>bro</td>\n",
       "      <td>1018.2</td>\n",
       "    </tr>\n",
       "    <tr>\n",
       "      <th>7203</th>\n",
       "      <td>1586.0</td>\n",
       "      <td>d2gi</td>\n",
       "      <td>bro</td>\n",
       "      <td>1018.8</td>\n",
       "    </tr>\n",
       "    <tr>\n",
       "      <th>7204</th>\n",
       "      <td>1515.0</td>\n",
       "      <td>d2gi</td>\n",
       "      <td>bro</td>\n",
       "      <td>1019.4</td>\n",
       "    </tr>\n",
       "    <tr>\n",
       "      <th>7205</th>\n",
       "      <td>1608.0</td>\n",
       "      <td>d2gi</td>\n",
       "      <td>bro</td>\n",
       "      <td>1020.0</td>\n",
       "    </tr>\n",
       "  </tbody>\n",
       "</table>\n",
       "<p>14012 rows × 4 columns</p>\n",
       "</div>"
      ],
      "text/plain": [
       "      Interface System Simulation    Time\n",
       "0        1658.0   d2go      bro.1   300.0\n",
       "1        1534.0   d2go      bro.1   300.6\n",
       "2        1474.0   d2go      bro.1   301.2\n",
       "3        1578.0   d2go      bro.1   301.8\n",
       "4        1454.0   d2go      bro.1   302.4\n",
       "...         ...    ...        ...     ...\n",
       "7201     1535.0   d2gi        bro  1017.6\n",
       "7202     1546.0   d2gi        bro  1018.2\n",
       "7203     1586.0   d2gi        bro  1018.8\n",
       "7204     1515.0   d2gi        bro  1019.4\n",
       "7205     1608.0   d2gi        bro  1020.0\n",
       "\n",
       "[14012 rows x 4 columns]"
      ]
     },
     "execution_count": 5,
     "metadata": {},
     "output_type": "execute_result"
    }
   ],
   "source": [
    "d2_bro"
   ]
  },
  {
   "cell_type": "code",
   "execution_count": 6,
   "metadata": {},
   "outputs": [
    {
     "name": "stdout",
     "output_type": "stream",
     "text": [
      "d2gi bro 1516.1890091590342\n",
      "d2gi bro.1 1480.225645295587\n",
      "d2gi bro.2 1572.8434637801831\n",
      "d2gi bro.3 1475.4687760199834\n",
      "d2gi bro.4 1513.4604496253123\n",
      "d2gi bro.5 1444.090757701915\n",
      "d2go bro 1536.947543713572\n",
      "d2go bro.1 1688.3705245628644\n",
      "d2go bro.2 1514.96003996004\n",
      "d2go bro.3 1621.873438800999\n",
      "d2go bro.4 1498.2197802197802\n",
      "d2go bro.5 1501.2639467110741\n"
     ]
    }
   ],
   "source": [
    "ls_rec=[\"d2gi\",\"d2go\"]\n",
    "ls_jonnames=[\"\",\".1\",\".2\",\".3\",\".4\",\".5\"]\n",
    "\n",
    "for i_rec in range(len(ls_rec)):\n",
    "    for i_jobname in range(len(ls_jonnames)):\n",
    "        df2=d2_bro[d2_bro['Simulation']==\"bro\"+ls_jonnames[i_jobname]]\n",
    "        _rawdata=list(df2[df2['System']==ls_rec[i_rec]]['Interface'])\n",
    "        print(ls_rec[i_rec], \"bro\"+ls_jonnames[i_jobname], sum(_rawdata)/len(_rawdata))\n",
    "        #df2[df2['System']==ls_rec[i_rec]]"
   ]
  },
  {
   "cell_type": "code",
   "execution_count": 7,
   "metadata": {},
   "outputs": [
    {
     "data": {
      "image/png": "[encoded data removed]",
      "text/plain": [
       "<Figure size 691.2x288 with 2 Axes>"
      ]
     },
     "metadata": {
      "needs_background": "light"
     },
     "output_type": "display_data"
    }
   ],
   "source": [
    "d3go_prm = read_data(\"d3go\", \"prm\", 300)\n",
    "d3gi_prm = read_data(\"d3gi\", \"prm\", 300)\n",
    "d3_prm = pd.concat([d3go_prm,d3gi_prm])\n",
    "d3_prm_plot = sns.catplot(x=\"Simulation\", y=\"Interface\",\n",
    "                col=\"System\", color='c',\n",
    "                data=d3_prm, kind=\"bar\",\n",
    "                height=4, aspect=1.2);"
   ]
  },
  {
   "cell_type": "code",
   "execution_count": 8,
   "metadata": {},
   "outputs": [
    {
     "name": "stdout",
     "output_type": "stream",
     "text": [
      "d3gi f1 1794.840106595603\n",
      "d3gi f2\n",
      "d3gi f3 1903.1551814834297\n",
      "d3gi f4 1781.9640239840107\n",
      "d3gi f5 1878.6284538506761\n",
      "d3gi f6 1920.7366255144034\n",
      "d3go f1 1842.933897002306\n",
      "d3go f2 1648.9830899308224\n",
      "d3go f3 1582.4696868754163\n",
      "d3go f4 1763.4594894561599\n",
      "d3go f5 1851.865704772475\n",
      "d3go f6 1564.742504409171\n"
     ]
    }
   ],
   "source": [
    "ls_rec=[\"d3gi\",\"d3go\"]\n",
    "ls_jonnames=[\"f1\",\"f2\",\"f3\",\"f4\",\"f5\",\"f6\"]\n",
    "\n",
    "for i_rec in range(len(ls_rec)):\n",
    "    for i_jobname in range(len(ls_jonnames)):\n",
    "        df2=d3_prm[d3_prm['Simulation']==\"prm.\"+ls_jonnames[i_jobname]]\n",
    "        _rawdata=list(df2[df2['System']==ls_rec[i_rec]]['Interface'])\n",
    "        try:\n",
    "            _ave=sum(_rawdata)/len(_rawdata)\n",
    "            print(ls_rec[i_rec], ls_jonnames[i_jobname], _ave)\n",
    "            #df2[df2['System']==ls_rec[i_rec]]\n",
    "        except:\n",
    "            print(ls_rec[i_rec], ls_jonnames[i_jobname])"
   ]
  },
  {
   "cell_type": "code",
   "execution_count": 9,
   "metadata": {},
   "outputs": [
    {
     "data": {
      "image/png": "[encoded data removed]",
      "text/plain": [
       "<Figure size 691.2x288 with 2 Axes>"
      ]
     },
     "metadata": {
      "needs_background": "light"
     },
     "output_type": "display_data"
    }
   ],
   "source": [
    "d3go_pd = read_data(\"d3go\", \"pd\", 300)\n",
    "d3gi_pd = read_data(\"d3gi\", \"pd\", 300)\n",
    "d3_pd = pd.concat([d3go_pd,d3gi_pd])\n",
    "d3_pd_plot = sns.catplot(x=\"Simulation\", y=\"Interface\",\n",
    "                col=\"System\", color='c',\n",
    "                data=d3_pd, kind=\"bar\",\n",
    "                height=4, aspect=1.2);"
   ]
  },
  {
   "cell_type": "code",
   "execution_count": 10,
   "metadata": {},
   "outputs": [
    {
     "name": "stdout",
     "output_type": "stream",
     "text": [
      "d3gi f1 1795.3774019984628\n",
      "d3gi f2 1820.6936736958935\n",
      "d3gi f3 1972.0688124306325\n",
      "d3gi f4 1753.2441731409544\n",
      "d3gi f5 1867.16621253406\n",
      "d3gi f6 1957.196771714066\n",
      "d3go f1 1741.9782016348775\n",
      "d3go f2 1769.928247048138\n",
      "d3go f3 1669.4341507720255\n",
      "d3go f4 1611.765667574932\n",
      "d3go f5 1691.2098092643052\n",
      "d3go f6 1681.6590584878745\n"
     ]
    }
   ],
   "source": [
    "ls_rec=[\"d3gi\",\"d3go\"]\n",
    "ls_jonnames=[\"f1\",\"f2\",\"f3\",\"f4\",\"f5\",\"f6\"]\n",
    "\n",
    "for i_rec in range(len(ls_rec)):\n",
    "    for i_jobname in range(len(ls_jonnames)):\n",
    "        df2=d3_pd[d3_pd['Simulation']==\"pd.\"+ls_jonnames[i_jobname]]\n",
    "        _rawdata=list(df2[df2['System']==ls_rec[i_rec]]['Interface'])\n",
    "        print(ls_rec[i_rec], ls_jonnames[i_jobname], sum(_rawdata)/len(_rawdata))\n",
    "        #df2[df2['System']==ls_rec[i_rec]]"
   ]
  },
  {
   "cell_type": "code",
   "execution_count": 11,
   "metadata": {},
   "outputs": [
    {
     "data": {
      "image/png": "[encoded data removed]",
      "text/plain": [
       "<Figure size 691.2x288 with 2 Axes>"
      ]
     },
     "metadata": {
      "needs_background": "light"
     },
     "output_type": "display_data"
    }
   ],
   "source": [
    "d3go_pd = read_data2(\"drd3ao\", \"pd2\", 300)\n",
    "d3gi_pd = read_data2(\"drd3\", \"pd2\", 300)\n",
    "d3_pd = pd.concat([d3go_pd,d3gi_pd])\n",
    "d3_pd_plot = sns.catplot(x=\"Simulation\", y=\"Interface\",\n",
    "                col=\"System\", color='c',\n",
    "                data=d3_pd, kind=\"bar\",\n",
    "                height=4, aspect=1.2);"
   ]
  },
  {
   "cell_type": "code",
   "execution_count": 12,
   "metadata": {},
   "outputs": [],
   "source": [
    "ls_rec=[\"d3gi\",\"d3go\"]\n",
    "ls_jonnames=[\"f1\",\"f2\",\"f3\",\"f4\",\"f5\",\"f6\"]\n",
    "\n",
    "for i_rec in range(len(ls_rec)):\n",
    "    for i_jobname in range(len(ls_jonnames)):\n",
    "        df2=d3_pd[d3_pd['Simulation']==\"pd.\"+ls_jonnames[i_jobname]]\n",
    "        _rawdata=list(df2[df2['System']==ls_rec[i_rec]]['Interface'])\n",
    "        try:\n",
    "            print(ls_rec[i_rec], ls_jonnames[i_jobname], sum(_rawdata)/len(_rawdata))\n",
    "        except:\n",
    "            pass\n",
    "        #df2[df2['System']==ls_rec[i_rec]]"
   ]
  },
  {
   "cell_type": "code",
   "execution_count": 13,
   "metadata": {},
   "outputs": [
    {
     "ename": "OSError",
     "evalue": "/home/khlee/work/desmond/output/drd3/prm7/drd3_prm7.f2//ene/time.dat not found.",
     "output_type": "error",
     "traceback": [
      "\u001b[0;31m---------------------------------------------------------------------------\u001b[0m",
      "\u001b[0;31mOSError\u001b[0m                                   Traceback (most recent call last)",
      "\u001b[0;32m<ipython-input-13-a184fbf7aa52>\u001b[0m in \u001b[0;36m<module>\u001b[0;34m\u001b[0m\n\u001b[1;32m      1\u001b[0m \u001b[0md3go_pd\u001b[0m \u001b[0;34m=\u001b[0m \u001b[0mread_data2\u001b[0m\u001b[0;34m(\u001b[0m\u001b[0;34m\"drd3ao\"\u001b[0m\u001b[0;34m,\u001b[0m \u001b[0;34m\"prm3\"\u001b[0m\u001b[0;34m,\u001b[0m \u001b[0;36m600\u001b[0m\u001b[0;34m)\u001b[0m\u001b[0;34m\u001b[0m\u001b[0;34m\u001b[0m\u001b[0m\n\u001b[0;32m----> 2\u001b[0;31m \u001b[0md3gi_pd\u001b[0m \u001b[0;34m=\u001b[0m \u001b[0mread_data2\u001b[0m\u001b[0;34m(\u001b[0m\u001b[0;34m\"drd3\"\u001b[0m\u001b[0;34m,\u001b[0m \u001b[0;34m\"prm7\"\u001b[0m\u001b[0;34m,\u001b[0m \u001b[0;36m600\u001b[0m\u001b[0;34m)\u001b[0m\u001b[0;34m\u001b[0m\u001b[0;34m\u001b[0m\u001b[0m\n\u001b[0m\u001b[1;32m      3\u001b[0m \u001b[0md3_pd\u001b[0m \u001b[0;34m=\u001b[0m \u001b[0mpd\u001b[0m\u001b[0;34m.\u001b[0m\u001b[0mconcat\u001b[0m\u001b[0;34m(\u001b[0m\u001b[0;34m[\u001b[0m\u001b[0md3go_pd\u001b[0m\u001b[0;34m,\u001b[0m\u001b[0md3gi_pd\u001b[0m\u001b[0;34m]\u001b[0m\u001b[0;34m)\u001b[0m\u001b[0;34m\u001b[0m\u001b[0;34m\u001b[0m\u001b[0m\n\u001b[1;32m      4\u001b[0m d3_pd_plot = sns.catplot(x=\"Simulation\", y=\"Interface\",\n\u001b[1;32m      5\u001b[0m                 \u001b[0mcol\u001b[0m\u001b[0;34m=\u001b[0m\u001b[0;34m\"System\"\u001b[0m\u001b[0;34m,\u001b[0m \u001b[0mcolor\u001b[0m\u001b[0;34m=\u001b[0m\u001b[0;34m'c'\u001b[0m\u001b[0;34m,\u001b[0m\u001b[0;34m\u001b[0m\u001b[0;34m\u001b[0m\u001b[0m\n",
      "\u001b[0;32m<ipython-input-3-b3519e74da6d>\u001b[0m in \u001b[0;36mread_data2\u001b[0;34m(receptor, ligand, time_limit, Verbose)\u001b[0m\n\u001b[1;32m     31\u001b[0m         \u001b[0mprint\u001b[0m\u001b[0;34m(\u001b[0m\u001b[0m_filein\u001b[0m\u001b[0;34m)\u001b[0m\u001b[0;34m\u001b[0m\u001b[0;34m\u001b[0m\u001b[0m\n\u001b[1;32m     32\u001b[0m     \u001b[0;32mfor\u001b[0m \u001b[0mi\u001b[0m \u001b[0;32min\u001b[0m \u001b[0mrange\u001b[0m\u001b[0;34m(\u001b[0m\u001b[0mlen\u001b[0m\u001b[0;34m(\u001b[0m\u001b[0m_filein\u001b[0m\u001b[0;34m)\u001b[0m\u001b[0;34m)\u001b[0m\u001b[0;34m:\u001b[0m\u001b[0;34m\u001b[0m\u001b[0;34m\u001b[0m\u001b[0m\n\u001b[0;32m---> 33\u001b[0;31m         \u001b[0mt\u001b[0m\u001b[0;34m=\u001b[0m\u001b[0mnp\u001b[0m\u001b[0;34m.\u001b[0m\u001b[0mloadtxt\u001b[0m\u001b[0;34m(\u001b[0m\u001b[0m_filein\u001b[0m\u001b[0;34m[\u001b[0m\u001b[0mi\u001b[0m\u001b[0;34m]\u001b[0m\u001b[0;34m+\u001b[0m\u001b[0;34m'/ene/time.dat'\u001b[0m\u001b[0;34m)\u001b[0m\u001b[0;34m\u001b[0m\u001b[0;34m\u001b[0m\u001b[0m\n\u001b[0m\u001b[1;32m     34\u001b[0m         \u001b[0mobs\u001b[0m\u001b[0;34m=\u001b[0m\u001b[0mpickle\u001b[0m\u001b[0;34m.\u001b[0m\u001b[0mload\u001b[0m\u001b[0;34m(\u001b[0m\u001b[0mopen\u001b[0m\u001b[0;34m(\u001b[0m\u001b[0m_filein\u001b[0m\u001b[0;34m[\u001b[0m\u001b[0mi\u001b[0m\u001b[0;34m]\u001b[0m\u001b[0;34m+\u001b[0m\u001b[0;34m'/output/gpcr_interface.p'\u001b[0m\u001b[0;34m,\u001b[0m\u001b[0;34m\"rb\"\u001b[0m\u001b[0;34m)\u001b[0m\u001b[0;34m)\u001b[0m\u001b[0;34m\u001b[0m\u001b[0;34m\u001b[0m\u001b[0m\n\u001b[1;32m     35\u001b[0m         \u001b[0;32mtry\u001b[0m\u001b[0;34m:\u001b[0m\u001b[0;34m\u001b[0m\u001b[0;34m\u001b[0m\u001b[0m\n",
      "\u001b[0;32m/share/apps/python/anaconda3-2020.02/lib/python3.7/site-packages/numpy/lib/npyio.py\u001b[0m in \u001b[0;36mloadtxt\u001b[0;34m(fname, dtype, comments, delimiter, converters, skiprows, usecols, unpack, ndmin, encoding, max_rows)\u001b[0m\n\u001b[1;32m    979\u001b[0m             \u001b[0mfname\u001b[0m \u001b[0;34m=\u001b[0m \u001b[0mos_fspath\u001b[0m\u001b[0;34m(\u001b[0m\u001b[0mfname\u001b[0m\u001b[0;34m)\u001b[0m\u001b[0;34m\u001b[0m\u001b[0;34m\u001b[0m\u001b[0m\n\u001b[1;32m    980\u001b[0m         \u001b[0;32mif\u001b[0m \u001b[0m_is_string_like\u001b[0m\u001b[0;34m(\u001b[0m\u001b[0mfname\u001b[0m\u001b[0;34m)\u001b[0m\u001b[0;34m:\u001b[0m\u001b[0;34m\u001b[0m\u001b[0;34m\u001b[0m\u001b[0m\n\u001b[0;32m--> 981\u001b[0;31m             \u001b[0mfh\u001b[0m \u001b[0;34m=\u001b[0m \u001b[0mnp\u001b[0m\u001b[0;34m.\u001b[0m\u001b[0mlib\u001b[0m\u001b[0;34m.\u001b[0m\u001b[0m_datasource\u001b[0m\u001b[0;34m.\u001b[0m\u001b[0mopen\u001b[0m\u001b[0;34m(\u001b[0m\u001b[0mfname\u001b[0m\u001b[0;34m,\u001b[0m \u001b[0;34m'rt'\u001b[0m\u001b[0;34m,\u001b[0m \u001b[0mencoding\u001b[0m\u001b[0;34m=\u001b[0m\u001b[0mencoding\u001b[0m\u001b[0;34m)\u001b[0m\u001b[0;34m\u001b[0m\u001b[0;34m\u001b[0m\u001b[0m\n\u001b[0m\u001b[1;32m    982\u001b[0m             \u001b[0mfencoding\u001b[0m \u001b[0;34m=\u001b[0m \u001b[0mgetattr\u001b[0m\u001b[0;34m(\u001b[0m\u001b[0mfh\u001b[0m\u001b[0;34m,\u001b[0m \u001b[0;34m'encoding'\u001b[0m\u001b[0;34m,\u001b[0m \u001b[0;34m'latin1'\u001b[0m\u001b[0;34m)\u001b[0m\u001b[0;34m\u001b[0m\u001b[0;34m\u001b[0m\u001b[0m\n\u001b[1;32m    983\u001b[0m             \u001b[0mfh\u001b[0m \u001b[0;34m=\u001b[0m \u001b[0miter\u001b[0m\u001b[0;34m(\u001b[0m\u001b[0mfh\u001b[0m\u001b[0;34m)\u001b[0m\u001b[0;34m\u001b[0m\u001b[0;34m\u001b[0m\u001b[0m\n",
      "\u001b[0;32m/share/apps/python/anaconda3-2020.02/lib/python3.7/site-packages/numpy/lib/_datasource.py\u001b[0m in \u001b[0;36mopen\u001b[0;34m(path, mode, destpath, encoding, newline)\u001b[0m\n\u001b[1;32m    267\u001b[0m \u001b[0;34m\u001b[0m\u001b[0m\n\u001b[1;32m    268\u001b[0m     \u001b[0mds\u001b[0m \u001b[0;34m=\u001b[0m \u001b[0mDataSource\u001b[0m\u001b[0;34m(\u001b[0m\u001b[0mdestpath\u001b[0m\u001b[0;34m)\u001b[0m\u001b[0;34m\u001b[0m\u001b[0;34m\u001b[0m\u001b[0m\n\u001b[0;32m--> 269\u001b[0;31m     \u001b[0;32mreturn\u001b[0m \u001b[0mds\u001b[0m\u001b[0;34m.\u001b[0m\u001b[0mopen\u001b[0m\u001b[0;34m(\u001b[0m\u001b[0mpath\u001b[0m\u001b[0;34m,\u001b[0m \u001b[0mmode\u001b[0m\u001b[0;34m,\u001b[0m \u001b[0mencoding\u001b[0m\u001b[0;34m=\u001b[0m\u001b[0mencoding\u001b[0m\u001b[0;34m,\u001b[0m \u001b[0mnewline\u001b[0m\u001b[0;34m=\u001b[0m\u001b[0mnewline\u001b[0m\u001b[0;34m)\u001b[0m\u001b[0;34m\u001b[0m\u001b[0;34m\u001b[0m\u001b[0m\n\u001b[0m\u001b[1;32m    270\u001b[0m \u001b[0;34m\u001b[0m\u001b[0m\n\u001b[1;32m    271\u001b[0m \u001b[0;34m\u001b[0m\u001b[0m\n",
      "\u001b[0;32m/share/apps/python/anaconda3-2020.02/lib/python3.7/site-packages/numpy/lib/_datasource.py\u001b[0m in \u001b[0;36mopen\u001b[0;34m(self, path, mode, encoding, newline)\u001b[0m\n\u001b[1;32m    621\u001b[0m                                       encoding=encoding, newline=newline)\n\u001b[1;32m    622\u001b[0m         \u001b[0;32melse\u001b[0m\u001b[0;34m:\u001b[0m\u001b[0;34m\u001b[0m\u001b[0;34m\u001b[0m\u001b[0m\n\u001b[0;32m--> 623\u001b[0;31m             \u001b[0;32mraise\u001b[0m \u001b[0mIOError\u001b[0m\u001b[0;34m(\u001b[0m\u001b[0;34m\"%s not found.\"\u001b[0m \u001b[0;34m%\u001b[0m \u001b[0mpath\u001b[0m\u001b[0;34m)\u001b[0m\u001b[0;34m\u001b[0m\u001b[0;34m\u001b[0m\u001b[0m\n\u001b[0m\u001b[1;32m    624\u001b[0m \u001b[0;34m\u001b[0m\u001b[0m\n\u001b[1;32m    625\u001b[0m \u001b[0;34m\u001b[0m\u001b[0m\n",
      "\u001b[0;31mOSError\u001b[0m: /home/khlee/work/desmond/output/drd3/prm7/drd3_prm7.f2//ene/time.dat not found."
     ]
    }
   ],
   "source": [
    "# Not working\n",
    "# d3go_pd = read_data2(\"drd3ao\", \"prm3\", 600)\n",
    "# d3gi_pd = read_data2(\"drd3\", \"prm7\", 600)\n",
    "# d3_pd = pd.concat([d3go_pd,d3gi_pd])\n",
    "# d3_pd_plot = sns.catplot(x=\"Simulation\", y=\"Interface\",\n",
    "#                 col=\"System\", color='c',\n",
    "#                 data=d3_pd, kind=\"bar\",\n",
    "#                 height=4, aspect=1.2);"
   ]
  },
  {
   "cell_type": "markdown",
   "metadata": {},
   "source": [
    "# Bootstrapping"
   ]
  },
  {
   "cell_type": "code",
   "execution_count": 18,
   "metadata": {},
   "outputs": [
    {
     "data": {
      "image/png": "[encoded data removed]",
      "text/plain": [
       "<Figure size 691.2x288 with 2 Axes>"
      ]
     },
     "metadata": {
      "needs_background": "light"
     },
     "output_type": "display_data"
    }
   ],
   "source": [
    "bootstrap(d2_bro)"
   ]
  },
  {
   "cell_type": "code",
   "execution_count": 25,
   "metadata": {},
   "outputs": [
    {
     "data": {
      "image/png": "[encoded data removed]",
      "text/plain": [
       "<Figure size 691.2x288 with 2 Axes>"
      ]
     },
     "metadata": {
      "needs_background": "light"
     },
     "output_type": "display_data"
    }
   ],
   "source": [
    "bootstrap(d2_bro, seed=100)"
   ]
  },
  {
   "cell_type": "code",
   "execution_count": 26,
   "metadata": {},
   "outputs": [
    {
     "data": {
      "image/png": "[encoded data removed]",
      "text/plain": [
       "<Figure size 691.2x288 with 2 Axes>"
      ]
     },
     "metadata": {
      "needs_background": "light"
     },
     "output_type": "display_data"
    }
   ],
   "source": [
    "bootstrap(d3_pd)"
   ]
  },
  {
   "cell_type": "code",
   "execution_count": 27,
   "metadata": {},
   "outputs": [
    {
     "data": {
      "image/png": "[encoded data removed]",
      "text/plain": [
       "<Figure size 691.2x288 with 2 Axes>"
      ]
     },
     "metadata": {
      "needs_background": "light"
     },
     "output_type": "display_data"
    }
   ],
   "source": [
    "bootstrap(d3_prm)"
   ]
  },
  {
   "cell_type": "code",
   "execution_count": null,
   "metadata": {},
   "outputs": [],
   "source": []
  }
 ],
 "metadata": {
  "kernelspec": {
   "display_name": "Python 3",
   "language": "python",
   "name": "python3"
  },
  "language_info": {
   "codemirror_mode": {
    "name": "ipython",
    "version": 3
   },
   "file_extension": ".py",
   "mimetype": "text/x-python",
   "name": "python",
   "nbconvert_exporter": "python",
   "pygments_lexer": "ipython3",
   "version": "3.7.6"
  }
 },
 "nbformat": 4,
 "nbformat_minor": 4
}
