{
 "cells": [
  {
   "cell_type": "code",
   "execution_count": 1,
   "metadata": {},
   "outputs": [],
   "source": [
    "import glob\n",
    "import pickle\n",
    "import seaborn as sns\n",
    "import pandas as pd\n",
    "import numpy as np\n",
    "from natsort import natsorted, ns\n"
   ]
  },
  {
   "cell_type": "code",
   "execution_count": 2,
   "metadata": {},
   "outputs": [],
   "source": [
    "receptor=\"d2go\"\n",
    "ligand=\"bro\"\n",
    "time_limit = 300\n",
    "\n",
    "data = {\"Interface\":[], \"System\":[], \"Simulation\":[]}\n",
    "_filein = glob.glob(\"/home/khlee/work/desmond/output/\"+receptor+\"/\"+ligand+\"/*/\")\n",
    "_filein = natsorted(_filein, key=lambda y: y.lower())\n",
    "for i in range(len(_filein)):\n",
    "    t=np.loadtxt(_filein[i]+'/ene/time.dat')\n",
    "    obs=pickle.load(open(_filein[i]+'/output/gpcr_interface.p',\"rb\"))\n",
    "    assert (len(t)==len(obs))\n",
    "    \n",
    "    temp = pd.DataFrame({\"obs\":obs, \"t\":t})\n",
    "    sel = list(temp[temp[\"t\"]>=time_limit][\"obs\"])\n",
    "    \n",
    "    data[\"Interface\"] += sel\n",
    "    data[\"System\"]+=[receptor for a in range(len(sel))]\n",
    "    data[\"Simulation\"]+=[_filein[i].split(\"/\")[-2].split(\"_\")[-1] for a in range(len(sel))]\n",
    "\n",
    "d2go_bro = pd.DataFrame(data)"
   ]
  },
  {
   "cell_type": "code",
   "execution_count": 3,
   "metadata": {},
   "outputs": [],
   "source": [
    "receptor=\"d2gi\"\n",
    "ligand=\"bro\"\n",
    "time_limit = 300\n",
    "\n",
    "data = {\"Interface\":[], \"System\":[], \"Simulation\":[]}\n",
    "_filein = glob.glob(\"/home/khlee/work/desmond/output/\"+receptor+\"/\"+ligand+\"/*/\")\n",
    "_filein = natsorted(_filein, key=lambda y: y.lower())\n",
    "for i in range(len(_filein)):\n",
    "    t=np.loadtxt(_filein[i]+'/ene/time.dat')\n",
    "    obs=pickle.load(open(_filein[i]+'/output/gpcr_interface.p',\"rb\"))\n",
    "    assert (len(t)==len(obs))\n",
    "    \n",
    "    temp = pd.DataFrame({\"obs\":obs, \"t\":t})\n",
    "    sel = list(temp[temp[\"t\"]>=time_limit][\"obs\"])\n",
    "    \n",
    "    data[\"Interface\"] += sel\n",
    "    data[\"System\"]+=[receptor for a in range(len(sel))]\n",
    "    data[\"Simulation\"]+=[_filein[i].split(\"/\")[-2].split(\"_\")[-1] for a in range(len(sel))]\n",
    "\n",
    "d2gi_bro = pd.DataFrame(data)"
   ]
  },
  {
   "cell_type": "code",
   "execution_count": 4,
   "metadata": {},
   "outputs": [],
   "source": [
    "d2_bro = pd.concat([d2go_bro,d2gi_bro])"
   ]
  },
  {
   "cell_type": "code",
   "execution_count": 5,
   "metadata": {},
   "outputs": [
    {
     "data": {
      "image/png": "[encoded data removed]",
      "text/plain": [
       "<Figure size 691.2x288 with 2 Axes>"
      ]
     },
     "metadata": {
      "needs_background": "light"
     },
     "output_type": "display_data"
    }
   ],
   "source": [
    "d2_bro_plot = sns.catplot(x=\"Simulation\", y=\"Interface\",\n",
    "                col=\"System\", color='c',\n",
    "                data=d2_bro, kind=\"bar\",\n",
    "                height=4, aspect=1.2);"
   ]
  },
  {
   "cell_type": "code",
   "execution_count": 6,
   "metadata": {},
   "outputs": [],
   "source": [
    "receptor=\"d3go\"\n",
    "ligand=\"prm\"\n",
    "time_limit = 300\n",
    "\n",
    "data = {\"Interface\":[], \"System\":[], \"Simulation\":[]}\n",
    "_filein = glob.glob(\"/home/khlee/work/desmond/output/\"+receptor+\"/\"+ligand+\"/*/\")\n",
    "_filein = natsorted(_filein, key=lambda y: y.lower())\n",
    "for i in range(len(_filein)):\n",
    "    t=np.loadtxt(_filein[i]+'/ene/time.dat')\n",
    "    obs=pickle.load(open(_filein[i]+'/output/gpcr_interface.p',\"rb\"))\n",
    "    assert (len(t)==len(obs))\n",
    "    \n",
    "    temp = pd.DataFrame({\"obs\":obs, \"t\":t})\n",
    "    sel = list(temp[temp[\"t\"]>=time_limit][\"obs\"])\n",
    "    \n",
    "    data[\"Interface\"] += sel\n",
    "    data[\"System\"]+=[receptor for a in range(len(sel))]\n",
    "    data[\"Simulation\"]+=[_filein[i].split(\"/\")[-2].split(\"_\")[-1] for a in range(len(sel))]\n",
    "\n",
    "d3go_prm = pd.DataFrame(data)"
   ]
  },
  {
   "cell_type": "code",
   "execution_count": 7,
   "metadata": {},
   "outputs": [],
   "source": [
    "receptor=\"d3gi\"\n",
    "ligand=\"prm\"\n",
    "time_limit = 300\n",
    "\n",
    "data = {\"Interface\":[], \"System\":[], \"Simulation\":[]}\n",
    "_filein = glob.glob(\"/home/khlee/work/desmond/output/\"+receptor+\"/\"+ligand+\"/*/\")\n",
    "_filein = natsorted(_filein, key=lambda y: y.lower())\n",
    "for i in range(len(_filein)):\n",
    "    t=np.loadtxt(_filein[i]+'/ene/time.dat')\n",
    "    obs=pickle.load(open(_filein[i]+'/output/gpcr_interface.p',\"rb\"))\n",
    "    assert (len(t)==len(obs))\n",
    "    \n",
    "    temp = pd.DataFrame({\"obs\":obs, \"t\":t})\n",
    "    sel = list(temp[temp[\"t\"]>=time_limit][\"obs\"])\n",
    "    \n",
    "    data[\"Interface\"] += sel\n",
    "    data[\"System\"]+=[receptor for a in range(len(sel))]\n",
    "    data[\"Simulation\"]+=[_filein[i].split(\"/\")[-2].split(\"_\")[-1] for a in range(len(sel))]\n",
    "\n",
    "d3gi_prm = pd.DataFrame(data)"
   ]
  },
  {
   "cell_type": "code",
   "execution_count": 8,
   "metadata": {},
   "outputs": [],
   "source": [
    "d3_prm = pd.concat([d3go_prm,d3gi_prm])"
   ]
  },
  {
   "cell_type": "code",
   "execution_count": 10,
   "metadata": {},
   "outputs": [
    {
     "data": {
      "image/png": "[encoded data removed]",
      "text/plain": [
       "<Figure size 691.2x288 with 2 Axes>"
      ]
     },
     "metadata": {
      "needs_background": "light"
     },
     "output_type": "display_data"
    }
   ],
   "source": [
    "d3_prm_plot = sns.catplot(x=\"Simulation\", y=\"Interface\",\n",
    "                        col=\"System\", color='c',\n",
    "                        data=d3_prm, kind=\"bar\",\n",
    "                        height=4, aspect=1.2)"
   ]
  },
  {
   "cell_type": "code",
   "execution_count": 11,
   "metadata": {},
   "outputs": [],
   "source": [
    "receptor=\"d3go\"\n",
    "ligand=\"pd\"\n",
    "time_limit = 300\n",
    "\n",
    "data = {\"Interface\":[], \"System\":[], \"Simulation\":[]}\n",
    "_filein = glob.glob(\"/home/khlee/work/desmond/output/\"+receptor+\"/\"+ligand+\"/*/\")\n",
    "_filein = natsorted(_filein, key=lambda y: y.lower())\n",
    "for i in range(len(_filein)):\n",
    "    t=np.loadtxt(_filein[i]+'/ene/time.dat')\n",
    "    obs=pickle.load(open(_filein[i]+'/output/gpcr_interface.p',\"rb\"))\n",
    "    assert (len(t)==len(obs))\n",
    "    \n",
    "    temp = pd.DataFrame({\"obs\":obs, \"t\":t})\n",
    "    sel = list(temp[temp[\"t\"]>=time_limit][\"obs\"])\n",
    "    \n",
    "    data[\"Interface\"] += sel\n",
    "    data[\"System\"]+=[receptor for a in range(len(sel))]\n",
    "    data[\"Simulation\"]+=[_filein[i].split(\"/\")[-2].split(\"_\")[-1] for a in range(len(sel))]\n",
    "\n",
    "d3go_pd = pd.DataFrame(data)"
   ]
  },
  {
   "cell_type": "code",
   "execution_count": 12,
   "metadata": {},
   "outputs": [],
   "source": [
    "receptor=\"d3gi\"\n",
    "ligand=\"pd\"\n",
    "time_limit = 300\n",
    "\n",
    "data = {\"Interface\":[], \"System\":[], \"Simulation\":[]}\n",
    "_filein = glob.glob(\"/home/khlee/work/desmond/output/\"+receptor+\"/\"+ligand+\"/*/\")\n",
    "_filein = natsorted(_filein, key=lambda y: y.lower())\n",
    "for i in range(len(_filein)):\n",
    "    t=np.loadtxt(_filein[i]+'/ene/time.dat')\n",
    "    obs=pickle.load(open(_filein[i]+'/output/gpcr_interface.p',\"rb\"))\n",
    "    assert (len(t)==len(obs))\n",
    "    \n",
    "    temp = pd.DataFrame({\"obs\":obs, \"t\":t})\n",
    "    sel = list(temp[temp[\"t\"]>=time_limit][\"obs\"])\n",
    "    \n",
    "    data[\"Interface\"] += sel\n",
    "    data[\"System\"]+=[receptor for a in range(len(sel))]\n",
    "    data[\"Simulation\"]+=[_filein[i].split(\"/\")[-2].split(\"_\")[-1] for a in range(len(sel))]\n",
    "\n",
    "d3gi_pd = pd.DataFrame(data)"
   ]
  },
  {
   "cell_type": "code",
   "execution_count": 13,
   "metadata": {},
   "outputs": [],
   "source": [
    "d3_pd = pd.concat([d3go_pd,d3gi_pd])"
   ]
  },
  {
   "cell_type": "code",
   "execution_count": null,
   "metadata": {},
   "outputs": [],
   "source": [
    "d3_pd_plot = "
   ]
  }
 ],
 "metadata": {
  "kernelspec": {
   "display_name": "Python 3",
   "language": "python",
   "name": "python3"
  },
  "language_info": {
   "codemirror_mode": {
    "name": "ipython",
    "version": 3
   },
   "file_extension": ".py",
   "mimetype": "text/x-python",
   "name": "python",
   "nbconvert_exporter": "python",
   "pygments_lexer": "ipython3",
   "version": "3.7.6"
  }
 },
 "nbformat": 4,
 "nbformat_minor": 4
}
