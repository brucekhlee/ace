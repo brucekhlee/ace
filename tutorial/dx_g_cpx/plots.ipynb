{
 "cells": [
  {
   "cell_type": "code",
   "execution_count": 14,
   "metadata": {},
   "outputs": [],
   "source": [
    "import glob\n",
    "import pickle\n",
    "import seaborn as sns\n",
    "import pandas as pd\n",
    "import numpy as np\n",
    "from natsort import natsorted, ns\n"
   ]
  },
  {
   "cell_type": "code",
   "execution_count": 2,
   "metadata": {},
   "outputs": [],
   "source": [
    "\n",
    "\n",
    "\n",
    "d2go = glob.glob(\"/home/khlee/work/desmond/output/d2go/bro/d2go_bro*/output/gpcr_interface.p\")\n",
    "d2go.sort()\n",
    "d2gi = glob.glob(\"/home/khlee/work/desmond/output/d2gi/bro/d2gi_bro*/output/gpcr_interface.p\")\n",
    "d2gi.sort()\n",
    "d2go_time = glob.glob(\"/home/khlee/work/desmond/output/d2go/bro/d2go_bro*/ene/time.dat\")\n",
    "d2gi_time = glob.glob(\"/home/khlee/work/desmond/output/d2gi/bro/d2gi_bro*/ene/time.dat\")"
   ]
  },
  {
   "cell_type": "code",
   "execution_count": 17,
   "metadata": {},
   "outputs": [
    {
     "data": {
      "text/plain": [
       "['/home/khlee/work/desmond/output/d2go/bro/d2go_bro.1/',\n",
       " '/home/khlee/work/desmond/output/d2go/bro/d2go_bro.2/',\n",
       " '/home/khlee/work/desmond/output/d2go/bro/d2go_bro.3/',\n",
       " '/home/khlee/work/desmond/output/d2go/bro/d2go_bro.4/',\n",
       " '/home/khlee/work/desmond/output/d2go/bro/d2go_bro.5/',\n",
       " '/home/khlee/work/desmond/output/d2go/bro/d2go_bro/']"
      ]
     },
     "execution_count": 17,
     "metadata": {},
     "output_type": "execute_result"
    }
   ],
   "source": [
    "recptor=\"d2go\"\n",
    "ligand=\"bro\"\n",
    "\n",
    "_filein = glob.glob(\"/home/khlee/work/desmond/output/\"+recptor+\"/\"+ligand+\"/*/\")\n",
    "_filein = natsorted(_filein, key=lambda y: y.lower())\n",
    "_filein"
   ]
  },
  {
   "cell_type": "code",
   "execution_count": 31,
   "metadata": {},
   "outputs": [],
   "source": [
    "i=0\n",
    "t=np.loadtxt(_filein[i]+'/ene/time.dat')\n",
    "obs=pickle.load(open(_filein[i]+'/output/gpcr_interface.p',\"rb\"))\n",
    "assert (len(t)==len(obs))\n",
    "\n"
   ]
  },
  {
   "cell_type": "code",
   "execution_count": 29,
   "metadata": {},
   "outputs": [],
   "source": []
  },
  {
   "cell_type": "code",
   "execution_count": 4,
   "metadata": {},
   "outputs": [
    {
     "data": {
      "text/plain": [
       "['/home/khlee/work/desmond/output/d2go/bro/d2go_bro.3/ene/time.dat',\n",
       " '/home/khlee/work/desmond/output/d2go/bro/d2go_bro.4/ene/time.dat',\n",
       " '/home/khlee/work/desmond/output/d2go/bro/d2go_bro/ene/time.dat',\n",
       " '/home/khlee/work/desmond/output/d2go/bro/d2go_bro.5/ene/time.dat',\n",
       " '/home/khlee/work/desmond/output/d2go/bro/d2go_bro.2/ene/time.dat',\n",
       " '/home/khlee/work/desmond/output/d2go/bro/d2go_bro.1/ene/time.dat']"
      ]
     },
     "execution_count": 4,
     "metadata": {},
     "output_type": "execute_result"
    }
   ],
   "source": [
    "d2go_time"
   ]
  },
  {
   "cell_type": "code",
   "execution_count": 9,
   "metadata": {},
   "outputs": [],
   "source": []
  },
  {
   "cell_type": "code",
   "execution_count": 3,
   "metadata": {},
   "outputs": [],
   "source": [
    "data = {\"Interface\":[], \"System\":[], \"Simulation\":[]}\n",
    "for i in range(len(d2go)):\n",
    "    i_d2go = pickle.load(open(d2go[i],\"rb\"))\n",
    "    cat_d2go = [\"d2go\" for a in range(len(i_d2go))]\n",
    "    i_d2gi = pickle.load(open(d2gi[i],\"rb\"))\n",
    "    cat_d2gi = [\"d2gi\" for a in range(len(i_d2gi))]\n",
    "    sim = [\"bro.%d\"%(i+1) for a in range(len(i_d2go+i_d2gi))]\n",
    "    if i==5:\n",
    "        sim = [\"bro\" for a in range(len(i_d2go+i_d2gi))]\n",
    "    \n",
    "    \n",
    "#     with open(d2go_time[i]) as f:\n",
    "#         lines_o = f.readlines()\n",
    "#         lines_o = [float(lines_o[x]) for x in range(len(lines_o))]\n",
    "    \n",
    "#     with open(d2gi_time[i]) as g:\n",
    "#         lines_i = g.readlines()\n",
    "#         lines_i = [float(lines_i[x]) for x in range(len(lines_i))]\n",
    "    \n",
    "    data[\"Interface\"]+=(i_d2go+i_d2gi)\n",
    "    data[\"System\"]+=(cat_d2go+cat_d2gi)\n",
    "    data[\"Simulation\"]+=(sim)"
   ]
  },
  {
   "cell_type": "code",
   "execution_count": 4,
   "metadata": {},
   "outputs": [],
   "source": [
    "df = pd.DataFrame(data)"
   ]
  },
  {
   "cell_type": "code",
   "execution_count": 5,
   "metadata": {},
   "outputs": [
    {
     "data": {
      "text/html": [
       "<div>\n",
       "<style scoped>\n",
       "    .dataframe tbody tr th:only-of-type {\n",
       "        vertical-align: middle;\n",
       "    }\n",
       "\n",
       "    .dataframe tbody tr th {\n",
       "        vertical-align: top;\n",
       "    }\n",
       "\n",
       "    .dataframe thead th {\n",
       "        text-align: right;\n",
       "    }\n",
       "</style>\n",
       "<table border=\"1\" class=\"dataframe\">\n",
       "  <thead>\n",
       "    <tr style=\"text-align: right;\">\n",
       "      <th></th>\n",
       "      <th>Interface</th>\n",
       "      <th>System</th>\n",
       "      <th>Simulation</th>\n",
       "    </tr>\n",
       "  </thead>\n",
       "  <tbody>\n",
       "    <tr>\n",
       "      <th>0</th>\n",
       "      <td>1639.0</td>\n",
       "      <td>d2go</td>\n",
       "      <td>bro.1</td>\n",
       "    </tr>\n",
       "    <tr>\n",
       "      <th>1</th>\n",
       "      <td>1579.0</td>\n",
       "      <td>d2go</td>\n",
       "      <td>bro.1</td>\n",
       "    </tr>\n",
       "    <tr>\n",
       "      <th>2</th>\n",
       "      <td>1567.0</td>\n",
       "      <td>d2go</td>\n",
       "      <td>bro.1</td>\n",
       "    </tr>\n",
       "    <tr>\n",
       "      <th>3</th>\n",
       "      <td>1539.0</td>\n",
       "      <td>d2go</td>\n",
       "      <td>bro.1</td>\n",
       "    </tr>\n",
       "    <tr>\n",
       "      <th>4</th>\n",
       "      <td>1579.0</td>\n",
       "      <td>d2go</td>\n",
       "      <td>bro.1</td>\n",
       "    </tr>\n",
       "    <tr>\n",
       "      <th>...</th>\n",
       "      <td>...</td>\n",
       "      <td>...</td>\n",
       "      <td>...</td>\n",
       "    </tr>\n",
       "    <tr>\n",
       "      <th>19395</th>\n",
       "      <td>1615.0</td>\n",
       "      <td>d2gi</td>\n",
       "      <td>bro</td>\n",
       "    </tr>\n",
       "    <tr>\n",
       "      <th>19396</th>\n",
       "      <td>1603.0</td>\n",
       "      <td>d2gi</td>\n",
       "      <td>bro</td>\n",
       "    </tr>\n",
       "    <tr>\n",
       "      <th>19397</th>\n",
       "      <td>1640.0</td>\n",
       "      <td>d2gi</td>\n",
       "      <td>bro</td>\n",
       "    </tr>\n",
       "    <tr>\n",
       "      <th>19398</th>\n",
       "      <td>1516.0</td>\n",
       "      <td>d2gi</td>\n",
       "      <td>bro</td>\n",
       "    </tr>\n",
       "    <tr>\n",
       "      <th>19399</th>\n",
       "      <td>1591.0</td>\n",
       "      <td>d2gi</td>\n",
       "      <td>bro</td>\n",
       "    </tr>\n",
       "  </tbody>\n",
       "</table>\n",
       "<p>19400 rows × 3 columns</p>\n",
       "</div>"
      ],
      "text/plain": [
       "       Interface System Simulation\n",
       "0         1639.0   d2go      bro.1\n",
       "1         1579.0   d2go      bro.1\n",
       "2         1567.0   d2go      bro.1\n",
       "3         1539.0   d2go      bro.1\n",
       "4         1579.0   d2go      bro.1\n",
       "...          ...    ...        ...\n",
       "19395     1615.0   d2gi        bro\n",
       "19396     1603.0   d2gi        bro\n",
       "19397     1640.0   d2gi        bro\n",
       "19398     1516.0   d2gi        bro\n",
       "19399     1591.0   d2gi        bro\n",
       "\n",
       "[19400 rows x 3 columns]"
      ]
     },
     "execution_count": 5,
     "metadata": {},
     "output_type": "execute_result"
    }
   ],
   "source": [
    "df"
   ]
  },
  {
   "cell_type": "code",
   "execution_count": 19,
   "metadata": {},
   "outputs": [
    {
     "data": {
      "image/png": "[encoded data removed]",
      "text/plain": [
       "<Figure size 691.2x288 with 2 Axes>"
      ]
     },
     "metadata": {
      "needs_background": "light"
     },
     "output_type": "display_data"
    }
   ],
   "source": [
    "g = sns.catplot(x=\"Simulation\", y=\"Interface\",\n",
    "                col=\"System\", color='c',\n",
    "                data=df, kind=\"bar\",\n",
    "                height=4, aspect=1.2);"
   ]
  },
  {
   "cell_type": "code",
   "execution_count": 20,
   "metadata": {},
   "outputs": [],
   "source": [
    "d3gi_pd = glob.glob(\"/home/khlee/desmond/output/d3gi/pd/d3gi_pd.f*/output/gpcr_interface.p\")\n",
    "d3gi_pd.sort()\n",
    "d3gi_prm = glob.glob(\"/home/khlee/desmond/output/d3gi/prm/d3gi_prm.f*/output/gpcr_interface.p\")\n",
    "d3gi_prm.sort()\n",
    "d3go_pd = glob.glob(\"/home/khlee/desmond/output/d3go/pd/d3go_pd.f*/output/gpcr_interface.p\")\n",
    "d3go_pd.sort()\n",
    "d3go_prm = glob.glob(\"/home/khlee/desmond/output/d3go/prm/d3go_prm.f*/output/gpcr_interface.p\")\n",
    "d3go_prm.sort()"
   ]
  },
  {
   "cell_type": "code",
   "execution_count": 21,
   "metadata": {},
   "outputs": [],
   "source": [
    "d3_pd_data = {\"Interface\":[], \"System\":[], \"Simulation\":[]}\n",
    "for i in range(len(d3gi_pd)):\n",
    "    i_d3go = pickle.load(open(d3go_pd[i],\"rb\"))\n",
    "    cat_d3go = [\"d3go\" for a in range(len(i_d3go))]\n",
    "    i_d3gi = pickle.load(open(d3gi_pd[i],\"rb\"))\n",
    "    cat_d3gi = [\"d3gi\" for a in range(len(i_d3gi))]\n",
    "    sim = [\"pd.f%d\"%(i+1) for a in range(len(i_d3go+i_d3gi))]\n",
    "    \n",
    "    d3_pd_data[\"Interface\"]+=(i_d3go+i_d3gi)\n",
    "    d3_pd_data[\"System\"]+=(cat_d3go+cat_d3gi)\n",
    "    d3_pd_data[\"Simulation\"]+=(sim)"
   ]
  },
  {
   "cell_type": "code",
   "execution_count": 22,
   "metadata": {},
   "outputs": [],
   "source": [
    "df_pd = pd.DataFrame(d3_pd_data)"
   ]
  },
  {
   "cell_type": "code",
   "execution_count": 23,
   "metadata": {},
   "outputs": [
    {
     "data": {
      "text/html": [
       "<div>\n",
       "<style scoped>\n",
       "    .dataframe tbody tr th:only-of-type {\n",
       "        vertical-align: middle;\n",
       "    }\n",
       "\n",
       "    .dataframe tbody tr th {\n",
       "        vertical-align: top;\n",
       "    }\n",
       "\n",
       "    .dataframe thead th {\n",
       "        text-align: right;\n",
       "    }\n",
       "</style>\n",
       "<table border=\"1\" class=\"dataframe\">\n",
       "  <thead>\n",
       "    <tr style=\"text-align: right;\">\n",
       "      <th></th>\n",
       "      <th>Interface</th>\n",
       "      <th>System</th>\n",
       "      <th>Simulation</th>\n",
       "    </tr>\n",
       "  </thead>\n",
       "  <tbody>\n",
       "    <tr>\n",
       "      <th>0</th>\n",
       "      <td>1849.0</td>\n",
       "      <td>d3go</td>\n",
       "      <td>pd.f1</td>\n",
       "    </tr>\n",
       "    <tr>\n",
       "      <th>1</th>\n",
       "      <td>1796.0</td>\n",
       "      <td>d3go</td>\n",
       "      <td>pd.f1</td>\n",
       "    </tr>\n",
       "    <tr>\n",
       "      <th>2</th>\n",
       "      <td>1865.0</td>\n",
       "      <td>d3go</td>\n",
       "      <td>pd.f1</td>\n",
       "    </tr>\n",
       "    <tr>\n",
       "      <th>3</th>\n",
       "      <td>1739.0</td>\n",
       "      <td>d3go</td>\n",
       "      <td>pd.f1</td>\n",
       "    </tr>\n",
       "    <tr>\n",
       "      <th>4</th>\n",
       "      <td>1828.0</td>\n",
       "      <td>d3go</td>\n",
       "      <td>pd.f1</td>\n",
       "    </tr>\n",
       "    <tr>\n",
       "      <th>...</th>\n",
       "      <td>...</td>\n",
       "      <td>...</td>\n",
       "      <td>...</td>\n",
       "    </tr>\n",
       "    <tr>\n",
       "      <th>13007</th>\n",
       "      <td>1990.0</td>\n",
       "      <td>d3gi</td>\n",
       "      <td>pd.f6</td>\n",
       "    </tr>\n",
       "    <tr>\n",
       "      <th>13008</th>\n",
       "      <td>2057.0</td>\n",
       "      <td>d3gi</td>\n",
       "      <td>pd.f6</td>\n",
       "    </tr>\n",
       "    <tr>\n",
       "      <th>13009</th>\n",
       "      <td>2068.0</td>\n",
       "      <td>d3gi</td>\n",
       "      <td>pd.f6</td>\n",
       "    </tr>\n",
       "    <tr>\n",
       "      <th>13010</th>\n",
       "      <td>2080.0</td>\n",
       "      <td>d3gi</td>\n",
       "      <td>pd.f6</td>\n",
       "    </tr>\n",
       "    <tr>\n",
       "      <th>13011</th>\n",
       "      <td>2005.0</td>\n",
       "      <td>d3gi</td>\n",
       "      <td>pd.f6</td>\n",
       "    </tr>\n",
       "  </tbody>\n",
       "</table>\n",
       "<p>13012 rows × 3 columns</p>\n",
       "</div>"
      ],
      "text/plain": [
       "       Interface System Simulation\n",
       "0         1849.0   d3go      pd.f1\n",
       "1         1796.0   d3go      pd.f1\n",
       "2         1865.0   d3go      pd.f1\n",
       "3         1739.0   d3go      pd.f1\n",
       "4         1828.0   d3go      pd.f1\n",
       "...          ...    ...        ...\n",
       "13007     1990.0   d3gi      pd.f6\n",
       "13008     2057.0   d3gi      pd.f6\n",
       "13009     2068.0   d3gi      pd.f6\n",
       "13010     2080.0   d3gi      pd.f6\n",
       "13011     2005.0   d3gi      pd.f6\n",
       "\n",
       "[13012 rows x 3 columns]"
      ]
     },
     "execution_count": 23,
     "metadata": {},
     "output_type": "execute_result"
    }
   ],
   "source": [
    "df_pd"
   ]
  },
  {
   "cell_type": "code",
   "execution_count": 25,
   "metadata": {},
   "outputs": [
    {
     "data": {
      "image/png": "[encoded data removed]",
      "text/plain": [
       "<Figure size 691.2x288 with 2 Axes>"
      ]
     },
     "metadata": {
      "needs_background": "light"
     },
     "output_type": "display_data"
    }
   ],
   "source": [
    "d3pd = sns.catplot(x=\"Simulation\", y=\"Interface\",\n",
    "                col=\"System\", color='c',\n",
    "                data=df_pd, kind=\"bar\",\n",
    "                height=4, aspect=1.2);"
   ]
  },
  {
   "cell_type": "code",
   "execution_count": 26,
   "metadata": {},
   "outputs": [],
   "source": [
    "d3_prm_data = {\"Interface\":[], \"System\":[], \"Simulation\":[]}\n",
    "for i in range(len(d3gi_prm)):\n",
    "    i_d3go = pickle.load(open(d3go_prm[i],\"rb\"))\n",
    "    cat_d3go = [\"d3go\" for a in range(len(i_d3go))]\n",
    "    i_d3gi = pickle.load(open(d3gi_prm[i],\"rb\"))\n",
    "    cat_d3gi = [\"d3gi\" for a in range(len(i_d3gi))]\n",
    "    sim = [\"prm.f%d\"%(i+1) for a in range(len(i_d3go+i_d3gi))]\n",
    "    \n",
    "    d3_prm_data[\"Interface\"]+=(i_d3go+i_d3gi)\n",
    "    d3_prm_data[\"System\"]+=(cat_d3go+cat_d3gi)\n",
    "    d3_prm_data[\"Simulation\"]+=(sim)"
   ]
  },
  {
   "cell_type": "code",
   "execution_count": 31,
   "metadata": {},
   "outputs": [
    {
     "data": {
      "image/png": "[encoded data removed]",
      "text/plain": [
       "<Figure size 691.2x288 with 2 Axes>"
      ]
     },
     "metadata": {
      "needs_background": "light"
     },
     "output_type": "display_data"
    }
   ],
   "source": [
    "df_prm = pd.DataFrame(d3_prm_data)\n",
    "d3prm = sns.catplot(x=\"Simulation\", y=\"Interface\",\n",
    "                col=\"System\", color='c',\n",
    "                data=df_prm, kind=\"bar\",\n",
    "                height=4, aspect=1.2);"
   ]
  },
  {
   "cell_type": "code",
   "execution_count": null,
   "metadata": {},
   "outputs": [],
   "source": []
  }
 ],
 "metadata": {
  "kernelspec": {
   "display_name": "Python 3",
   "language": "python",
   "name": "python3"
  },
  "language_info": {
   "codemirror_mode": {
    "name": "ipython",
    "version": 3
   },
   "file_extension": ".py",
   "mimetype": "text/x-python",
   "name": "python",
   "nbconvert_exporter": "python",
   "pygments_lexer": "ipython3",
   "version": "3.7.6"
  }
 },
 "nbformat": 4,
 "nbformat_minor": 4
}
