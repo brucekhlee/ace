{
 "cells": [
  {
   "cell_type": "code",
   "execution_count": 1,
   "metadata": {},
   "outputs": [],
   "source": [
    "import glob\n",
    "import pickle\n",
    "import seaborn as sns\n",
    "import pandas as pd"
   ]
  },
  {
   "cell_type": "code",
   "execution_count": 2,
   "metadata": {},
   "outputs": [],
   "source": [
    "d2go = glob.glob(\"/home/khlee/work/desmond/output/d2go/bro/d2go_bro*/output/gpcr_interface.p\")\n",
    "d2go.sort()\n",
    "d2gi = glob.glob(\"/home/khlee/work/desmond/output/d2gi/bro/d2gi_bro*/output/gpcr_interface.p\")\n",
    "d2gi.sort()"
   ]
  },
  {
   "cell_type": "code",
   "execution_count": 3,
   "metadata": {},
   "outputs": [],
   "source": [
    "data = {\"Value\":[], \"System\":[], \"Simulation\":[]}\n",
    "for i in range(len(d2go)):\n",
    "    i_d2go = pickle.load(open(d2go[i],\"rb\"))\n",
    "    cat_d2go = [\"d2go\" for a in range(len(i_d2go))]\n",
    "    i_d2gi = pickle.load(open(d2gi[i],\"rb\"))\n",
    "    cat_d2gi = [\"d2gi\" for a in range(len(i_d2gi))]\n",
    "    sim = [i+1 for a in range(len(i_d2go+i_d2gi))]\n",
    "    \n",
    "    data[\"Value\"]+=(i_d2go+i_d2gi)\n",
    "    data[\"System\"]+=(cat_d2go+cat_d2gi)\n",
    "    data[\"Simulation\"]+=(sim)"
   ]
  },
  {
   "cell_type": "code",
   "execution_count": 4,
   "metadata": {},
   "outputs": [],
   "source": [
    "df = pd.DataFrame(data)"
   ]
  },
  {
   "cell_type": "code",
   "execution_count": 5,
   "metadata": {},
   "outputs": [
    {
     "data": {
      "text/html": [
       "<div>\n",
       "<style scoped>\n",
       "    .dataframe tbody tr th:only-of-type {\n",
       "        vertical-align: middle;\n",
       "    }\n",
       "\n",
       "    .dataframe tbody tr th {\n",
       "        vertical-align: top;\n",
       "    }\n",
       "\n",
       "    .dataframe thead th {\n",
       "        text-align: right;\n",
       "    }\n",
       "</style>\n",
       "<table border=\"1\" class=\"dataframe\">\n",
       "  <thead>\n",
       "    <tr style=\"text-align: right;\">\n",
       "      <th></th>\n",
       "      <th>Value</th>\n",
       "      <th>System</th>\n",
       "      <th>Simulation</th>\n",
       "    </tr>\n",
       "  </thead>\n",
       "  <tbody>\n",
       "    <tr>\n",
       "      <th>0</th>\n",
       "      <td>1639.0</td>\n",
       "      <td>d2go</td>\n",
       "      <td>1</td>\n",
       "    </tr>\n",
       "    <tr>\n",
       "      <th>1</th>\n",
       "      <td>1579.0</td>\n",
       "      <td>d2go</td>\n",
       "      <td>1</td>\n",
       "    </tr>\n",
       "    <tr>\n",
       "      <th>2</th>\n",
       "      <td>1567.0</td>\n",
       "      <td>d2go</td>\n",
       "      <td>1</td>\n",
       "    </tr>\n",
       "    <tr>\n",
       "      <th>3</th>\n",
       "      <td>1539.0</td>\n",
       "      <td>d2go</td>\n",
       "      <td>1</td>\n",
       "    </tr>\n",
       "    <tr>\n",
       "      <th>4</th>\n",
       "      <td>1579.0</td>\n",
       "      <td>d2go</td>\n",
       "      <td>1</td>\n",
       "    </tr>\n",
       "    <tr>\n",
       "      <th>...</th>\n",
       "      <td>...</td>\n",
       "      <td>...</td>\n",
       "      <td>...</td>\n",
       "    </tr>\n",
       "    <tr>\n",
       "      <th>13995</th>\n",
       "      <td>1564.0</td>\n",
       "      <td>d2gi</td>\n",
       "      <td>6</td>\n",
       "    </tr>\n",
       "    <tr>\n",
       "      <th>13996</th>\n",
       "      <td>1586.0</td>\n",
       "      <td>d2gi</td>\n",
       "      <td>6</td>\n",
       "    </tr>\n",
       "    <tr>\n",
       "      <th>13997</th>\n",
       "      <td>1619.0</td>\n",
       "      <td>d2gi</td>\n",
       "      <td>6</td>\n",
       "    </tr>\n",
       "    <tr>\n",
       "      <th>13998</th>\n",
       "      <td>1629.0</td>\n",
       "      <td>d2gi</td>\n",
       "      <td>6</td>\n",
       "    </tr>\n",
       "    <tr>\n",
       "      <th>13999</th>\n",
       "      <td>1620.0</td>\n",
       "      <td>d2gi</td>\n",
       "      <td>6</td>\n",
       "    </tr>\n",
       "  </tbody>\n",
       "</table>\n",
       "<p>14000 rows × 3 columns</p>\n",
       "</div>"
      ],
      "text/plain": [
       "        Value System  Simulation\n",
       "0      1639.0   d2go           1\n",
       "1      1579.0   d2go           1\n",
       "2      1567.0   d2go           1\n",
       "3      1539.0   d2go           1\n",
       "4      1579.0   d2go           1\n",
       "...       ...    ...         ...\n",
       "13995  1564.0   d2gi           6\n",
       "13996  1586.0   d2gi           6\n",
       "13997  1619.0   d2gi           6\n",
       "13998  1629.0   d2gi           6\n",
       "13999  1620.0   d2gi           6\n",
       "\n",
       "[14000 rows x 3 columns]"
      ]
     },
     "execution_count": 5,
     "metadata": {},
     "output_type": "execute_result"
    }
   ],
   "source": [
    "df"
   ]
  },
  {
   "cell_type": "code",
   "execution_count": 6,
   "metadata": {},
   "outputs": [
    {
     "data": {
      "image/png": "[encoded data removed]",
      "text/plain": [
       "<Figure size 406.725x288 with 1 Axes>"
      ]
     },
     "metadata": {
      "needs_background": "light"
     },
     "output_type": "display_data"
    }
   ],
   "source": [
    "g = sns.catplot(x=\"Simulation\", y=\"Value\",\n",
    "                hue=\"System\",\n",
    "                data=df, kind=\"bar\",\n",
    "                height=4, aspect=1.2);"
   ]
  }
 ],
 "metadata": {
  "kernelspec": {
   "display_name": "Python 3",
   "language": "python",
   "name": "python3"
  },
  "language_info": {
   "codemirror_mode": {
    "name": "ipython",
    "version": 3
   },
   "file_extension": ".py",
   "mimetype": "text/x-python",
   "name": "python",
   "nbconvert_exporter": "python",
   "pygments_lexer": "ipython3",
   "version": "3.7.6"
  }
 },
 "nbformat": 4,
 "nbformat_minor": 4
}
